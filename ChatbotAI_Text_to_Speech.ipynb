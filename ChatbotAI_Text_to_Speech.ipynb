{
  "cells": [
    {
      "cell_type": "markdown",
      "metadata": {
        "id": "view-in-github",
        "colab_type": "text"
      },
      "source": [
        "<a href=\"https://colab.research.google.com/github/Ayususanti/Studi-Independen-Coding/blob/main/ChatbotAI_Text_to_Speech.ipynb\" target=\"_parent\"><img src=\"https://colab.research.google.com/assets/colab-badge.svg\" alt=\"Open In Colab\"/></a>"
      ]
    },
    {
      "cell_type": "markdown",
      "metadata": {
        "id": "za1gVNL5CRGY"
      },
      "source": [
        "# AI Chatbot in Python\n",
        "> Chatbot sederhana ini menggunakan konsep sederhana penerapan Cosine Similarity\n",
        "\n",
        "> Disini program Chatbot dibuat dengan sesuai kebutuhan pengguna, jadi kita bisa memilih apakah harus membuat program ini bisa bekerja pada topik tertentu, misalnya untuk Chatbot berbasis Covid-19, atau yang lainnya yang sedang relevan."
      ]
    },
    {
      "cell_type": "code",
      "execution_count": 1,
      "metadata": {
        "id": "yE4rWjtACRGf"
      },
      "outputs": [],
      "source": [
        "#sumber materi : https://towardsdatascience.com/making-a-simple-and-fast-chatbot-in-10-minutes-2d84a4ba35e\n",
        "#https://youtu.be/9KZwRBg4-P0"
      ]
    },
    {
      "cell_type": "markdown",
      "metadata": {
        "id": "YZW2gMYW-ZBR"
      },
      "source": [
        "# Tools scraping Artikel\n",
        "\n",
        "Pada program kali ini kita akan mengambil teks dari internet menggunakan tools newspaper3k, dimana tools ini memiliki beberapa kelebihan yaitu:\n",
        "1. Kerangka kerja dalam mengunduh artikel yang multi-thread\n",
        "2. Dapat mengidentifikasi URL baru\n",
        "3. Mampu mengekstraksi teks dari HTML\n",
        "4. Terbaik dalam hal ekstraksi gambar dari HTML\n",
        "5. Mampu mengekstraksi semua gambar dari HTML\n",
        "6. Dapat mengekstraksi kata kunci dari teks\n",
        "7. Dapat mengekstrak ringkasan teks\n",
        "8. Dapat mengekstraksi nama penulis suatu artikel\n",
        "9. Dapat mengekstraksi istilah yang sedang trend di mesin pencarian Google\n",
        "10. Dapat bekerja lebih dari 10 bahasa (termasuk Inggris, Jerman, Arab, China, dll)"
      ]
    },
    {
      "cell_type": "code",
      "execution_count": 2,
      "metadata": {
        "colab": {
          "base_uri": "https://localhost:8080/"
        },
        "id": "Q9_mnPq6NPUy",
        "outputId": "07d1dbf1-9dfe-4a49-ccfe-ab74b4e78722"
      },
      "outputs": [
        {
          "output_type": "stream",
          "name": "stdout",
          "text": [
            "Collecting gtts\n",
            "  Downloading gTTS-2.2.4-py3-none-any.whl (26 kB)\n",
            "Requirement already satisfied: click in /usr/local/lib/python3.7/dist-packages (from gtts) (7.1.2)\n",
            "Requirement already satisfied: six in /usr/local/lib/python3.7/dist-packages (from gtts) (1.15.0)\n",
            "Requirement already satisfied: requests in /usr/local/lib/python3.7/dist-packages (from gtts) (2.23.0)\n",
            "Requirement already satisfied: idna<3,>=2.5 in /usr/local/lib/python3.7/dist-packages (from requests->gtts) (2.10)\n",
            "Requirement already satisfied: chardet<4,>=3.0.2 in /usr/local/lib/python3.7/dist-packages (from requests->gtts) (3.0.4)\n",
            "Requirement already satisfied: certifi>=2017.4.17 in /usr/local/lib/python3.7/dist-packages (from requests->gtts) (2021.10.8)\n",
            "Requirement already satisfied: urllib3!=1.25.0,!=1.25.1,<1.26,>=1.21.1 in /usr/local/lib/python3.7/dist-packages (from requests->gtts) (1.24.3)\n",
            "Installing collected packages: gtts\n",
            "Successfully installed gtts-2.2.4\n"
          ]
        }
      ],
      "source": [
        "!pip install gtts"
      ]
    },
    {
      "cell_type": "code",
      "execution_count": 3,
      "metadata": {
        "colab": {
          "base_uri": "https://localhost:8080/"
        },
        "id": "ye3nyhSyCRGi",
        "outputId": "0b96c701-4ea0-4138-b118-97dcb5ac4eba"
      },
      "outputs": [
        {
          "output_type": "stream",
          "name": "stdout",
          "text": [
            "Collecting newspaper3k\n",
            "  Downloading newspaper3k-0.2.8-py3-none-any.whl (211 kB)\n",
            "\u001b[?25l\r\u001b[K     |█▌                              | 10 kB 34.9 MB/s eta 0:00:01\r\u001b[K     |███                             | 20 kB 39.2 MB/s eta 0:00:01\r\u001b[K     |████▋                           | 30 kB 43.3 MB/s eta 0:00:01\r\u001b[K     |██████▏                         | 40 kB 29.8 MB/s eta 0:00:01\r\u001b[K     |███████▊                        | 51 kB 22.8 MB/s eta 0:00:01\r\u001b[K     |█████████▎                      | 61 kB 26.0 MB/s eta 0:00:01\r\u001b[K     |██████████▉                     | 71 kB 26.3 MB/s eta 0:00:01\r\u001b[K     |████████████▍                   | 81 kB 28.0 MB/s eta 0:00:01\r\u001b[K     |██████████████                  | 92 kB 30.3 MB/s eta 0:00:01\r\u001b[K     |███████████████▌                | 102 kB 31.3 MB/s eta 0:00:01\r\u001b[K     |█████████████████               | 112 kB 31.3 MB/s eta 0:00:01\r\u001b[K     |██████████████████▋             | 122 kB 31.3 MB/s eta 0:00:01\r\u001b[K     |████████████████████▏           | 133 kB 31.3 MB/s eta 0:00:01\r\u001b[K     |█████████████████████▊          | 143 kB 31.3 MB/s eta 0:00:01\r\u001b[K     |███████████████████████▎        | 153 kB 31.3 MB/s eta 0:00:01\r\u001b[K     |████████████████████████▉       | 163 kB 31.3 MB/s eta 0:00:01\r\u001b[K     |██████████████████████████▍     | 174 kB 31.3 MB/s eta 0:00:01\r\u001b[K     |████████████████████████████    | 184 kB 31.3 MB/s eta 0:00:01\r\u001b[K     |█████████████████████████████▌  | 194 kB 31.3 MB/s eta 0:00:01\r\u001b[K     |███████████████████████████████ | 204 kB 31.3 MB/s eta 0:00:01\r\u001b[K     |████████████████████████████████| 211 kB 31.3 MB/s \n",
            "\u001b[?25hCollecting jieba3k>=0.35.1\n",
            "  Downloading jieba3k-0.35.1.zip (7.4 MB)\n",
            "\u001b[K     |████████████████████████████████| 7.4 MB 69.6 MB/s \n",
            "\u001b[?25hRequirement already satisfied: python-dateutil>=2.5.3 in /usr/local/lib/python3.7/dist-packages (from newspaper3k) (2.8.2)\n",
            "Requirement already satisfied: requests>=2.10.0 in /usr/local/lib/python3.7/dist-packages (from newspaper3k) (2.23.0)\n",
            "Requirement already satisfied: Pillow>=3.3.0 in /usr/local/lib/python3.7/dist-packages (from newspaper3k) (7.1.2)\n",
            "Collecting cssselect>=0.9.2\n",
            "  Downloading cssselect-1.1.0-py2.py3-none-any.whl (16 kB)\n",
            "Collecting tldextract>=2.0.1\n",
            "  Downloading tldextract-3.2.1-py3-none-any.whl (87 kB)\n",
            "\u001b[K     |████████████████████████████████| 87 kB 9.2 MB/s \n",
            "\u001b[?25hRequirement already satisfied: lxml>=3.6.0 in /usr/local/lib/python3.7/dist-packages (from newspaper3k) (4.2.6)\n",
            "Requirement already satisfied: nltk>=3.2.1 in /usr/local/lib/python3.7/dist-packages (from newspaper3k) (3.2.5)\n",
            "Collecting feedfinder2>=0.0.4\n",
            "  Downloading feedfinder2-0.0.4.tar.gz (3.3 kB)\n",
            "Collecting tinysegmenter==0.3\n",
            "  Downloading tinysegmenter-0.3.tar.gz (16 kB)\n",
            "Collecting feedparser>=5.2.1\n",
            "  Downloading feedparser-6.0.8-py3-none-any.whl (81 kB)\n",
            "\u001b[K     |████████████████████████████████| 81 kB 13.0 MB/s \n",
            "\u001b[?25hRequirement already satisfied: PyYAML>=3.11 in /usr/local/lib/python3.7/dist-packages (from newspaper3k) (3.13)\n",
            "Requirement already satisfied: beautifulsoup4>=4.4.1 in /usr/local/lib/python3.7/dist-packages (from newspaper3k) (4.6.3)\n",
            "Requirement already satisfied: six in /usr/local/lib/python3.7/dist-packages (from feedfinder2>=0.0.4->newspaper3k) (1.15.0)\n",
            "Collecting sgmllib3k\n",
            "  Downloading sgmllib3k-1.0.0.tar.gz (5.8 kB)\n",
            "Requirement already satisfied: certifi>=2017.4.17 in /usr/local/lib/python3.7/dist-packages (from requests>=2.10.0->newspaper3k) (2021.10.8)\n",
            "Requirement already satisfied: chardet<4,>=3.0.2 in /usr/local/lib/python3.7/dist-packages (from requests>=2.10.0->newspaper3k) (3.0.4)\n",
            "Requirement already satisfied: idna<3,>=2.5 in /usr/local/lib/python3.7/dist-packages (from requests>=2.10.0->newspaper3k) (2.10)\n",
            "Requirement already satisfied: urllib3!=1.25.0,!=1.25.1,<1.26,>=1.21.1 in /usr/local/lib/python3.7/dist-packages (from requests>=2.10.0->newspaper3k) (1.24.3)\n",
            "Collecting requests-file>=1.4\n",
            "  Downloading requests_file-1.5.1-py2.py3-none-any.whl (3.7 kB)\n",
            "Requirement already satisfied: filelock>=3.0.8 in /usr/local/lib/python3.7/dist-packages (from tldextract>=2.0.1->newspaper3k) (3.6.0)\n",
            "Building wheels for collected packages: tinysegmenter, feedfinder2, jieba3k, sgmllib3k\n",
            "  Building wheel for tinysegmenter (setup.py) ... \u001b[?25l\u001b[?25hdone\n",
            "  Created wheel for tinysegmenter: filename=tinysegmenter-0.3-py3-none-any.whl size=13553 sha256=5a74c1c23c052e72119953d6bf0f253136975b5dda1b83a057c4cb49202764de\n",
            "  Stored in directory: /root/.cache/pip/wheels/df/67/41/faca10fa501ca010be41b49d40360c2959e1c4f09bcbfa37fa\n",
            "  Building wheel for feedfinder2 (setup.py) ... \u001b[?25l\u001b[?25hdone\n",
            "  Created wheel for feedfinder2: filename=feedfinder2-0.0.4-py3-none-any.whl size=3357 sha256=c2f679b9e8a4e3d15fca0ce654f379f9e5bffe4dc1dcb81198d66c421539e83b\n",
            "  Stored in directory: /root/.cache/pip/wheels/7f/d4/8f/6e2ca54744c9d7292d88ddb8d42876bcdab5e6d84a21c10346\n",
            "  Building wheel for jieba3k (setup.py) ... \u001b[?25l\u001b[?25hdone\n",
            "  Created wheel for jieba3k: filename=jieba3k-0.35.1-py3-none-any.whl size=7398404 sha256=89880d00c106193c200efaa2b494af96ee9a02ce7a9937ffc31455b3650a427f\n",
            "  Stored in directory: /root/.cache/pip/wheels/4c/91/46/3c208287b726df325a5979574324878b679116e4baae1af3c3\n",
            "  Building wheel for sgmllib3k (setup.py) ... \u001b[?25l\u001b[?25hdone\n",
            "  Created wheel for sgmllib3k: filename=sgmllib3k-1.0.0-py3-none-any.whl size=6066 sha256=c4790e1eff443d1be31eb12f7eab47928bddbaeddda0b99b88046d04c5e70195\n",
            "  Stored in directory: /root/.cache/pip/wheels/73/ad/a4/0dff4a6ef231fc0dfa12ffbac2a36cebfdddfe059f50e019aa\n",
            "Successfully built tinysegmenter feedfinder2 jieba3k sgmllib3k\n",
            "Installing collected packages: sgmllib3k, requests-file, tldextract, tinysegmenter, jieba3k, feedparser, feedfinder2, cssselect, newspaper3k\n",
            "Successfully installed cssselect-1.1.0 feedfinder2-0.0.4 feedparser-6.0.8 jieba3k-0.35.1 newspaper3k-0.2.8 requests-file-1.5.1 sgmllib3k-1.0.0 tinysegmenter-0.3 tldextract-3.2.1\n"
          ]
        }
      ],
      "source": [
        "!pip install newspaper3k"
      ]
    },
    {
      "cell_type": "code",
      "execution_count": 4,
      "metadata": {
        "id": "4FGmgeEECRGi"
      },
      "outputs": [],
      "source": [
        "# Import library\n",
        "from newspaper import Article\n",
        "import random\n",
        "import nltk\n",
        "import string\n",
        "from sklearn.feature_extraction.text import CountVectorizer\n",
        "from sklearn.metrics.pairwise import cosine_similarity\n",
        "import numpy as np\n",
        "import pandas as pd\n",
        "import warnings\n",
        "import re\n",
        "warnings.filterwarnings('ignore')\n",
        "\n",
        "from gtts import gTTS\n",
        "import IPython.display as ipd\n",
        "import time\n",
        "from io import BytesIO"
      ]
    },
    {
      "cell_type": "code",
      "execution_count": 5,
      "metadata": {
        "colab": {
          "base_uri": "https://localhost:8080/"
        },
        "id": "Sa8BD2nwCRGj",
        "outputId": "2ddea2c0-6b1b-45bb-cff3-637ea161a290"
      },
      "outputs": [
        {
          "output_type": "execute_result",
          "data": {
            "text/plain": [
              "True"
            ]
          },
          "metadata": {},
          "execution_count": 5
        }
      ],
      "source": [
        "nltk.download('punkt', quiet=True)"
      ]
    },
    {
      "cell_type": "markdown",
      "metadata": {
        "id": "LTnOWF68CRGk"
      },
      "source": [
        "# Proses 1 (Membuat korpus dengan mendownload artikel dari sebuah link)\n",
        "\n",
        "Link dapat diganti dengan link teks berbhasa Indonesia, tetapi kali ini kita mencoba menggunakan teks berbahasa Inggris terlebih dahulu. "
      ]
    },
    {
      "cell_type": "code",
      "execution_count": 6,
      "metadata": {
        "colab": {
          "base_uri": "https://localhost:8080/"
        },
        "id": "otZH3R0eCRGk",
        "outputId": "05273e50-26a5-4741-8255-d65cf6dbc83a"
      },
      "outputs": [
        {
          "output_type": "stream",
          "name": "stdout",
          "text": [
            "Learn more from kidney doctor Andrew Bentall, M.D.\n",
            "\n",
            "I'm Dr. Andrew Bentall, a kidney doctor at Mayo Clinic. I look after patients with kidney disease, either in the early stages, or with more advanced kidney disease considering dialysis and transplantation as treatment options. In this video, we'll cover the basics of chronic kidney disease. What is it? Who gets it? The symptoms, diagnosis and treatment. Whether you are looking for answers for yourself or for someone you love, we're here to give you the best information available.\n",
            "\n",
            "Chronic kidney disease is a disease characterized by progressive damage and loss of function in the kidneys. It's estimated that chronic kidney disease affects about one in seven American adults. And most of those don't know they have it. Before we get into the disease itself, let's talk a little bit about the kidneys and what they do. Our kidneys play many important roles keeping our bodies in balance. They remove waste and toxins, excess water from the bloodstream, which is carried out of the body in urine. They helped to make hormones to produce red blood cells, and they turn vitamin D into its active form, so it's usable in the body.\n",
            "\n",
            "There are quite a few things that can cause or put you at higher risk for chronic kidney disease. Some of them are not things that can be avoided. Your risk is simply higher if you have a family history of certain genetic conditions like polycystic kidney disease or some autoimmune diseases like lupus or IgA nephropathy. Defects in the kidney structure can also cause your kidneys to fail, and you have an increased risk as you get older. Sometimes, other common medical conditions can increase your risk. Diabetes is the most common cause of kidney disease. Both type 1 and type 2 diabetes. But also heart disease and obesity can contribute to the damage that causes kidneys to fail. Urinary tract issues and inflammation in different parts of the kidney can also lead to long-term functional decline. There are things that are more under our control: Heavy or long-term use of certain medications, even those that are common over-the-counter. Smoking can also be a contributing factor to chronic kidney disease.\n",
            "\n",
            "Often there are no outward signs in the earlier stages of chronic kidney disease, which is grouped into stages 1 through 5. Generally, earlier stages are known as 1 to 3. And as kidney disease progresses, you may notice the following symptoms. Nausea and vomiting, muscle cramps, loss of appetite, swelling via feet and ankles, dry, itchy skin, shortness of breath, trouble sleeping, urinating either too much or too little. However, these are usually in the later stages, but they can also happen in other disorders. So don't automatically interpret this as having kidney disease. But if you're experiencing anything that concerns you, you should make an appointment with your doctor.\n",
            "\n",
            "Even before any symptoms appear, routine blood work can indicate that you might be in the early stages of chronic kidney disease. And the earlier it's detected, the easier it is to treat. This is why regular checkups with your doctor are important. If your doctor suspects the onset of chronic kidney disease, they may schedule a variety of other tests. They may also refer you to a kidney specialist, a nephrologist like myself. Urine tests can reveal abnormalities and give clues to the underlying cause of the chronic kidney disease. And this can also help to determine the underlying issues. Various imaging tests like ultrasounds or CT scans can be done to help your doctor assess the size, the structure, as well as evaluate the visible damage, inflammation or stones of your kidneys. And in some cases, a kidney biopsy may be necessary. And a small amount of tissue is taken with a needle and sent to the pathologist for further analysis.\n",
            "\n",
            "Treatment is determined by what is causing your kidneys to not function normally. Treating the cause is key, leading to reduced complications and slowing progression of kidney disease. For example, getting better blood pressure control, improved sugar control and diabetes, and reducing weight are often key interventions. However, existing damage is not usually reversible. In some conditions, treatment can reverse the cause of the disease. So seeking medical review is really important. Individual complications vary, but treatment might include high blood pressure medication, diuretics to reduce fluid and swelling, supplements to relieve anemia, statins to lower cholesterol, or medications to protect your bones and prevent blood vessel calcification. A lower-protein diet may also be recommended. It reduces the amount of waste your kidneys need to filter from your blood. These can not only slow the damage of kidney disease, but make you feel better as well. When the damage has progressed to the point that 85 to 90 percent of your kidney function is gone, and they no longer work well enough to keep you alive, it's called end-stage kidney failure. But there are still options. There's dialysis, which uses a machine to filter the toxins and remove water from your body as your kidneys are no longer able to do this. Where possible, the preferred therapy is a kidney transplant. While an organ transplant can sound daunting, it's actually often the better alternative, and the closest thing to a cure, if you qualify for a kidney transplant.\n",
            "\n",
            "If you have kidney disease, there are lifestyle choices. Namely quit smoking. Consuming alcohol in moderation. If you're overweight or obese, then try to lose weight. Staying active and getting exercise can help not only with your weight, but fatigue and stress. If your condition allows, keep up with your routine, whether that's working, hobbies, social activities, or other things you enjoy. It can be helpful to talk to someone you trust, a friend or relative who's good at listening. Or your doctor could also refer you to a therapist or social worker. It can also be helpful to find a support group and connect with people going through the same thing. Learning you have chronic kidney disease and learning how to live with it can be a challenge. But there are lots of ways to help you to be more comfortable for longer before more drastic measures are needed. And even then, there is plenty of hope. If you'd like to learn even more about chronic kidney disease, watch our other related videos or visit mayoclinic.org. We wish you well.\n"
          ]
        }
      ],
      "source": [
        "article = Article('https://www.mayoclinic.org/diseases-conditions/chronic-kidney-disease/symptoms-causes/syc-20354521')\n",
        "article.download()\n",
        "article.parse()\n",
        "article.nlp()\n",
        "corpus = article.text\n",
        "print(corpus)"
      ]
    },
    {
      "cell_type": "markdown",
      "metadata": {
        "id": "bGmRAQ9WCRGl"
      },
      "source": [
        "# Proses 2 (Tokenization)"
      ]
    },
    {
      "cell_type": "code",
      "execution_count": 7,
      "metadata": {
        "colab": {
          "base_uri": "https://localhost:8080/"
        },
        "id": "vh1UaZ3kCRGl",
        "outputId": "7bbae2fd-828b-48af-e853-7fe62ce9fc49"
      },
      "outputs": [
        {
          "output_type": "stream",
          "name": "stdout",
          "text": [
            "['Learn more from kidney doctor Andrew Bentall, M.D.', \"I'm Dr. Andrew Bentall, a kidney doctor at Mayo Clinic.\", 'I look after patients with kidney disease, either in the early stages, or with more advanced kidney disease considering dialysis and transplantation as treatment options.', \"In this video, we'll cover the basics of chronic kidney disease.\", 'What is it?', 'Who gets it?', 'The symptoms, diagnosis and treatment.', \"Whether you are looking for answers for yourself or for someone you love, we're here to give you the best information available.\", 'Chronic kidney disease is a disease characterized by progressive damage and loss of function in the kidneys.', \"It's estimated that chronic kidney disease affects about one in seven American adults.\", \"And most of those don't know they have it.\", \"Before we get into the disease itself, let's talk a little bit about the kidneys and what they do.\", 'Our kidneys play many important roles keeping our bodies in balance.', 'They remove waste and toxins, excess water from the bloodstream, which is carried out of the body in urine.', \"They helped to make hormones to produce red blood cells, and they turn vitamin D into its active form, so it's usable in the body.\", 'There are quite a few things that can cause or put you at higher risk for chronic kidney disease.', 'Some of them are not things that can be avoided.', 'Your risk is simply higher if you have a family history of certain genetic conditions like polycystic kidney disease or some autoimmune diseases like lupus or IgA nephropathy.', 'Defects in the kidney structure can also cause your kidneys to fail, and you have an increased risk as you get older.', 'Sometimes, other common medical conditions can increase your risk.', 'Diabetes is the most common cause of kidney disease.', 'Both type 1 and type 2 diabetes.', 'But also heart disease and obesity can contribute to the damage that causes kidneys to fail.', 'Urinary tract issues and inflammation in different parts of the kidney can also lead to long-term functional decline.', 'There are things that are more under our control: Heavy or long-term use of certain medications, even those that are common over-the-counter.', 'Smoking can also be a contributing factor to chronic kidney disease.', 'Often there are no outward signs in the earlier stages of chronic kidney disease, which is grouped into stages 1 through 5.', 'Generally, earlier stages are known as 1 to 3.', 'And as kidney disease progresses, you may notice the following symptoms.', 'Nausea and vomiting, muscle cramps, loss of appetite, swelling via feet and ankles, dry, itchy skin, shortness of breath, trouble sleeping, urinating either too much or too little.', 'However, these are usually in the later stages, but they can also happen in other disorders.', \"So don't automatically interpret this as having kidney disease.\", \"But if you're experiencing anything that concerns you, you should make an appointment with your doctor.\", 'Even before any symptoms appear, routine blood work can indicate that you might be in the early stages of chronic kidney disease.', \"And the earlier it's detected, the easier it is to treat.\", 'This is why regular checkups with your doctor are important.', 'If your doctor suspects the onset of chronic kidney disease, they may schedule a variety of other tests.', 'They may also refer you to a kidney specialist, a nephrologist like myself.', 'Urine tests can reveal abnormalities and give clues to the underlying cause of the chronic kidney disease.', 'And this can also help to determine the underlying issues.', 'Various imaging tests like ultrasounds or CT scans can be done to help your doctor assess the size, the structure, as well as evaluate the visible damage, inflammation or stones of your kidneys.', 'And in some cases, a kidney biopsy may be necessary.', 'And a small amount of tissue is taken with a needle and sent to the pathologist for further analysis.', 'Treatment is determined by what is causing your kidneys to not function normally.', 'Treating the cause is key, leading to reduced complications and slowing progression of kidney disease.', 'For example, getting better blood pressure control, improved sugar control and diabetes, and reducing weight are often key interventions.', 'However, existing damage is not usually reversible.', 'In some conditions, treatment can reverse the cause of the disease.', 'So seeking medical review is really important.', 'Individual complications vary, but treatment might include high blood pressure medication, diuretics to reduce fluid and swelling, supplements to relieve anemia, statins to lower cholesterol, or medications to protect your bones and prevent blood vessel calcification.', 'A lower-protein diet may also be recommended.', 'It reduces the amount of waste your kidneys need to filter from your blood.', 'These can not only slow the damage of kidney disease, but make you feel better as well.', \"When the damage has progressed to the point that 85 to 90 percent of your kidney function is gone, and they no longer work well enough to keep you alive, it's called end-stage kidney failure.\", 'But there are still options.', \"There's dialysis, which uses a machine to filter the toxins and remove water from your body as your kidneys are no longer able to do this.\", 'Where possible, the preferred therapy is a kidney transplant.', \"While an organ transplant can sound daunting, it's actually often the better alternative, and the closest thing to a cure, if you qualify for a kidney transplant.\", 'If you have kidney disease, there are lifestyle choices.', 'Namely quit smoking.', 'Consuming alcohol in moderation.', \"If you're overweight or obese, then try to lose weight.\", 'Staying active and getting exercise can help not only with your weight, but fatigue and stress.', \"If your condition allows, keep up with your routine, whether that's working, hobbies, social activities, or other things you enjoy.\", \"It can be helpful to talk to someone you trust, a friend or relative who's good at listening.\", 'Or your doctor could also refer you to a therapist or social worker.', 'It can also be helpful to find a support group and connect with people going through the same thing.', 'Learning you have chronic kidney disease and learning how to live with it can be a challenge.', 'But there are lots of ways to help you to be more comfortable for longer before more drastic measures are needed.', 'And even then, there is plenty of hope.', \"If you'd like to learn even more about chronic kidney disease, watch our other related videos or visit mayoclinic.org.\", 'We wish you well.']\n"
          ]
        }
      ],
      "source": [
        "# Tokenization\n",
        "text = corpus\n",
        "sentence_list = nltk.sent_tokenize(text) #A list of senetences\n",
        "\n",
        "# Print the list of sentences\n",
        "print(sentence_list)\n"
      ]
    },
    {
      "cell_type": "markdown",
      "metadata": {
        "id": "A0kZDPHxCRGm"
      },
      "source": [
        "# Proses 3 (Bot Response)\n",
        "\n",
        "Bot respon digunakan untuk membuat sebuah percakapan awal antara pengguna dengan bot, jadi disini user dapat menyapa bot, nah untuk kata-kata dapat diganti sesuai dengan kebutuhan, misalnya bahasa indonesia. \n",
        "\n",
        "Pada percakapan awal tidak menggunakan ML atau metode lainnya, program hanya menjawab dengan kata yang di cocokkan sebagai input."
      ]
    },
    {
      "cell_type": "code",
      "execution_count": 8,
      "metadata": {
        "id": "qII0gu1dCRGm"
      },
      "outputs": [],
      "source": [
        "#a function to return a random greeting response to a users greeting\n",
        "def greeting_response(text):\n",
        "    text = text.lower()\n",
        "    \n",
        "    #Bots greeting respone\n",
        "    bot_greetings = ['howdy','hi','hello','hola']\n",
        "    \n",
        "    #Users greeting\n",
        "    user_greetings = ['hi','hey','hello','greetings','wassup']\n",
        "    \n",
        "    for word in text.split():\n",
        "        if word in user_greetings:\n",
        "            return random.choice(bot_greetings)\n",
        "        \n",
        "    #Random response to greeting\n",
        "    def gratitude_response(text):\n",
        "        text=text.lower()\n",
        "   \n"
      ]
    },
    {
      "cell_type": "markdown",
      "metadata": {
        "id": "AZEgMQCr_HtI"
      },
      "source": [
        "1. Pada list kode bot_greetings itu bentuk kata sapaan bot terhadap sapaan yang kita berikan, dan dapat diganti dengan bahasa Indonesia atau lainnya.\n",
        "2. Sedangkan, pada list user_greetings itu kata sapaan input dari user dan dapat diganti dengan bahasa lainnya."
      ]
    },
    {
      "cell_type": "markdown",
      "metadata": {
        "id": "oTHbuHoO_SXL"
      },
      "source": [
        "# Sorting List"
      ]
    },
    {
      "cell_type": "code",
      "execution_count": 9,
      "metadata": {
        "id": "ZQnYG5nQCRGn"
      },
      "outputs": [],
      "source": [
        " def index_sort(list_var):\n",
        "    length = len(list_var)\n",
        "    list_index = list(range(0, length))\n",
        "    \n",
        "    x = list_var        \n",
        "    for i in range(length):\n",
        "        for j in range(length):\n",
        "            if x[list_index[i]] > x[list_index[j]]:\n",
        "                #swap\n",
        "                temp = list_index[i]\n",
        "                list_index[i] = list_index[j]\n",
        "                list_index[j] = temp\n",
        "                \n",
        "    return list_index"
      ]
    },
    {
      "cell_type": "markdown",
      "metadata": {
        "id": "tIuiijdc_YZ2"
      },
      "source": [
        "# Chatbot Respon Menggunakan Cosine Similarity\n",
        "\n",
        "Pada respon bot menggunakan teknis Cosine Similarity untuk menghitung kata yang cocok dengan yang di input user terhadap respon dari Bot"
      ]
    },
    {
      "cell_type": "code",
      "execution_count": 10,
      "metadata": {
        "id": "VrBJ58bvCRGn"
      },
      "outputs": [],
      "source": [
        "# Creat Bots Response\n",
        "def bot_response(user_input):\n",
        "    user_input=user_input.lower()\n",
        "    sentence_list.append(user_input)\n",
        "    bot_response= ''\n",
        "    cm=CountVectorizer().fit_transform(sentence_list)\n",
        "    similarity_scores=cosine_similarity(cm[-1],cm)\n",
        "    similarity_scores_list=similarity_scores.flatten()\n",
        "    index=index_sort(similarity_scores_list)\n",
        "    index=index[1:]\n",
        "    response_flag=0\n",
        "    \n",
        "    j=0\n",
        "    for i in range(len(index)):\n",
        "        if similarity_scores_list[index[i]]>0.0:\n",
        "            bot_response=bot_response+' '+sentence_list[index[i]]\n",
        "            response_flag=1\n",
        "            j=j+1\n",
        "        if j>2:\n",
        "            break\n",
        "\n",
        "        if response_flag==0:\n",
        "            bot_response=bot_response+\" \"+\"I apologize, I dont understand\"\n",
        "\n",
        "        sentence_list.remove(user_input) \n",
        "\n",
        "        return bot_response"
      ]
    },
    {
      "cell_type": "markdown",
      "metadata": {
        "id": "2fvjGhBU_nyk"
      },
      "source": [
        "Pada listing kode >bot_response=bot_response+\" \"+\"I apologize, I dont understand\" pada list kode ini kata I apologize tujuannya untuk memberikan respon karena sistem tidak mengenali kata yang kita input, jadi sebagai bentuk respon bot kepada user. Kata tersebut bisa diganti dengan bahasa Indonesia, misalnya \"Maaf saya tidak mengetahui arti atau tidak mengenali kata-kata yang di input\"."
      ]
    },
    {
      "cell_type": "markdown",
      "metadata": {
        "id": "8-C33RGuCRGo"
      },
      "source": [
        "# Proses 4 (End Process, Making chat box)"
      ]
    },
    {
      "cell_type": "code",
      "execution_count": 12,
      "metadata": {
        "colab": {
          "base_uri": "https://localhost:8080/"
        },
        "id": "7GTB7h9TCRGo",
        "outputId": "fee1d33f-1aa1-4103-fb2c-72a5c1d430fd"
      },
      "outputs": [
        {
          "output_type": "stream",
          "name": "stdout",
          "text": [
            "Doc Bot: I am DOc bot and I will answer your queries about chronic kidney disease, if you want to exit type, bye  ?\n",
            "bye\n",
            "Doc Bot: Bye Bye See you later\n"
          ]
        }
      ],
      "source": [
        "#Start Chat\n",
        "print(\"Doc Bot: I am DOc bot and I will answer your queries about chronic kidney disease, if you want to exit type, bye  ?\")\n",
        "\n",
        "exit_list=['exit','bye','see you later','quit']\n",
        "\n",
        "while(True):\n",
        "    user_input=input()\n",
        "\n",
        "    if user_input.lower() in exit_list:\n",
        "        print('Doc Bot: Bye Bye See you later')\n",
        "        break\n",
        "    else:\n",
        "        if greeting_response(user_input)!= None:\n",
        "            print('Doc Bot: '+ greeting_response(user_input))\n",
        "        else:\n",
        "            print('Doc Bot: '+ bot_response(user_input))\n",
        "            tts = gTTS(bot_response(user_input), lang='en')\n",
        "            tts.save('mantap.wav')\n",
        "            time.sleep(0.08)\n",
        "            print(\"Kamu:\\n\")\n",
        "            ipd.display(ipd.Audio('mantap.wav', autoplay=True))\n",
        "            \n",
        "            print(\"=\"*60 + \"\\n\")"
      ]
    },
    {
      "cell_type": "markdown",
      "metadata": {
        "id": "WavLomgtHxRI"
      },
      "source": [
        "Doc Bot ganti dengan ini atau sesuai dengan topik yang lagi di bahas, print(\"Doc Bot: Mau nanya apa kamu tentang kabel laut?\")"
      ]
    },
    {
      "cell_type": "code",
      "execution_count": 13,
      "metadata": {
        "id": "WWdOizj-CRGp"
      },
      "outputs": [],
      "source": [
        "#buat pertanyaan pada kolom diatas seperti : what is chronic kidney disease?, dll."
      ]
    },
    {
      "cell_type": "markdown",
      "metadata": {
        "id": "zJ5gxzVCgftf"
      },
      "source": [
        "---\n",
        "# AI Chatbot Versi Bahasa **Indonesia**\n",
        "# Proses 1 (Making Corpus with Download an Article)"
      ]
    },
    {
      "cell_type": "code",
      "execution_count": 14,
      "metadata": {
        "id": "FYT3-ERtgjjS",
        "colab": {
          "base_uri": "https://localhost:8080/"
        },
        "outputId": "9832863a-189a-4b97-93e1-0f8795ef9fed"
      },
      "outputs": [
        {
          "output_type": "stream",
          "name": "stdout",
          "text": [
            "Telkomsel, Indihome, dan Kabel Laut JaSuKa\n",
            "\n",
            "Pada hari Minggu lalu (19 September 2021), terjadi gangguan jaringan internet pada Telkomsel dan Indihome. Gangguan tersebut menyebabkan penurunan kualitas layanan TelkomGroup baik fixed maupun mobile broadband di beberapa wilayah Indonesia. Di masa pandemi yang menuntut orang untuk berada di rumah seperti ini, gangguan internet tentu menjadi masalah besar. Berbagai kegiatan penting seperti Seleksi Kompetensi Dasar (SKD) CPNS mengalami penundaan. Netizen pun banyak berkomentar negatif terkait hal ini. Saat artikel ini dirilis, gangguan tersebut mungkin belum benar-benar terselesaikan.\n",
            "\n",
            "Gangguan tersebut disebabkan oleh masalah pada sistem komunikasi kabel laut JaSuKa (Jawa, Sumatera dan Kalimantan) ruas Batam-Pontianak. Telkom memperkirakan proses perbaikan kabel laut yang terganggu akan berlangsung sekitar sebulan. Meski begitu, Telkom mencoba berbagai alternatif agar jaringan internet tetap dapat berjalan sebaik mungkin, meski tentu tidak sebaik ketika kondisi normal.\n",
            "\n",
            "Bagaimana pun juga, gangguan ini membuat banyak orang bertanya-tanya, “Apa hubungannya kabel di laut dengan internet?”, “Kenapa jaringan internet itu malah lewat kabel laut?”, “Kenapa nggak pakai satelit aja?”, “Kenapa jaringannya tidak segera membaik?”, dan lainnya. Artikel singkat ini akan mencoba membahas sedikit terkait hal itu.\n",
            "\n",
            "Ya, Internet itu ada di Bawah Laut\n",
            "\n",
            "Internet sering diasosiasikan dengan kata cloud atau wireless sehingga kita merasa bahwa internet itu dibawa oleh udara di sekitar kita. Ketika kita mendengar kata “jaringan internet”, yang terbayang mungkin gelombang antara menara pemancar di Bumi dengan satelit di angkasa. Itu tidak sepenuhnya salah. Internet memang ada di sekitar kita dan satelit memegang peran penting untuk itu. Namun, persepsi itu membuat kita melupakan bagian lain dari internet. Bagian terpenting yang sangat vital namun tidak akan pernah kita lihat, yaitu kabel laut. Sebelumnya, perlu kita ketahui bersama bahwa:\n",
            "\n",
            "99% Komunikasi Data Internasional itu Melalui Kabel Laut\n",
            "\n",
            "Itu adalah kalimat yang sudah banyak disampaikan di berbagai media massa, namun sepertinya masih belum banyak diketahui masyarakat umum. Lebih detailnya lagi, hanya sekitar 300 kabel bawah laut yang bertanggung jawab terhadap 99% lalu lintas komunikasi data internasional.\n",
            "\n",
            "Jaringan Kabel Laut di Dunia – www.submarinecablemap.com\n",
            "\n",
            "Gambar di atas merupakan jaringan kabel laut di dunia yang dapat diakses di www.submarinecablemap.com. Di sana, kita tidak hanya bisa melihat jaringan kabel secara keseluruhan, namun juga melihat lebih detail terkait salah satu kabel yang ada. Dari gambar di atas, jaringannya memang terlihat sangat banyak dan sangat rumit. Namun, kita perlu ingat bahwa komunikasi yang senantiasa terjadi di internet itu juga sangat banyak dan sangat rumit, jauh lebih banyak dan lebih rumit dari yang bisa kita bayangkan.\n",
            "\n",
            "Ketika kita mengirim satu chat ke teman di samping kita misalnya. Bisa jadi chat kita akan menempuh perjalanan yang amat sangat jauh. Mulai dari puluhan kilometer jalur darat secara wireless, kemudian melalui ribuan kilometer kabel laut, menuju ke data center di China atau Amerika, lalu kembali lagi ke Indonesia melalui kabel laut, dan sampai ke teman di samping kita secara wireless. Itu salah satu skenario yang mungkin terjadi, bisa saja jauh lebih pendek atau jauh lebih panjang. Sebagai mahasiswa Teknik Elektro yang pernah sedikit mendalami internet, yang bisa penulis katakan terkait internet adalah “It’s never been simple”\n",
            "\n",
            "Mengenal Kabel Laut\n",
            "\n",
            "Ketika mendengar bahwa 99% internet itu melewati kabel laut, apa bayangan kita terkait bentuk fisik dari kabel laut itu? Ukurannya mungkin memang sangat bervariasi, namun gambar berikut bisa memberikan gambaran bahwa ukuran kabelnya bisa jadi hanya sekecil ini\n",
            "\n",
            "Isi dari Kabel Laut – 99percentinvisible.org\n",
            "\n",
            "Hampir seluruh luasannya digunakan sebagai pelindung. Bagian yang mengalirkan informasi adalah fiber optik yang ukurannya tidak berbeda jauh dari sehelai rambut kita. Meski sangat kecil, dia mampu membawa informasi dengan sangat cepat, mendekati kecepatan cahaya. Itu karena informasi dibawa bukan sebagai sinyal listrik seperti kabel di rumah, namun sebagai sinyal cahaya. Kapasitasnya juga sangat besar, satu helai saja bisa memiliki kapasitas 100 gigabit per sekon. [Baca: Dasar Komunikasi Fiber Optik dan FTTH (Fiber To The Home)]\n",
            "\n",
            "Dengan itu semua, kabel laut jauh lebih cepat daripada satelit. Itu karena satelit yang biasanya digunakan untuk internet berada puluhan ribu kilometer di atas kita. Sementara itu, jalur melalui laut tidak akan lebih dari belasan ribu kilometer saja. Kapasitas transfer data dari satelit juga jauh lebih sulit untuk ditingkatkan dibanding kabel laut. Maka, meski keduanya memanfaatkan kecepatan cahaya, secara umum kabel laut tetap jauh lebih cepat daripada satelit. (Baca: SpaceX Luncurkan 60 Satelit Penyedia Internet Starlink)\n",
            "\n",
            "Namun, kabel laut juga memiliki banyak masalah. Banyak pihak yang menyebutkan bahwa kabel laut yang menjadi tulang punggung internet kita ini sebenarnya sangatlah rentan. Kabel laut dapat mengalami masalah akibat faktor alam, namun ini hanya mencakup 14 persen saja. Association of Sea Cable Communication Systems menyebutkan bahwa sebanyak 47% gangguan kabel laut disebabkan oleh jangkar kapal. Sementara itu, 28% disebabkan oleh sektor perikanan yang menggunakan FAD (fish aggregating devices). Di Indonesia pun, jangkar juga menjadi penyebab gangguan kabel terbesar. Hal itu mengingat lautan Indonesia juga sering dilewati banyak kapal.\n",
            "\n",
            "Jaringan Kabel Laut di Indonesia\n",
            "\n",
            "Kabel laut yang ada di negeri kita juga cukup banyak. Hal itu dapat dilihat pada Gambar berikut yang juga didapatkan dari www.submarinecablemap.com. Pada Gambar ini, jaringan kabel JaSuKa yang dimiliki Telkom Indonesia terlihat berwarna biru tua dan menghubungkan berbagai titik di Jawa, Sumatera, dan Kalimantan. JaSuKa memiliki total panjang hampir 11 ribu kilometer dan disebut menjadi salah satu yang terpanjang di dunia.\n",
            "\n",
            "Jaringan Kabel Laut di Indonesia – www.submarinecablemap.com\n",
            "\n",
            "Kabel laut memang jauh lebih murah daripada satelit, namun tetap saja tidak mudah dan tidak sederhana. Baik perencanaan maupun pengelolaannya memerlukan banyak pengorbanan. Ini wajar saja mengingat dunia bawah laut sangatlah kompleks dan penuh dengan berbagai hal yang tak terduga. Perlu diketahui pula bahwa setiap beberapa puluh kilometer, perlu terdapat repeater untuk menguatkan kembali sinyal cahaya yang telah melemah. Melihat kompleksitas itu, wajar saja jika perbaikan gangguan tidak bisa selesai dalam satu malam.\n",
            "\n",
            "Meski demikian, sistem yang besar umumnya memiliki berbagai alternatif jika sistem utamanya gagal. Hal ini juga kita dengar dari pihak Telkom, bahwa jalur backup dan alternatif telah diaktifkan untuk destinasi utama tertentu. Berbagai hal teknis yang tidak akan dipahami masyarakat umum pasti juga telah dilakukan.\n",
            "\n",
            "Bagaimana pun juga, gangguan ini menunjukan pada kita semua bahwa sistem internet di Indonesia sebenarnya masih belum kuat dan sangat rentan, apalagi jika kita meninjau Indonesia Timur. Di satu sisi, masyarakat umum perlu menyadari bahwa sistem internet secara fisiknya memang sangat kompleks dan sangat rentan terhadap berbagai gangguan serta tidak bisa diperbaiki dengan mudah. Di sisi lain, berbagai pihak yang berpartisipasi langsung di dalamnya perlu terus melakukan evaluasi dan pengembangan agar sistem internet di negeri kita dapat menjadi lebih handal. (Baca: Analisis terhadap Kualitas Jaringan Internet Indonesia yang Memburuk)\n",
            "\n",
            "Referensi\n"
          ]
        }
      ],
      "source": [
        "article = Article('https://warstek.com/kabel-laut/')\n",
        "article.download()\n",
        "article.parse()\n",
        "article.nlp()\n",
        "corpus = article.text\n",
        "print(corpus)"
      ]
    },
    {
      "cell_type": "markdown",
      "metadata": {
        "id": "6KQ3Or6fiKxv"
      },
      "source": [
        "# Proses 2 (Tokenization)"
      ]
    },
    {
      "cell_type": "code",
      "execution_count": 15,
      "metadata": {
        "id": "qsID-u6Gg012",
        "colab": {
          "base_uri": "https://localhost:8080/"
        },
        "outputId": "52e8a6f5-3efb-4033-e71c-fecf43f6e2d3"
      },
      "outputs": [
        {
          "output_type": "stream",
          "name": "stdout",
          "text": [
            "['Telkomsel, Indihome, dan Kabel Laut JaSuKa\\n\\nPada hari Minggu lalu (19 September 2021), terjadi gangguan jaringan internet pada Telkomsel dan Indihome.', 'Gangguan tersebut menyebabkan penurunan kualitas layanan TelkomGroup baik fixed maupun mobile broadband di beberapa wilayah Indonesia.', 'Di masa pandemi yang menuntut orang untuk berada di rumah seperti ini, gangguan internet tentu menjadi masalah besar.', 'Berbagai kegiatan penting seperti Seleksi Kompetensi Dasar (SKD) CPNS mengalami penundaan.', 'Netizen pun banyak berkomentar negatif terkait hal ini.', 'Saat artikel ini dirilis, gangguan tersebut mungkin belum benar-benar terselesaikan.', 'Gangguan tersebut disebabkan oleh masalah pada sistem komunikasi kabel laut JaSuKa (Jawa, Sumatera dan Kalimantan) ruas Batam-Pontianak.', 'Telkom memperkirakan proses perbaikan kabel laut yang terganggu akan berlangsung sekitar sebulan.', 'Meski begitu, Telkom mencoba berbagai alternatif agar jaringan internet tetap dapat berjalan sebaik mungkin, meski tentu tidak sebaik ketika kondisi normal.', 'Bagaimana pun juga, gangguan ini membuat banyak orang bertanya-tanya, “Apa hubungannya kabel di laut dengan internet?”, “Kenapa jaringan internet itu malah lewat kabel laut?”, “Kenapa nggak pakai satelit aja?”, “Kenapa jaringannya tidak segera membaik?”, dan lainnya.', 'Artikel singkat ini akan mencoba membahas sedikit terkait hal itu.', 'Ya, Internet itu ada di Bawah Laut\\n\\nInternet sering diasosiasikan dengan kata cloud atau wireless sehingga kita merasa bahwa internet itu dibawa oleh udara di sekitar kita.', 'Ketika kita mendengar kata “jaringan internet”, yang terbayang mungkin gelombang antara menara pemancar di Bumi dengan satelit di angkasa.', 'Itu tidak sepenuhnya salah.', 'Internet memang ada di sekitar kita dan satelit memegang peran penting untuk itu.', 'Namun, persepsi itu membuat kita melupakan bagian lain dari internet.', 'Bagian terpenting yang sangat vital namun tidak akan pernah kita lihat, yaitu kabel laut.', 'Sebelumnya, perlu kita ketahui bersama bahwa:\\n\\n99% Komunikasi Data Internasional itu Melalui Kabel Laut\\n\\nItu adalah kalimat yang sudah banyak disampaikan di berbagai media massa, namun sepertinya masih belum banyak diketahui masyarakat umum.', 'Lebih detailnya lagi, hanya sekitar 300 kabel bawah laut yang bertanggung jawab terhadap 99% lalu lintas komunikasi data internasional.', 'Jaringan Kabel Laut di Dunia – www.submarinecablemap.com\\n\\nGambar di atas merupakan jaringan kabel laut di dunia yang dapat diakses di www.submarinecablemap.com.', 'Di sana, kita tidak hanya bisa melihat jaringan kabel secara keseluruhan, namun juga melihat lebih detail terkait salah satu kabel yang ada.', 'Dari gambar di atas, jaringannya memang terlihat sangat banyak dan sangat rumit.', 'Namun, kita perlu ingat bahwa komunikasi yang senantiasa terjadi di internet itu juga sangat banyak dan sangat rumit, jauh lebih banyak dan lebih rumit dari yang bisa kita bayangkan.', 'Ketika kita mengirim satu chat ke teman di samping kita misalnya.', 'Bisa jadi chat kita akan menempuh perjalanan yang amat sangat jauh.', 'Mulai dari puluhan kilometer jalur darat secara wireless, kemudian melalui ribuan kilometer kabel laut, menuju ke data center di China atau Amerika, lalu kembali lagi ke Indonesia melalui kabel laut, dan sampai ke teman di samping kita secara wireless.', 'Itu salah satu skenario yang mungkin terjadi, bisa saja jauh lebih pendek atau jauh lebih panjang.', 'Sebagai mahasiswa Teknik Elektro yang pernah sedikit mendalami internet, yang bisa penulis katakan terkait internet adalah “It’s never been simple”\\n\\nMengenal Kabel Laut\\n\\nKetika mendengar bahwa 99% internet itu melewati kabel laut, apa bayangan kita terkait bentuk fisik dari kabel laut itu?', 'Ukurannya mungkin memang sangat bervariasi, namun gambar berikut bisa memberikan gambaran bahwa ukuran kabelnya bisa jadi hanya sekecil ini\\n\\nIsi dari Kabel Laut – 99percentinvisible.org\\n\\nHampir seluruh luasannya digunakan sebagai pelindung.', 'Bagian yang mengalirkan informasi adalah fiber optik yang ukurannya tidak berbeda jauh dari sehelai rambut kita.', 'Meski sangat kecil, dia mampu membawa informasi dengan sangat cepat, mendekati kecepatan cahaya.', 'Itu karena informasi dibawa bukan sebagai sinyal listrik seperti kabel di rumah, namun sebagai sinyal cahaya.', 'Kapasitasnya juga sangat besar, satu helai saja bisa memiliki kapasitas 100 gigabit per sekon.', '[Baca: Dasar Komunikasi Fiber Optik dan FTTH (Fiber To The Home)]\\n\\nDengan itu semua, kabel laut jauh lebih cepat daripada satelit.', 'Itu karena satelit yang biasanya digunakan untuk internet berada puluhan ribu kilometer di atas kita.', 'Sementara itu, jalur melalui laut tidak akan lebih dari belasan ribu kilometer saja.', 'Kapasitas transfer data dari satelit juga jauh lebih sulit untuk ditingkatkan dibanding kabel laut.', 'Maka, meski keduanya memanfaatkan kecepatan cahaya, secara umum kabel laut tetap jauh lebih cepat daripada satelit.', '(Baca: SpaceX Luncurkan 60 Satelit Penyedia Internet Starlink)\\n\\nNamun, kabel laut juga memiliki banyak masalah.', 'Banyak pihak yang menyebutkan bahwa kabel laut yang menjadi tulang punggung internet kita ini sebenarnya sangatlah rentan.', 'Kabel laut dapat mengalami masalah akibat faktor alam, namun ini hanya mencakup 14 persen saja.', 'Association of Sea Cable Communication Systems menyebutkan bahwa sebanyak 47% gangguan kabel laut disebabkan oleh jangkar kapal.', 'Sementara itu, 28% disebabkan oleh sektor perikanan yang menggunakan FAD (fish aggregating devices).', 'Di Indonesia pun, jangkar juga menjadi penyebab gangguan kabel terbesar.', 'Hal itu mengingat lautan Indonesia juga sering dilewati banyak kapal.', 'Jaringan Kabel Laut di Indonesia\\n\\nKabel laut yang ada di negeri kita juga cukup banyak.', 'Hal itu dapat dilihat pada Gambar berikut yang juga didapatkan dari www.submarinecablemap.com.', 'Pada Gambar ini, jaringan kabel JaSuKa yang dimiliki Telkom Indonesia terlihat berwarna biru tua dan menghubungkan berbagai titik di Jawa, Sumatera, dan Kalimantan.', 'JaSuKa memiliki total panjang hampir 11 ribu kilometer dan disebut menjadi salah satu yang terpanjang di dunia.', 'Jaringan Kabel Laut di Indonesia – www.submarinecablemap.com\\n\\nKabel laut memang jauh lebih murah daripada satelit, namun tetap saja tidak mudah dan tidak sederhana.', 'Baik perencanaan maupun pengelolaannya memerlukan banyak pengorbanan.', 'Ini wajar saja mengingat dunia bawah laut sangatlah kompleks dan penuh dengan berbagai hal yang tak terduga.', 'Perlu diketahui pula bahwa setiap beberapa puluh kilometer, perlu terdapat repeater untuk menguatkan kembali sinyal cahaya yang telah melemah.', 'Melihat kompleksitas itu, wajar saja jika perbaikan gangguan tidak bisa selesai dalam satu malam.', 'Meski demikian, sistem yang besar umumnya memiliki berbagai alternatif jika sistem utamanya gagal.', 'Hal ini juga kita dengar dari pihak Telkom, bahwa jalur backup dan alternatif telah diaktifkan untuk destinasi utama tertentu.', 'Berbagai hal teknis yang tidak akan dipahami masyarakat umum pasti juga telah dilakukan.', 'Bagaimana pun juga, gangguan ini menunjukan pada kita semua bahwa sistem internet di Indonesia sebenarnya masih belum kuat dan sangat rentan, apalagi jika kita meninjau Indonesia Timur.', 'Di satu sisi, masyarakat umum perlu menyadari bahwa sistem internet secara fisiknya memang sangat kompleks dan sangat rentan terhadap berbagai gangguan serta tidak bisa diperbaiki dengan mudah.', 'Di sisi lain, berbagai pihak yang berpartisipasi langsung di dalamnya perlu terus melakukan evaluasi dan pengembangan agar sistem internet di negeri kita dapat menjadi lebih handal.', '(Baca: Analisis terhadap Kualitas Jaringan Internet Indonesia yang Memburuk)\\n\\nReferensi']\n"
          ]
        }
      ],
      "source": [
        "# Tokenization\n",
        "text = corpus\n",
        "sentence_list = nltk.sent_tokenize(text) #A list of senetences\n",
        "\n",
        "# Print the list of sentences\n",
        "print(sentence_list)"
      ]
    },
    {
      "cell_type": "code",
      "execution_count": 15,
      "metadata": {
        "id": "iq-tYfnBiS06"
      },
      "outputs": [],
      "source": [
        ""
      ]
    },
    {
      "cell_type": "code",
      "execution_count": 16,
      "metadata": {
        "id": "lYvkaKOHiia2"
      },
      "outputs": [],
      "source": [
        "#a function to return a random greeting response to a users greeting\n",
        "def greeting_response(text):\n",
        "    text = text.lower()\n",
        "    \n",
        "    #Bots greeting respone\n",
        "    bot_greetings = ['halo','hai','yuhuu','*eyebrows up*']\n",
        "    \n",
        "    #Users greeting\n",
        "    user_greetings = ['Haloo','Eh iyaa Haii','Hai','greetings','wassup']\n",
        "    \n",
        "    for word in text.split():\n",
        "        if word in user_greetings:\n",
        "            return random.choice(bot_greetings)\n",
        "        \n",
        "    #Random response to greeting\n",
        "    #def gratitude_response(text):\n",
        "        #text=text.lower()\n",
        "   \n"
      ]
    },
    {
      "cell_type": "code",
      "execution_count": 17,
      "metadata": {
        "id": "TZU6BZB3iia7"
      },
      "outputs": [],
      "source": [
        " def index_sort(list_var):\n",
        "    length = len(list_var)\n",
        "    list_index = list(range(0, length))\n",
        "    \n",
        "    x = list_var        \n",
        "    for i in range(length):\n",
        "        for j in range(length):\n",
        "            if x[list_index[i]] > x[list_index[j]]:\n",
        "                #swap\n",
        "                temp = list_index[i]\n",
        "                list_index[i] = list_index[j]\n",
        "                list_index[j] = temp\n",
        "                \n",
        "    return list_index"
      ]
    },
    {
      "cell_type": "code",
      "execution_count": 18,
      "metadata": {
        "id": "jgD-wmTwiia7"
      },
      "outputs": [],
      "source": [
        "# Creat Bots Response\n",
        "def bot_response(user_input):\n",
        "    user_input=user_input.lower()\n",
        "    sentence_list.append(user_input)\n",
        "    bot_response= ''\n",
        "    cm=CountVectorizer().fit_transform(sentence_list)\n",
        "    similarity_scores=cosine_similarity(cm[-1],cm)\n",
        "    similarity_scores_list=similarity_scores.flatten()\n",
        "    index=index_sort(similarity_scores_list)\n",
        "    index=index[1:]\n",
        "    response_flag=0\n",
        "    \n",
        "    j=0\n",
        "    for i in range(len(index)):\n",
        "        if similarity_scores_list[index[i]]>0.0:\n",
        "            bot_response=bot_response+' '+sentence_list[index[i]]\n",
        "            response_flag=1\n",
        "            j=j+1\n",
        "        if j>2:\n",
        "            break\n",
        "\n",
        "        if response_flag==0:\n",
        "            bot_response=bot_response+\" \"+\"I apologize, I dont understand\"\n",
        "\n",
        "        sentence_list.remove(user_input) \n",
        "\n",
        "        return bot_response"
      ]
    },
    {
      "cell_type": "markdown",
      "metadata": {
        "id": "PVF_g7Xyiia8"
      },
      "source": [
        "# Proses 4 (End Process, Making chat box)"
      ]
    },
    {
      "cell_type": "code",
      "execution_count": 19,
      "metadata": {
        "id": "knRbg2R0iia8",
        "colab": {
          "base_uri": "https://localhost:8080/",
          "height": 443
        },
        "outputId": "7cd77386-aa19-4245-bdec-47bc29cae3a6"
      },
      "outputs": [
        {
          "output_type": "stream",
          "name": "stdout",
          "text": [
            "Doc Bot: Mau nanya apa kamu tentang kabel laut\n",
            "kabel laut adalah\n",
            "Doc Bot:  Jaringan Kabel Laut di Indonesia\n",
            "\n",
            "Kabel laut yang ada di negeri kita juga cukup banyak.\n",
            "Kamu:\n",
            "\n"
          ]
        },
        {
          "output_type": "display_data",
          "data": {
            "text/plain": [
              "<IPython.lib.display.Audio object>"
            ],
            "text/html": [
              "\n",
              "                <audio controls=\"controls\" autoplay=\"autoplay\">\n",
              "                    <source src=\"data:audio/x-wav;base64,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\" type=\"audio/x-wav\" />\n",
              "                    Your browser does not support the audio element.\n",
              "                </audio>\n",
              "              "
            ]
          },
          "metadata": {}
        },
        {
          "output_type": "stream",
          "name": "stdout",
          "text": [
            "============================================================\n",
            "\n",
            "kabel laut untuk komunikasi internasional adalah\n",
            "Doc Bot:  Lebih detailnya lagi, hanya sekitar 300 kabel bawah laut yang bertanggung jawab terhadap 99% lalu lintas komunikasi data internasional.\n",
            "Kamu:\n",
            "\n"
          ]
        },
        {
          "output_type": "display_data",
          "data": {
            "text/plain": [
              "<IPython.lib.display.Audio object>"
            ],
            "text/html": [
              "\n",
              "                <audio controls=\"controls\" autoplay=\"autoplay\">\n",
              "                    <source src=\"data:audio/x-wav;base64,//NExAASGwoYAUMQAX0AAAAEFURPd3dEREL4c5znOd/////b//3IT//yf////+5CN0Iz/Oc5CEIQhCEOc5znOc5CEIQhCEAwMWcDAwMDFgAAAABAAQqtepgCVdkR06en//NExAoUIxqkAZo4AUWocBSMAj+/L+rj50NccDivkj0Y8yZ92pFr/+tG+r/zz77OJjjjTn/6Mt/cxCzvQt//96+eiO2Y6////dOZ9ELDd1PUk256x5KYdC04pAmtR5uu//NExAwUUWaoAdk4AHg8m0/VNlJec/5rX/rKiJPQdVY6EYhJjU0od////dzjWPV013WyFTGkDwnHjQxI9Be4iK9H/7UBMOpHoeAXnAPNngw8mqqkq4Stph6gbDHi5Dhl//NExA0UkZ6oANHElMiTHYPvftoG142DdmQZU80UgGD5ljm////odyQZGd6ZSq6BJBKhxzSOCKJmjqkKQGyxy72X/+HHnRwSUtrFkAyPYwAKYuqxdv2I0D6duU6YeSSy//NExA0V4Y6oANJKlLGKX0GLZoxD8D9aykBNOcnCFqGoA8BaiBma0WL///VzZyMZMiCFSiL2mFRRI0gSqPDok4PPdawKGRp1z6f9HhFayIi302SIxBvaisct5VzwAlln//NExAgTMSa0AMvQcClTPA/wQpC3SlL0y7iYljW/gIybH3IfeUcDgsSaokB1THQ+vqr/7/++4s+Aqow0jVIUh2llv///+d3HigfPqLlDN8YKLs/7jTn2S+z6Ur8mOGE8//NExA4UkrawAMnEucqpdygWNsosLm8ViE3QCAufHCuh4HDZjorDluyP17Tn56ylFGZVX0f1Vciu7Up/9tqz/////16U0K1WGRZOTdzhQfbvaopnnSg06YQEr+VuwMgj//NExA4QoTasANMEcF0ceUn3FcCVI9snt2UweVU5rS10IAAToUCARMxlAS//6tTR1NQV/TVNJ////+viJl/+swHKDFB+HFQBHRYoBCAgCZgYmMABA4TEO6ZtRpzKYpbp//NExB4R4Kp8AN5STCGpe/qF8wWJiCMnuWOjoqKCaeLWROy3+deVArg1Z/IhMBEv+3/////5WjOwEhoGQ4FRGAxxTHRhqCq5i/xgYEBZhi9VmJ2qLic6swBmtNfj42Ed//NExCkROJJYAO5eTHSDAeN1OwM8eloBYo//bV6Pp/+/sf/b//7//iszeAcSAcoCoEDqZsViVjKYPgCFwDMFwSBwoLXbdKcwIBUBAA5UORy7DnLruyGH6kwiiPyOlhVe//NExDcRII5YAV0wAMt/rq//6f///9v/o/6FFqYcsixqoHGjZEbuChmN8mVw2AQaZuARgUJGBCCQhlVOfkE+jhgWicImolzgdgQuR5SRPUjFFxcQnELqwG/1eqKQLTF8//NExEUggypcAZyIAN/669MjBwDAJcgj//xmCiRMZMgBoj6ler+fNC4YlciZco2//VXV3ugaIm5ugx50DSvV//b/+tM+zvugzTRXZIJlqVMpZ+GH3zEw6ZBSqJQX8n/b//NExBYXiyK0AZo4Af2aY5NywaQsPCcUFB4srIasmQJq6ypTaYcg4aacpJmLjhg1NEo4ZJ2S7MW/H1IOZXr9DW/oh/X///+r/////T19vupppxsujaqxqmzgEKHn2kn0//NExAoQ8Uq0AdkoAONS7ghV17v/qzP///le/mO/mJ//5l6hEFFCEExEOAGLnZXe7GKPCBwQoiN1NZrbrXR///2oGXeX+H7DHW6BDqemI03SXpXGw2QbBp1E5P0jf9/r//NExBkSqUKwAMtKcP//0uiGcEUePUVGixCyoMDbhcGACWCxkGg+GJG5+sF0F3///xRAaUcPgMMigMIwgRD15b33cSEMAS13qj154vjAnoAw71Fm9W+rft//3b//0f/D//NExCET0YKsANFMlBwCGjmt5R0M7VZpNDBkJg89HUoOEiKAus+A5msGgGhF/Z//khUAPSRYAhVW4OJVsZd/OwIRg+OkdehpvxeX6AW81Rv/3v//5/v/+du9TXKpaBgB//NExCQSSY6sANFMlDD0cplHM6DKgr5DxeaXobMix45djplpJgDsKI//+w4596nOPrWqRdlTAigDON0y7TMHroEFUU0//X73/+/3/Pfu6vWKuJQ6Brk7OKdM9Gy4cfRp//NExC0QmX60AIiMlJuldznOJNQP3stMLde9sS//6rLUcpWj7tpYA8bd9enO5RUKBBKeUOq6TLf8b9pn/dtVlNpMjCBkwWcUIudM5qinBAiIkoj4pBpSEahGcstRSxv+//NExD0RMWK0AGBMlOuqdfcPZSulEAmqr7mO7cyViJgIFXSIxMtDo/Znp40/uhuJEZSWkkIvc1IUyvhZjXloIt23Xz/P8zM+f/PqTIMDw8QPwGpqLPV/9+vVrVWqLRdq//NExEsRycq0ABBMlBoegGBR2rh5W33MU8hM4Viqf5CF6pMxhgIwoCJXUMBMdWCttVjMxhgIUfBRqPAqdZ4mDsqWLDw0RKhL9/1erDX+eLD6CFJTJJgHMDAGMTysOHAH//NExFYRoWagAHhGlBYVhCADJyQEDCAFUkX2YUcMICYEkUcbi05+eU8N2//7mP/lD6ZU3MUA7CG0f1PXq9n//////00y0A0RAIWbMIxRM5aXNfglL9A0AU2RkH2n4qqG//NExGIRaMpgAO4GcAQDgQB+NWNsQViv7kT8P9l8fs+JPMPM3H/g0Gcj/p99K3f//9f/6f3M//pVHmJ1BQ88FvZmyJ1ISw7nP7EDFCQMdebdLOIdlZ2OyQNkAbRC4YOx//NExG8R0M5cAV0wAOhuHAhy4oAi37uibl8gAfARoZc/N9nQBVhuwFWYiFCP/tZuJvGmRcbxP1///c4dJEvEEFlkOHAIKf/7/8jTIZMgZExzCoXzQ6bmn////+hIukxf//NExHogSyKIAZqIASMKh5InDaIqNDJMdQ9AcMeFrJESZLwNQInLo2VomlSkhR/J9/b3fylESlYWChSUJhIV6FZ1Ex4gZSli7Uc5EUWEWodKf/8qd8iqYceWSbCjNibH//NExEsScUawAdQoALjktATmuThjBYVQ173f/H9RducWfV/m9+T6q2ylVDiAmAIFHxUHA+Grj5IdInnjxc0sYx9Gz7Mz+3t/NXZ2Nf//////pP0YqoFe3e2I0ng+BVrL//NExFQUgrKsANFOuNLCq4poOu9QqZK7qOB0JTz2b/Mt+81LeO8g6zMyeqk/MEuYOrpOowNHnSTEvGGMSxILoDrAooXkuGZ4YY2ni+pRRDgEBwWNGhQ93cSER2RtTFZp//NExFUfsxqUANNKvchkylo8SFub/+///24xkFiw65hMTCjBFVCnFzRcRHMEUKAzuLjRUWEUVjLBQDAOhADmYwRu6QLEYjAioHoIzJiFKCDYIjctw1hEKnwehQxlcfHJ//NExCkcGxqMANpEvXy8lcc/9xyUUmvJJq8REQGiZ6pLALE1+MfstqUkTQYUVqlSv6y6l9tW5uWVjK5ZrJ////5pspZlNMZ2UrKhi3UpTGNMZRJRtTGvgOCMMRN1dOwZ//NExAsS+P5IANPGcDb3jkmDBljQmBQIZEMouEZEJLybpw1lmhX1mLi9n16/0oqqWzMcYwpM1kP1lBCgk89UpT1Aqdz2d+Kf9nyv/+eUPsoAoJhqsLFlFXXjDEmuI1V6//NExBIRcDogAVoYAFxGHlm5ULun6b6hZsCnb5twhUcFKHhxb0TC2C62UCN7tUIUlMxEjWXCkR/0WJULtCPEK66bvHgOo4P/EHQs/679Uc0Mzcbw8ibeS59BxsGCL5e+//NExB8aWxKYAY9oAYIIITImgtY8yB+gtNNOUx6j4JePY5/N1NQZBIhoqUXSV/63f8zNjZBTl+r//bT7ZoZl1M+dLVkNMoDx///Zd//LTQvmh8yPnk+LFYjh+MMhTwGS//NExAgRsM6wAdgYAOg80aCrT7dL51cKBxKXf5Xa1nLHYg0OIX7vLN4ZaCaIgfaGZ8Uc0ZOD5dzv/lGVrbJh////8QVOhlJsgOCIEdfrbRABOEyvKVF4A8xNZNIFL01E//NExBQSQQa4AMNEcImusd5Z1m/g/Dt1FPyFBsoGGHooGdQIWmzjQg6frPRA/oGxAsHiRBwp///12iuba4+cpEYby/vH3E/Sekv3ArCXZ/msCsqdceb6hhF9A/1n+o96//NExB4QeVa8AMNElC+d26sXkfqJXiVTVkoDylT62sZYfcKGDyChr///9dRIg5sVGvy3WSdAXKW1ubIWyHv0AY0DnJ1keNrqHG/KXWedai4ORZNaBEn5W9v+rdH9qogk//NExC8QgVa4AMQElAjjkKqRxFUHVMNSqfcr//9dFmrH+W00BfGE2KJqoFEv6z4ArhxJ5BD7Y+B3I50bzMYD7OaUu0s4//+3v6+vo3QSVHcdREPCxQVPH7bnB1DuAt////NExEAQwXqwAMxElP//68reo+SeMAYhK+SAXFhHf0GG8733a4ukEEbczESlc6FndllJ5f//5cyoQEUEiQqOep4hW5rVEhXfh1ln//0JpcUF6t7/QimK4bcui4oAWvn///NExFAQUK6sAMZaTMIYAnKdSA6TTOjnIsqZlW6ZxBSB0vk4vq/////9y9jllMDQisrblNpNf8psigje27/6Kr71Wi7NNcLWpUIaywLQcJ4LhA4ZJ6Z/ljEl3asFsi+1//NExGERmfasAMwEmNZt7Zp8WzrXtu29+u6X8/T//+ynu5GcSmpMaGlDXfEtbv//8s96CyjtSVoGKpdnDzTTEVg/9vTjgRlzSCEbZtL85aMhqjgcDJ8LFeh1Mf859B4l//NExG0RiV6kANPElJxx07M3/9HzGRylav////7u7Rme////ndtMgCoswGni1Z61RMbMQnM4C2EvZRWf4Cipi8HWNRWj6g8DAYy1RDNeVaqkL+/p//9f63700v/////r//NExHkRmeqQANnEmHLf/////686va91O/zkLQgWwkkxMWrj9TiiYQwNJxbSPush8JLF6QqrEgcyzCIM5XE1Xv6+n/+vyPqjzMHAyUYhTnK8OhQhRB1lygJyhz6AcAQD//NExIUR2wKIAOKEuX///bnzaF9Cy8AV/784t894BT7+bmxJcxXv6BYZ0GepnQh7enp//j431KhGhqGoXVFQY44MOe4+TLKFxI8UCDC+2IKgRmX///7wzIUKIZ96Sirm//NExJAR2XKcANFElLcwS3HRUN3OYB7aXDsoDELR5gODsTz1pge9+pHrN2/u2/snl6xEdfcsGen2N7/ZacOfZ0tCUDay1ZGh6BW4HKH///+aKL0b13rq3+NYqTJ8zt+X//NExJsRiW6sANHOlCfxMuXc20QAJ0ZKlnBG7R8FA1Ux0YN9S+svJayA3LMr1ob/6IJb8LmW873Y94mpRm8Jzjt27e2zvE9nZSn7mNHjPoPf/8Auo3XPY4vV/fOkhpSL//NExKcSkWa0AMNMlMu33iJnu6xbsC86Kx9iNtMXg5Zo7j7IEm9ZJNuMRabkPd1MJgVsyroX09LaLkAZZSiOyHxrlKRiCW845IGeUqU9ZEoxbG1//oseokwROc8IKGxy//NExK8VSa60AMNMlN4/ocDI3L13CAys/uuWgfuzi0nzxusawLZWdiNFsNUkDpknWPgZk+mdH2NtM1ZkV6jbzeWnrvPYagwScBmOhC3LGMWca5MpyMg8y3IroQYXOyjY//NExKwWKa6wAMwKlCJA4R//xe+LzawHsYuhhfsC9WLKAiIaFmQsgyodpyZwaUohhco26n+1zY6nexsn+rj+c7Vnlx5G///+uyFY0YCYwMymsMKMwM5QTIVB0WSQHkKE//NExKYYAeasAMwKmMwY5twuAUzH//Y96Drgg6vXP2SFjZlHN9mxavD4MGUARCgYqL4X90ioPw5y4dL4jyWWfPkkJ2ibHRwtpf////ufys3bW5mcIUBZyQEpSsXmfOYw//NExJkVga6wAJvElCMLCKJVPcal//93W7XFxRmi1c/g6WRg5R3cYIou9uDBjLus6TPLMjUTBLVgwzDgY1IwJv1y36/+f/T///168z6p1OiFHARZx2DhkCguh7Dj2Eix//NExJYU8e6sAMtEmIT8zf5WpRDagBnsbA4YqaiqRhKMdbPd6g1HDfnYnlBSzC53gL53LpkrDw8i7/v//////e7tS/vqUwpYJDscQjw0hbJ40j+s9/+j7erLf3Ry6heV//NExJURKZ6wAMvElE6z5LCrhko2qvt6Wbv5UwpgzMSyG4//uu3UmZHZ4bgVef9Sv1fp6/9tqSJBFxQ+0uhQeaHXmHrmKHf0///++hLHJasIPBzzjl8HBxIU3r8wU3rG//NExKMSQaawAMvElMmQiGMyFFbHqkYmKZPkxK7kXnmPQf36fP0/5YQsCgmDI1kVHlniqFE50DLDKWew1///VnJl1oVV5+9EiU1scrVQiDrfx0tjjv5ZM6zYRdb1huQ5//NExK0SMVa4AMPElGPuVW1tt6nTQi3fK15FV509ruf0JuvJRoOMGhtY9B8fSUwFcdrDCnM///6aupW9+6ySoeCdyylSXeWvkw5vTyR/Eglma+a0qqdUUz1QJiLiShQo//NExLcSEUq4AJPElGJvXbeO00CkJuGnGlmoCTkNOnzq3bKam33KFTX//9Ze4mwEcTzHhfidk7BGAFsUDiVTAAA0rHF2/5nVCgJQwMICgVC8PtRHGBWBWhAGi7Ei5FAG//NExMESEUq4AMPElFek0uqeDNdyd3///99Nmt/SFRYXBrYyAQqtAs5QUX9AjXlLVKD0tsWb+6/FN9e17BS8GR4JxJ9ZVXBOrQGM4YwFCUxQSGPOjjzqVLKAWZMmzJ00//NExMsQ+QK4AMPKcOJPiIXGhr//20MQ8qlgoYLKIglLDDPzRxQ4i/j7FUGHB1MXtrLya9PfwoAlqAod1Eh5cz9Df2K3L5nmiIqUodARLPQCexnTqX+re3t0NXR9rmNX//NExNoQaMq4AJnEcP//////83oYzyiSgoKDBQ2FKPa6iYBr36mtBkYHHphwBmLDAYsP58oIZhfMDpLlkgIKTlaY12E24ZYIAoYlj5qSLCQU1gpW4tfQCoTLEhMOBoGp//NExOsVWVaoAMoGlOVS+Itn9WKjtaGCl39vT66qsgozMF0HC2YAhmYnVuZeAs0eBTCUbJW/whAgAA4HCVCILV0pbXlbPpFhLZuwFXrNjhOAgKPRKlTtBQa8UziCjWUW//NExOgUuuKMANFEuaUbd23/71I//jW69dNXUiozZLMoKDIBUDkJnY6Y2Ujgi4gCAo2ocYMIUuc5wuKDgtb0E0wIiFzwAWebqZAB4AFgITheX/cG/iNxcYZAC6j91M2M//NExOgVGKZQAOZGTNDsGbE0C18LT/6F34YwGUEoBsZACIBlv//8NXjvRIuVy4QAiBS//s2/bGqHrhxh8ggzglA1FwIlwXH///67/0kymITjJmKRFBkxlxkydImXKnTT//NExOYT0GZMAV0YAFnVCEMIMQ4e7Etx25rl3lFekyIlt8chX/PU9rol/3/8DOE4i+C/5ahgoC4tRYSjyHNsVEOKFTUJJN8UafccbVuU0kFDhxcNvZdOQp4kMP7eTRtC//NExOkk0ypoAZuQAI9OY6kQpJyUzzjss5C8P1iSbNgf40OxsFotCR9xZPgSkiEMFHcQRRzZai6TxkHJABay8eFPDVxQPGRHr0X2fX1//f///TUm4N1EgmRFVWKeUWIJ//NExKgfkyKgAZhAARxQBKx8jlr6pRH10bKz1VBkq87XIe101KVzl2damscixFHYeFJfVDnJZ0JKYWzVp84wFU55xTr1YwRSXLp6B6P/+dwQ+zcnfp16t379eiYJaHEh//NExHwVyxKcAdQQATDC3HqOkSyrhPa0MBqJx8ByzMM1SHfdLuai+5W2mLQWLHSzKirD8urdWsfNNey63Ls9va9ywg0dQ1D6sxjmyipVyYRXjJGUEvp6wr6EAYyt4gHO//NExHca+xaQANCQufvB8Ym+f+XzgT59X/////9XQyKNhqJIrFxFjD2JlxsRYHg6YGxkcnEjC6qUruab1q3Ms3axrdvsrX69v/udZZqnnGGvPOPezqjui1U8pESKu8my//NExF4WowKYAMiOuMWtdopUYTAdNEZXBX98Py6m//////+qGQguAoQBA+IiZykHINFSDWMccwSMm2Nctn7CTvt//Di1NLLLaBjjaCZm7elQcqrXODIZ8oO97wRXna4r//NExFYQ8W6gAMiKlOgnU2v//////8R1ES3JwOmCILh4MLYeeXBR48slDaJ2kGCFShf7bP7v/bxxJ7XIa5JlzI4yTsqr7mmNqAwrmhbOx95qLKrFu/+SjLLr/////yIx//NExGUR8XacAMiQlMVQ4cAJxcqIcYPHiLEHlY1i9dW3//5f///////sslq0e1tM+PC0fa1oYRRPTNGAzH1T2ftP+HZTHItfnRqff/////+up4gGAhDinEBjkciEDHaK//NExHAQ6wKcAMhKuDP/////7HCALWoSKsKoEQbCiPmiwcbRLE/z5CB5SXRmYqzCXd/Hz2NPSqUbb/////zTTrDcdLCBDpAsOuYVZRmU5dvr9rf/////////ZWeRn6uJ//NExH8PgWKUAMhElDo5FR7iaO4N55qmSlHwYYZgH4uwgWq+mep1efe/SpTBvP/////9OpjBEfJFiyi0woNjx51OzXtt+zf//////////szT2N3KI9c+qGgl67ZCMPjA//NExJQSgxqQAMHEvcl8TxfsqJb5+lzVLXcOaMgNl7f/3////0qUcgaxDBJx4CCLiIdd5exdv8+3/////////1nuaKvI9WMxVHHSqC5XFwC/AAiKThXQhiP8awtlwbEz//NExJ0RAtqMAMhOuQnO7zvnIUeez3//////6lGFAjBEcFCdhPohbL22+15Hftt+yd///////9WS9kREe5TKIkciqwsXqRERFJiL4VhVofF/X2gCRwffzBrdw4NnK1////NExKwSQxaEAMCKuf///67qtBosHBFgcBQ4OBAUSAwFAoDixEk4oWjNP////WwNIFA4g8IBYhEAWIK6pvGxZDUXjhyXSGTwzAEt517CSOVB1b1v////////lXX+W+CS//NExLYSAxaEAMCKuWmhMoSOSJRILrJWiYUc1q1ClrRQIv////+na5C1KKgULBxiY4BrwXGh3c2SQLGK8xBcglOx8oeEI1CcmF1dFov////////3vjlFYAAsmcTTlMHI//NExMESKU6AAMCKlAWDHEgoCXh2ls7V/Dy1MbEa81KTRCEkNvT8YgVT/+n6xhU4YFQAHED6gIlPARhUPOirXo/S4wNEefVkgh5EVInsDQdx1Wour+PbFbP6//47+eYb//NExMsRwVaAAMCSlFKdlBNI5CJg+wayaQxPMySQg9gnj6Xmzjkm0vSX2uQSR1W3q0fbdNO6TBUOtHB5pF63rOiJH//2UKDIBPAsIiROZAbRCwTp/F9N5PJZyYYlp4SA//NExNcWYbZwAMHMlO4uLEERSYNiRHIyhTIEtKzsktl7orZfW1al9Tsurc65dMTV+AOUAyKsZy4hiSUjZaJI8mpWR0utqSVx8lMTF1iOB2q3nbWtCu2eZ6tXcPAqIvPF//NExNAasc5kAMLWlIsPnv/7Sp1vkkFiRKoiXYeyiFJYPkbEmoXEZiXjwKgKigPxaIxdOHI+3vfK/lv9///+V//sstE4tMJBiYYKNQSOvEiSxQkGlQaU1LDdvkyWqZZL//NExLgcUdpQAHwYmELW///////lTEFNRTMuMTAwVVVVVVVVVVVVVVVVVVVVVVVVVVVVVVVVVVVVVVVVVVVVVVVVVVVVVVVVVVVVVVVVVVVVVVVVVVVVVVVVTEFNRTMu//NExJkTaTIcAEsMcTEwMFVVVVVVVVVVVVVVVVVVVVVVVVVVVVVVVVVVVVVVVVVVVVVVVVVVVVVVVVVVVVVVVVVVVVVVVVVVVVVVVVVVVVVVVVVVVVVVVVVVRGROAgfE//NExJ4AAANIAAAAAMBADkwTDAjEQ6JwoMjwLwcEE4wXjlT0mxQsoTB4LjFdJtImzHir+O0eKt4p0rKbopo8UxYRTQOyiwMEotKaVTJ0pl9YnS/CNKZH//5GZH2ViR58//NExKwAAANIAAAAAM/zlNKZpYTpTFhEg+OJmfQaCqCJCvPYnJlOk0Y7S/VKHH6mFe0K4+OzgmA3BA7cEsrpIfmy0+OSnA35g3entHrSdJub/9fn1CM8brbYJiy/IlS1//NExKwAAANIAAAAAHLfn3Bg8YTpFLEFDkatD0RCQERKPbKxA8wWIPi+9KWpedjpOAxQkkqqep9Zt2huXBbO+oXmuzbqKSk2RoovtNTqGUilnvCZ5U1kHlOsAjS1BtE0//NExP8agrHUAEoGuLZa7MOx5r0w/1/nXZlkPd05LgVF0swR0MWFxk9pitJLZitWunUcB9UrG1ZrsD13To+jWrTFirLrMA6tw5aLovmnI8pKThKqmZOWyWOS9fo6iSOv//NExOgjuxn8AHsMvR8eLw0jFlJZrZX3CRsG9nZ41n1rx0az6Rbf6mJnyKXlc5KXn1eZVPOyxtouCyq1pTJllpH/qGOLZ2k40CKPi2dnjKdv5o00q2ejTiy4vOz5tSz///NExKwh2wHgAMMMuWChgwNHlDAwQJy/zVZZxQwUGEdLKCBuR/6s1llYKCBOhyyoh/+yhZZYoYGDR/lhmU/isCsvZQUD2gJNixNMQU1FMy4xMDBVVVVVVVVVVVVVVVVV//NExHcYQtWEABmGuFVVVVVVVVVVVVVVVVVVVVVVVVVVVVVVVVVVVVVVVVVVVVVVVVVVVVVVVVVVVVVVVVVVVVVVVVVVVVVVVVVVVVVVVVVVVVVVVVVVVVVVVVVVVVVV//NExGkAAANIAAAAAFVVVVVVVVVVVVVVVVVVVVVVVVVVVVVVVVVVVVVVVVVVVVVVVVVVVVVVVVVVVVVVVVVVVVVVVVVVVVVVVVVVVVVVVVVVVVVVVVVVVVVVVVVVVVVV//NExAARiwocAUgQARcXF7IBoAoCwxDK/5dERE/Q5znOc7/1Ocjf///////+3/////yf/9TkIQhCEIQ5/Oc5CEIQhCEAwM5wMDAwMWAAAAACAAQq+jhkVxN6g2ZU9Pw4//NExAwTMd6cAYw4ANfuNhJGQfBCI/cHY3KKAeAwVk/kiBewGgXERW/rRrOh5i/++0ke7Hf+jZ69UOLHl2KM/VorEQXYn/98pxBWGzg+mq6RIpnf9E3g62ESBcA6CMeh//NExBIVCV6sAchAAIpowVNFQwpqiAYwSUUIbMKGNrcvcf/x71VSWy0sM85EBJwENOB9YYKMCDkEgOHlMEIZFDpQhoaAJNivvvt5elCJNVXP1yeBIEBjNcx/aH4Tqd7L//NExBAVqi64AHpGmMZNInMuKZt5MlI0JqJIsO5Nti8n/mz9/OQp5EUQKOmTnvTgimXemZpxSz1YwRiVlIjhpOrLWU8yZOjm1I4XZ9vdHyGx+5Vay3zVAa6ynL+4LkkH//NExAwVada4AMMGmOpOQNuTlhWfNsayjM3nWatWq9j0E5Re0xa3ZTv2ZuRbM7ZKyNIHBDBuogMk/Gi2Bu+y11chBFg2CL4Qwi4FQKoO1T6kq//7/+9F5z+TxqOq/m9y//NExAkTWT68AMNQcERvNdADuMxog58MZsnYqDJeoQwZ2uAHie6kSmM8Tv1XV/zF99xs8Xo2OGCKUoQXLYbQDgHVFmHidz2WXPd//fv/Qpizaud/tgw5Kbv4zY8lP7sQ//NExA4UsTq8AMvQcAuwbw7pEdUam+b0XGvBIv5HAuH3ZQCsHJIlOmae+lq1SZsav3mpoWwBFxDSKIOGyiQ4TJixo4ihIwWv9n//xRIu7TU+Sjy8sAZMlpdIigb0zsQ8//NExA4SOVLAAJxKlAvj6bKIgS+ozIaytbdzLqKRtSqQeiRrHrHeIOmgNEGs5FUg5mLBZhY+scLnjbBGNki5+17////+n1oV1huoz84Wt436AYAU55/gqAYs0wIiS1HR//NExBgR6V68AMnGlCvX5vp+a9Wk2rDiWpgqhnkv7ND9VMMCEZRICDQoK63KJLFjqlmP//+vFsLpkHNRSrGUZbkIg8fNQUKtKi6wSESphcRg9ANKMcIhdpqP9F2//8vm//NExCMSaQqkANnEcDKyBQEowedIrDTAWHgrVncRLdZiWJTrU///xEsFTqINFWCtLWBkxZBG2xJvkBQOhBkAABpcQggRgZJj+6zv5zgugGCS49HjrRT0dlMTdj/b/69f//NExCwRqvKQAOKEue///////+7WbT/////+tboqJ9lpexGhQENsyo5Sw0uUwKCDrZNWQ3s9Bq/0faPvakxmYqgRD154wM8x7Urzn9/3//Pk/0/////vQxFV1y////////NExDgSCvqQAOKEuZmnta7MRO6kZTzyBD1AEQjVjUizjw4Jmrdg86z9FLUEI0D9vexpCiBEroprkPT////v7PdDjsbb1WhKVOed9f//TUQYTL///St515UoXAjhGKly//NExEIRaeaYANnEmORMMGrtarDyAk12tDjmBuVmegwC530FZHnBE3Y30b/3//6k8IFU2CPuydCUlOWKQsGKGPAG7PpAjP//+gUTF1relBgdPh/LDOMLnOVDDq7qS+vE//NExE8QgXqgANnKlAKBbXPhE6cLbx//p///7aKFChI6DEZFRndIwjksJI9p1ViId+q3q6cou8v///sMOIF2PiiKyii91jWlKqwxHByNAudV9ioRMUx/AMG78aN1f0+7//NExGARKeaoANFKmHR29v8fvpqewQJHmZ9ws+fFaeeWSIIhZNVtDINGEMb/42a37vj918PLf///z5xCQOmJhVT3xARVw1rOoDeBeid/uIqGIhGH89O4PZ/m7Pyabv/u//NExG4UkeKoANnMmGKb60U6Gbv1IvY6TR8MEDioihIYO1Go4YYQFAWH1UwUBETMMNHhsNSY+5pUgjFDjzFc9jbTj0d6n///////6qt5xltrkl5cU/dKx7zKWhW42VXW//NExG4ZKuasANNOub2pl9gqDA+DGY4glCGhsO0ppp1olNP/XMkHqpGiC1qSNKe3aHfQSkUkGirbjGF0PVzTAXnUNGCeRmjQyUnaz9f/J8wnjlOa7X///esA0KeMc6aq//NExFwW0eqwAMtQmMLfM6jTj1yg3DXbC2ULqKXDwuIHZaapMmSstVaJOP0TFXUgce8vny06qMPTNsPX3ci6/PYrNUtBIDgASQQLChBzVUzm3e8pvVaZ83tF/lUeZ6K0//NExFMYIfqwAMwMmEKv//lN7xgVIjSa5NSaRfjOgaYWleVzgnNcJ0KIEBCceUH2dW9brnuPZpQc0iIpJ3pu170f7XPO4eUSYB0iThphQeLMUrMORBEqkcgAHgdBxsaq//NExEUTGaK4AKLKlI//+vvXV0V1s3ed3HgDI5FFrn5rKsdaJDLgUv/n2QjzptS1uz5pBqy97ZApA4oxjO6PUv1qxvtuimc5iEHmBMQgUEKCJ10w+o8DZ0FkdCiVatf3//NExEsSGWa4AMsKlBtQCMIWFsffv0LgNBMFZkoJ4DTVrQdSKD7r4SuDntkwSOmIsAUSyvSpO1r8n8Z2QhkeFVOwR1k1/7ftBts3SC/W//VqlOsL9AWklqMkTZ1cw0AQ//NExFUROWq0AMLElUYqopU2mcp2OYRFRGOKRSsQip1f+r6L/VHKxdKb3tX/RL6VUpGK1S23/T/5+fV5z/1+TOtlDn4uD4WVMa0KJCiaLq1K+/xC2zxdesdsLlbcsaiQ//NExGMSkuK4AIFEuKeCsn7dfu8/N+T91/fNfawT1xOu1d+8c71Pf6b28288XN70rRIx7ne/tfiVjo60VnghyhZYu47qREKUJxdB0jhBYiBHEEPw/LVRoXIDqdVRP/////NExGsZkxK0ABGQud5WgovPnOdLfDNf//zt9vZuvaiPVZppGoZUKpoi5alRSub7V+dVc1UH2PZR05HLIypZ3QWCJlFCCImKKPExESEwCGpVY///////8v9f/+f/9rT7//NExFcR4xq4ABBKvVGWtEkpeqZGebdyO7KjkQpWOxTpertLmZVGKJMPKLmdCCaohBM5hrHZTBYuFvUQCkDguPGkQWVw6ZU////3xjGDH/gmOW5EnAo8/7/1QjeZKoja//NExGISEx6wAAhKvJKK3rZqto79qWU11W6GU1rlru50MRRhHWjkMK1znFCCcohQg0TQUcTFBSDnFxMRHKKDO1EA5oEHJMWs6fvp7BzNYf9mzM5p001IIr//9HI/lvb///NExGwSaxK0AAhKuW/Wn//1zdu9l+Z9hzIhy0oYzlUr5jvq5SqUIHDIVyodAvEoNZHc1jHghIS5u7uyIEQA7E13yytXqc7GMIhoqZyDbVXznRWZHCQuMKRlO53zU6f+//NExHURawa8AEhEuZJyU////9UUxm2Ujf/////1/VvVOUGhiocxdriUqorF7GaqZ+2IlUEfVKcsSeRMq2NBo14JkRNvybUv/H/vS5rb6lDUkajDrvTW/c+8lw2Vaq+k//NExIITGw6wAMFEuY7L+p7Vud////NHn7hiCwpVOy2B0RU2gUtDqwrMTAFYuhJcQEhJFIkoo8NjyPSpv/r/b5plYz1ATEivDUFZ4FRgdw1/4b1HlLxC7//5HWDSw1EI//NExIgRSUaoAMpGcIqxijV8I0svDtU0MmMGNzEhgyMeL3qYKarRUjcuT0zZ0eMJDVYBLdwjF5WtOZlVSywEBWfrWYFzr9X/LP733iK7Fi9qtlH+qheOI1aAVwMdtfhz//NExJURGQKEAMnEcIiH+9AT4DH2wAkBswGMPe7hdAG2AX0Cx//sRw4AATA50A9/263AUwgIuMARAOsALT+6mazASsZ8LmwBsC0QkQPC///BvAMgOIMQBygNzwy2KXFK//NExKMRIEosAVsQAH///5RIOR4hcZMWQLkHAFzZLmiv////88XyHiFxk0ygQQLqyHDgWTZP1V1T52IO0OxUaEutnpvH6SJqUU6qonvP5OXjvVZuPv3///4NIql9jKth//NExLEhyypgAY+QAO9ldNgKKTRslehIEaoBgrS72EJbVqqFYxjGkpOTEKduPzajOU4NZt7lVk2lIR09K0l1SJNNqJ+D3JdZKl1FkC+I25bT683Qj/10eXJjFlEm1Ef9//NExHwhQyqkAYxIAGvTWpRdVmLj0sKs5FhEgPcUQOc6QIczJmUaub5lzX/9vn/Xtvazt25L9PTz6arOHxMPC4wzMLKYcUwuH3DzCwsYXMx0FRoI5jGHkK0WQ9WeqIR2//NExEoccxacAdooAFSIjpSmqxTSlMYrFaYz9DPMbR61uiR4dYRFUQpRR7iphq0HuIbDxJm3b5LwBuNALuRRjgNdmXNKfvdu58/LDq/xEvyxb/j8s6v3X3Za+fks4Vo+//NExCsdYx6YANIQvIBMUEY4gFYSBCOoUGkigoHpow/CQaa0WOh7dPmbUaNdGiHt+n4aKdCp+6/++P///////1nvi1GUPNGCVbo+jy6WR7wWMHGVApoNtXahGoYGXysE//NExAgSMVqoANCGlLsX5LENXtnKpOdBuECtnbu3X3L/+XOmJOuCDGcEgQqEwULdBRnmJASZukQWe6t/E0KU///+bNgq6WAyzYTYdLBVOAhtoyOgFQ9ZkjjAWTHg2Szp//NExBISSOqQAMpEcBAkTJ5s2bxZFLfGOe4l5tqVN6GQxShQFxU6s7LHRKColOqHuPZL+z1Hq///8jKgqCp0RBVx2WQqMxiDjzQw43BRgLAZlCCZUAl7nDCgaYkAvamw//NExBsRMNJEANpEcAMBo2CIOjukJLBFsUVwlcb/M82hpgJwCewaPTOVDQiArP/W7//6Hfzfpj9QBGUVws2AExoZlsbc5Ztq7idC4BQwwQJTBGwjEryoVlC8YxSlve8W//NExCkSIDogAVoYAGVTlpBm+PU50zhVBhs29yCK8gcQtxUrpnVjDt9aaNaKkPzlgHndz/zss0Tt/6fqwTXORx6ME2CRgFp5YX3NxChFAuYXr5gaDwL7jCCFBWQIIOD8//NExDMfayqIAZhoAKZcY0TTB4FmUCwcoyv5ugyCbm4wReE4EvGIJgOL/oW+yY8CXHAmqsm//7/8yLiQ4zczU5oOM3Kf//77b2bzxw2LiJoikeJYsWXC5ZTrOUwAZbtk//NExAgSINawAdgwAG2h1n5jWlcy2GorNMog6rhAb92L9iIO4djEAhG/pSL8naaUzay6k/QLbIQoclNA4HDknt/xcgbaQYa////7J6BF1rvG5j7p+i40VQ6qyi8EHGZP//NExBIR8Na8AMRQcCljKkvSjnrZBRsSH8ROJGgnco4Mi06ijVZ+lz0GRZ5gG1GDjbbXrRDDhAH4q0XDlX///9G+RdZwJsMjJprNAL000gISqcCgSQdYUJTbOiI/JseS//NExB0RQMa8AItQcAKTKOEA97a3PEjplo+AhCkQNIBi98IGjAyt5VIAFgvJVtjHWf//+2v9f1uIeCTVtUCEef+gx4d84SSMp9qVcT6+UTP8c5DNw8Ii7FGkzwoi2VF0//NExCsRmMbAAMPMcAVbZQYEQVblizm4oNWlhFrRGxTh2hZC3////Sr+/peA41r7/54l5U+5fTytAi+1j+TDp8592Og3e+QqhD+ZiGQgJV7aeGnPrW6oLvLBFI5x8mDg//NExDcR4Ma8AVhIAHZBvLMnmbnpQokz/////GFqYYIOnmQvZuDgBqoGtM6kLD6wCLDlfryiWAQmoKuTNRrJhoCcSx5Aq1tq6xoNwEg6nnXLfcjaCecUNLccNiQWPl0w//NExEIgCqKkAZlYAOQKXGxkXpDtKTQ3afjNYttSw3O9KOZ1x/XfH/MGxw3WPmjo9n///Nf/+23HNj+2bf+n82084RfU3Ai7AGkM1bst/tMM3MPkedJSjSSSLuy3lh+p//NExBQREMasAdkwAHWtVo9L73P+o/PR3zGOHIu5woJJYLGiCniiLCOKxpFQHCUe531fUS////4+9r6KplWUPfR3UnTJvS2g6/J1roSwDFj7DZpyvN3vq3q0tt67bQGj//NExCISGNagAMrGcAkMGCDAYbFsADI0gZ35eKIETFs2M9GZIvFgolKUX//17W92OjGdKjiHSDafYCwoClQmrhkT1sRS9DleQ60jN0dWzPp2GL/muLb//lq8wSJESgEF//NExCwSSMqMAMvMcFA2EnAqCoxQNPU+txY9v//8RA0gSuu////TiY9LVTR8gOCloxoVTHAxMZAcxyTg1oxCQMajKma3EWlZUEpIEZCJxdUhUqolYoREmj0U262juKbb//NExDUQqFo0AOZYJH2X3btNv/gZbpH///9CI0kDABhACporeYMp83bIKNvqSo5jVm7bfaBqxQcUMhWm3oFGvUURfFjiWtD/Un3NcueTUq1tHdjENpQxNaqlVTrhkwQF//NExEUPyDokAN4MBAcApL24Hl9rhwy8XQxaUBM7q3M2pJI2qmWh9YoK0Orc6qpFDhapbY4rG0vHJQY3i9F1FCmKerlmTQslcOBnNYEIDf/QhMD/UX5kQzyh/lI6zQlG//NExFgP8CYgAVsAAOCT/jWCQIBAxHatH/mI6wzB2geRQVAr/+febgiHT5qBKRyGNjP//bbC80omIjaobWsl///T33xJ9ZM7u3WlH///6d2gcQNOn2fRuzsrJzbad/////NExGsgUyKQAY9YAf/5QTIOaZvbDQ5bz/juVt8Zs88aSjCVgvGxnKCCMA8EIKQMtvRBgD22v/6fWPNfdt3i6E+f/9PuZWw7HIdpBBykRj2BMBuIO8a8Vb/9wRFGt/9H//NExDwSqVakAdkQAPMhEKsDI0KnjARY08tM0ohz9TIFbnQDwi3XlEBIGzv8Ctzt7O3////q3dDiIqyjhcad3FB4CiBSHFA8FAAVDersDzEH2l0hf//9siAVJ1CAbJut//NExEQRqV6kANFKlFgchWKc3WGARwEoYVmqevTKAwLrMWACtqlZ6GN//////meomBRAXGCY4xREcaEYTdekl1V1GgkaKkf//TklWzW8q5RINAxYMVKwCHAkxvCAEoBo//NExFAQeU6gANCKlDT2plpIpqwUpATAAtDRaNLtVRr5vT2/x/mXr/X///R8rsgMYUbDd1si7/ldjv///wKk6uo2QgQcXTAwIBpSOOc81gF2Vl/gwcgIIu5VGQIDgUil//NExGEQUTpoAOPEcAbLGyv1TY43OsHEawgdS0iocrRWbIpnHDmLNxf//s86+pT3eU873+zRrprOeYkFgHaFLOy9dkYOoQWD79uegfhubn3joNixpoaHKzUtJtmral+x//NExHISYGJMAVwAAAOHnPQIGLclJu/Nx3l6Q7g9CiiPENYSkx6NGMJ5u84bHSHJh9Q1URMIs1llf8VkxFDitXOpKQ3Qt/s///cca2T/02nU6kybV7eYZX7+v//Py6Yp//NExHsiGyqkAZlYACTay7l/xNNfaCkujYV1s2cKzcgC4Nq7r+00rTgFr2O8ys7//3a//jBv3+3s/RX7k2cOFoJCSAsaIiImLNsZ0Wo/9qXf//7oxEfMBoaIJ5JVs5Y1//NExEUQcTa0AdgoAJ6TApVI1t9lIhhANiZkygLLM3x1lpedK5t0c2od20N4cdFZQOyugA3QGVMGGPNI1Hag7KHqM3s3JW////xQiKB14BVJOSPJKv53lsJSoXjuu3A2//NExFYSiS60ANTEcCWS81z4Cfb7/ByOvTTapP/wh6AB4wE6AIPdam9CpwqqNEILEFk13pyC9M5Gup3Vp2//921WjTx9bWYAA0MD7YvEUStazmC+jfc33QA5bYRwK9S///NExF4QqS60AMPKcI4vMEQwQDp5La3yjlJSNYXh5QuaSKaKmNLgVKXA4Fgw0gm6AP///+nZMlAAKlVNI2GUBYVjMvhWQQdRcHcmyy+Mya6Zm2tMvOpBE4i6KYHCQ9r0//NExG4QwLa8AJ4OTHq7dUt7orpyC4bcAeS/5WIStP////lPrY/qLuig0cYw8M2rlM8MMIv1KIrLQGEyPoTgJP3VRSi2rjL5jKT3FphkWgvFp6x9P3truQyIiREpvaDo//NExH4QsUq8AJwKlOOIRCIY47t/6P/////31pm5TZEgRFR76ebaUKDDhKVWqgPwWmNnEJnibkXlh1fLe/gLGhwVDyIgCBYgEgEEBMxqM3foRq0TZiqVRs6ev/////////NExI4SeV6sAMpGlPjpAfXmf1n5I4bNbBgYG+t3vbmYyxj9Sh0L3644VjD847f5vPGl7hUuOLfrYe7dJKl5uf9n+HO03XQsT9CAzJTKb/0uecU7////+qpwxf1+lGic//NExJcR2UKwAMPKcLlVnCFN+z6guzqi6pCLznfP8+v/ER3z4NV+WEqmRWDSNdJA1f6/ic6oBRCe5d0MoFL2vHIYzdGHFgG53hb///+5htWnv/jA5NXKveGBufekQCWk//NExKISYU6wAM4GlL6Ag5qqoKia6xzH+RGbyAaq8DAIwZANFdrzq0SL1UOYQD7Atq1i1VtwYfD0apf3f///TyR+KaknCHo92eiboCoEWpNG03Awz21gCq+3OAHX7EM9//NExKsR0OK4AMPScO21cn4l17OtJaVm3aV//y83Uu4V0rdYoGvhpbnnQ2RDq6n////0MIr6ajbIMWATBAwyEOAQ0WAQoIjEBMoAUpAc6Ju6vpezs8lNa1WoRKRLwaWa//NExLYQ+N64AMNQcMRTZWaWQuWehEQdHPv0+e8tLI//6zT5IxNNNSDDURAx4XC4kqdjrSmJMmluscqa7ciVvHPC0HTox9l55JgG1+MXT9V3/6dyBQXb6vu9pH0bjfRM//NExMUSEUqsAMMElPk6ateaD048EBJv/74GQKj/8bbxAIJy+cNAEkAVABjH5OLm4IuhZWK0Cxj6CBUTgm8D+sItBZwNjH59k7oCjgJGHPA2hBAQCwP7smnwuoDkx9AH//NExM8PgKZwAN4STFxGA3gtE/++24ZYEeBa4I1D1xXxzhwBlz//0EFunxzR3koJQI8PxAOGPgCxxAQkQ+P//99vt43xZAyw8iyxzSJkwHwEFHGQUmhmKnJcaAnTC2B2//NExOQP4GIsAVsQABYRUhTDQAYOqgFYMvnKCcw7fsTEOZU1+XT4ilxVC9yLng5QWCYwUV2hua+Fi/lVWLlV+LqfyRpo0iG7YWa7+lqL6r67u+OVymZByVEC2i6xJsSr//NExPcm0ypoAZqYAF/aysQxzXTN3Daiq00IMcWKFjnU9Ru0szqaaiCEoqLGLclHkL8qpHjBjgDvJHJwlNxEzHJFokOxacbo5u/QGgYFF0xnCyL1NAjpObjOHEapORBi//NExK4fww6UAdlAAZRZ1ooo29X/7+70HSUcRFBW+lDpmJnUhkVFY447Gi5hrigowogghGOjNrav///0SYosOYSUgMKEKckWFRosNOSgxB7jQshjDxF6u0tdngUtDV6N//NExIIeIx6QANtKvLYmXGTGBxV/qtt+53vw81TigsRzgMazIIBZxYSQ6qPqpxd6M9CN////3//qyEP9///z72hrzIb7e/Hjd7RUdsij9Z7hB+T3uT1s//e7u6iLjNMw//NExFwcqwKcANFMuf2wib+HhyeWTJ8uiH+QggrFOm2pzAElrE2dgBkP6PAQ5WvI1df/8tkV/ZiI4iKgMYOizlQtyn1Yya2///r8zfVepZUdhsJT3zhC689+WkRyQQtZ//NExDwfkyKsAHlSvDLICVWTGxFa8htRoubibbfMokTzKOnFEXSI3lyMeChIRrsxRGF32ykCcgEKisHiEDChOodHwwJ0BhE1FhReRIseSxUsX//////////813/33Xr///NExBARIw68AAgQuEnE32kxtN67mPLVF/TlaWqjZNOp6HYgiIMHqNEAQShz27m4+MRh4w4OnawmokVIMFWKILj1T////////i+Pr+OOY7+qmuRxt/ND3iMvotDhoyxV//NExB4SMx64AAgQvMVCCtw8Us8OQeGoKUaI5kCEcIwqUKqZIhCepoQlHi4ucMKJNRKFSDxFo1kf////////////+3/fc79sfI2O7tO9/U1uRjzrP/3VJhxZLJPu3agr//NExCgQwx68AAgMvCARRa7SVCljJBA1QhJWECIVB1k1po2WVIxI7An///5fQxkCEtPyMh+8v///7eTt31dUa8/ux2kdaPdWMuhrUWZWuilRqiIvMw8gtHCpTiDnEhEz//NExDgSoxa8ABBKuRndnHGAUeIHUgkGozOIjjHYVkUEJc8tkup//Q2nNKAgJUKWYxvVurU/////o/0NfMaUvLbeb8rf81OZS1ZWqVDSurVZWDM4VjKxlfKUtEKhlYyi//NExEARUv6cAGiEuVEFe2SCVQMtWAOdhRYKCC+JFxBUnl5uipMxQS6rU0YVhQMBDChdwJNXBoY7lvQQr3bdovR5V1/APNpUp6wYHDnySLm6wkEQ25Dw6GniPDotTcuA//NExE0SOI4sAVQQAG4N7Yc8SkHs455Pikxp8ihACIC3jvDV/jNkHN0DUTcK4RH6JfEEBwMK1D6k4KBFF/IIUyJjjSNBGAPIbEKGLBZ/8vu0tETKxLESMz//+pDOoGij//NExFcgSyqMAZGIAMS6Z4sf/oUEG/k4al82LJcQTTL60v//bW9b1um/M1GxqktFRmRcpForGdWLm1VyADzyYXIt49ZL1uSCf6Fwvd/D+4DzBc7kf6rfJqyowUISWMLM//NExCgQuNKwAc8YAA85YXm030OI2MQuhfSnC8T4vVd///WXnYdTGsu9wbmR+k9JZYyWyi1EqBqFtxLNSg5aNSi+jyLtF7kF6PTv6vw70JDpwMFyn9m1CXziSeE2l9W///NExDgPkQ64AMNEcP/96tnTQqqv3ccIXTVCp6tWGSdSDu6mAPaMlKLgfEPD1h+oo5mdYU0wdCkOBlpjlhzy2yjYcSGx3Zay/xX9EecAVSNXzKFq4VPiDXdrtQgsZZYI//NExEwY2iKoAMyGmFm8ltBJpXftheQvFi7P/1SQVlfaOcWCVYpW3AYNxD0HUo2vgg4yR9Q2req8/Dnd5QAlS8tuXwQqRi3Iw5CjcJw477kQL3GxKa28cexmy1/r69Zd//NExDsYOaKkAM4ElI5lYKoClGClrK3M6GZSlIpwEsHQ0wVDWWCoaLB4kRCYaDv////QKEsbf1VM7nkOVNUfoEgh2A4QHrpBQEyi1cK6tTs67UrVorpJSZCHEpSg3ixM//NExC0QoKqEANZeTCyKJSsuM6hRsukf/waBoFZ7+IoieSoyIA0SABB0wTBkzBmQxaFQxGBAwKAgRAYDh0WwuhkgECBNmX0DtqGynVWWL3hcui4JZDSuX0E63MwHe/1///NExD0Q0JZgAV2AAP///7v/+qoBPkyTjwc0TRUwMDo047Y0NCYSEQiQAmYRaHJQeBzkgIC1zJoxJgcLcKYxbImmBvWAEcQMJ+QSYqnkmA89A7nGGDY59/HAwoAdhf/7//NExEwgWx5sAZyYACpEDMnyyQMn//8nFppuXD///5MGhFComVDM3NP///7mZFzdMvm55TJ/1////2N1GhcNJFDydX+MQODCWx/TJNDgzGLL2neIBCAe41dobbItu6Vi//NExB0Z0wq0AZlQAY0FcLYuHoFAqQAGi8dGY0EGHQqhYChHSBj34ijT8CVSf//61RvnKl+Tq7XV9/qee5nusxKf/3sv+1v/vrte/pczVblP0IDy2jHo1ecqv6QXaRD1//NExAgPyKq4AdhYADRMq4B2XFxpWepdU2XKvP/WnOyppFNHRwXfI9g6PRE+/9GyhUP07qtlLrPf///+dY/PJXagY0sq5rVch3cmy+EDA2Ymhv0sqWIDTbsg21qAKF3w//NExBsSAVKsAMrElAkndjQ+L2gmPS7fv/////7HqqjjbdBcEQ0hnR5/QoPIFf/tFIqNLIovaHBZ6MPwl4E2RHoqZ9jFpTNv4vGPHWv1Ny7/oKD3JoHB9k4D57NmDF2J//NExCYQqKKsAMZYTL//zLxKoIv2KEqRVyP19eh7Hf+thBtFKKjrBmlFlGOmkADhLqWMwMZo4wde+8BA93rP4QdrDAuiGvJGA107O/H2QZLQnjZB0BgF//l7nnmB3qqF//NExDYRSJ6kAM4eTESm//+FBv/9ZabsO67e9KpAk4MBDpwDmS6S9DClDIjDIsOam0aXHMjQ4RuVayzfVCU8ZUWAPlKE+DVF6g1isRkNBIqds/0RKPAQdsrleWPf//////NExEMR2JKMANYeTPboT6VVNoAhGkUBphGEH/jITEESDpgY1lAKUsGgDHiKx1hrjH1IRSB2lRObqLkLChhOi7I921wHud73qsXo+pnT//6Lf//v9f//Qg7OmEAwY+IB//NExE4RaKZUAOZeTK63RqKymAw+CgIYIAhmAJlnUQRCAAIIHvgRpCaDw7giejkujTO3Sl5IksMSm0QACwQ1W/T/ot//6P0/8w3/k/8rMhBg6WFTORZNRJ4yqIzYQ3KC//NExFsSOI5UAVwwADBwCC4rEgwSgE30WCgIy9dLsSwWABDCZHsiqyeAACBhAAGhlWTe4BZA+cLnCO+yadxZ5DBziKm3/bHodg55KkoUf7b8aJJkEOGf//+mowWoyNT6//NExGUhkypsAZyYAF///6mZyuYMVDNItmhfMf//2+/8oHS6bGh4ny4ZIoF41dWkrS6SnllJDzpBfKm6YqKrJQp4qhkWDCVWW9uy9V21pRMcpBJEwBPgZROyUJoLYUKK//NExDETSSqoAdhoAE2turr//V1nCXljkj1Z8+KN/+////jGZjetkvUqs8+hNT5Hh0gSNHyxiBpKZ/g2S3xtQRB0f8qUTON+e6oN2MQi7MsfUNafWh36v+noIl8mI323//NExDYScSqwAMPacNqSinAioMXf+tCH//7KB3bFB9xGx5uSBWJ1PrsxGr5/V0gO0/XZlNbfeui1O/va2JZjTsxWozi4BRMxB0W/69W6f/x6eWIiDfaVQkLOBRy/9T71//NExD8RYTqwAM4OcP///b6/OrrnMoiAY0maPCIGgdOdwKpJM1veA2cXkbxwo545hJBvuMpfRCUZa3hf/Fv//////RAzELP9v1UjWDMMaj/fSmTX///6tAcbNfn7jdzC//NExEwRuZ6sAMvElF0MV1I9FjaqVqz9AMIgwyTalsEoURjCuK2JXvLG1Ki8Uj5l4Rbm9f////1Qwa4tI1bFgMDFnTv82Vdzv//OzPt0VtKplcPSAsAHcsc5SeEqWabz//NExFgSQUacANZKcAnHTlApYjTTEKy6cLyiQ4VUjEG9GCCyr9NG5qfoyjq///2hkyr9YNhMj/69W///VZf+eqWlwqsKAOQuy4ssZaIdzIGvw7LCQkHduPejyd0VuWmf//NExGIQoH6UAM6wSCxj05vH7j+cQoswcJKIVP//mQQtlPrFjjRjv/0mP//u/47uf4DIBNLTV4oVYy/M7ldHZsan94uM5uVSNoA1q1rUEAwCZ8OcYJMVEEW0X2//p/vU//NExHIQQIakAM5wSPIKMLj/nARAYAepf/IVJp//9nU2xZPNKvTFQK4JWNLEHSj9e5NK/b4WFwrU9xXGTezOb3KljfIbWtExTGvb/+3+/t19EZ0FM60Zv7UqNaGYx/9d//NExIQSCT6wAM4KcGPkV1///p9tLlWtRTCHonVBoXSHF7Ym5s2SDTHxLsWlQwHrNGZm+oHi0w5SgRlyI+QZKf/6aWbXPnDo1AYYGl8sUKCWIiSBOTcr2VWNJIca//////NExI4RKZq4AHvElNbW++BHGtW0jDX841maRGtu0JlKbYQRIooCZw6JYSDI0Ki0SDTD1TmfX//VlVXHiooD4BkHLYDhgGTTZRqtCHbq3Tj//7qKRQWWAEwJ8ReymSSX//NExJwSeT60AJvOcFGEX+oKKgmqQEU2PZx8COBlJASle+O9peq/t+3L3yubQdIYLJHKqVFVi9/TkaohTZ/9f6q7zOkUoK5Ud7Jy5/XKSpa05nf4hmZM9DskpVb4ROlk//NExKURYT60AHpOcMzU4ZKqe////Z3eRzoCLSbeervBMLMCsm975hqk67CxF//6P/RVzq5UpiwkSOXMyyFb+3g/7Wq2t0PEp3qq08rfqXMocUMODA0dVL////1WciI8//NExLIP8V60AJJElFnhJY2kiKDRxGUN1PIOCZtvsrT/69/UeMAfhwcsm7ptjy+/g3EvAicVKyNtVGBeds8IGDkFITK0415viuuP///Qq4Zgh3EOZrJdikCGJgcFTgeT//NExMURCY6sAMJElKj86HUCU5dSTPlaf/TX/k2rZqsyNjoSaltM7BxHSPCXs+KSTUV8Ad6lkrDFev51eL6BAYwz57SNh0T3x5Zt+mf///9f////8ISOViGLibnvmUPu//NExNMQgUaoAMvEcEfheBSihSjYqeYqLtLhrkdQjWtwsaPLK/+tD0fooBwVBtXVzOGDnpEinpGdg1dmzMuwW/YLhkIzrOnpl6kWcuZsbW9ewsr5aFSdmYec21hKWn56//NExOQTcXqkAMrElMe3p1/4X8L9/88oxdDGNwK14pnbPUGjuYIecFCZdDyAlXU4tWJj3/+q4pU5zQTvMBz+agkdjiNzOcLzY/9OoXiHofJX63IBpLE3SIxJpcbNfNYY//NExOkZEe6gAMvQmNHMbxDcz9ambV+/n7P0XQp5zhBauPZE+LioiGKvGvSchhkVjRx0ind/+td7pom84RPKA4z98vlBE2b2VstDzvtHW9utRZDGz4IM17G8hy19oZ9+//NExNcYgZ6oAMYGlNASk+Lab65+M9X6+n+icFsgVwrGBMOckMgckpoNkR1FnfBKBAiLIAf//lLFMrqSpecuvgM7Oxd+WgJqz/CEV3qBfAlSFicEAMpCVBVjNEyGkIcw//NExMgVgYK0AMvElEyoRpa2SMk90v////bhkQx2TRHcxmeoMlXc1V6Pekyq3r0MOZwR4wp//1pRHdkCYFXVufhA1cRqSezAx3PxK9bFGwyAlj5sLUSpkamQNZBcwQhk//NExMUToVK0AMPElDuB1SoaoGRNGqqS+k/X/////oMllX2ZJqIozowV2jHTwop8SgqVX//AAauHlSIkCksLCrBciQW9diSb5g+4KQv5NhYMddgTCn5gJagCawL2nZQz//NExMkU4iasAMtEmGrXFgw4yaMYkcNrqptVKlWygBf//8iGFjVlZIqEv+q1+rOf/lBAODzk5BEXXqLKsTd20fDwRG6koCrh3IQcljkseMHFLWqq6opunDhA+Ckj9JuZ//NExMgWIaacAMzElMIeQt3pvnpMKjjr///4sdexisALBRyn/s7P/+oEBOwaEjpY4o4LHYOCdSJ+3ClbiB45WnVXJAQZMbQUHdl8k8YYzsRmJ2v1QPixslA2UjMdISuT//NExMISmI6YANawTPoPich//+j+08CyP////mbhAfIUvQVcAzYFEy5ljAZiUmFmjdK6Z5jJVQU4eyH7C7rtLnWsWsI4iVjUgGfmoRCCM2jKrLWLd1v/+gM/2f5Wtxr0//NExMoTsJKYAM6eTC//8RFRFkTpAGVlREMAwNEqO97MMASZMecNGkCDxe4VDmqZjrE4ykuYlkkS12cl31pVLskSJEiTaVcifBEmhmFUAqRTjiKmg1EUj/8BEc9/+d5E//NExM4Q8JKoAM4YTFj2sJf/2P+oO6wlMtlB1jM6LAh+MiAUuwMQmCgRcEyGQeizp2ZiVy25DQCJjOTEC8Yw1DhRBt7SIqLNPxOxO529F7amya77OhFs0TVVyoQW5/cn//NExN0R4LakAM6STNyBcDKpZYh6FSAXAAGLpeZgymosDXE3atM5tZU1KZo2ZsOlymrMjJTJwBSCrkU3XKF/9nB3Mz02Mn4U/7pDRjQ6y0j91RzR/CuYV+9+2+VRuHf9//NExOgTOL50ANaSTJurJretVTPP+Y42nUuMbtU8IRMQBhQGZ84r3PrYp5TWKNr1MfAvT57Hvk/HnY/dWn+Zmmaz3ddX3++bdwn+/7We781Fodu+7/r3S7O4T31v/yF2//NExO4UeH4kAN5GSOMaN339qvnm+BDVY7hQImAspLL/XpDgMDuf8MRRfUt4VciDABtABuCZ+Oc4aDDhahKikVfJeJmS6hhg5xwLcMF+MOPNQmZvHKFcHETBJhifx7j3//NExO8WCe4YAOBGmXHObx7kmMQSpETocRe/5vN05vZhmNimXhwGxkZnf/1umpkN0GYuEgNxMJp0YgVQcSZNDr//6dNTIdNze+JcSg8g5BdC8DSQxtE8EsECEpE7kFWH//NExOkTUC4cAVsYAWThaCHni6MoUzAwh4aS3djf6y1zv//f+qtu3T3//9DOphU8QCYBjxRTjY0iILoIujKIDkuIO4+e+5NtWdkWjaOZaGerKzmNVkLQrW71LR3VVVVq//NExO4mAypwAZloALESiilIyILPOHUFnsKsbESCW8JqhVQMtyUlXjjyGhDxKlyvT3/sTyCuT29un+vIvU3IZCBACiSgQREqKPKqCBxw4gILJGmc7i7OxFREZ2c6Kuxm//NExKkaAw6MAdooAaohGe9Oyp///7dFuznmKQcjkIpTHlZWc6lkIIKvIqal46Zx5K9NUxgGAnjv5yiSV+7iYsxWGnoNF0N6cwtqfx99G93MYUTCoWAakAoAVFmGB4Pu//NExJQXqw6YANCKuUXCRKB8PgajRgoNH3StXJlRQyqveff9FvIFGmJv//+P///////5j5HkqpC2PYU6kXtrFzqQUQrABLsV19ZophKSn6gzIkm6vvUhjB5hQHBOoExf//NExIgb2vKYANHQuY+G2sKPbjfq+uek2v0iSXssSussCpLHWCaULRSrCNlm5Equapu/rVtXmTbi0TGylOHlAK3//+LuJAuMIg0RrNlxRkMK/DNZBwDFO1QSd5r3Y4Al//NExGsW2ZqsAMnSlCvvALXtAB5+dLpygt+Ea8476dsKC2eKAl4jaIOtUoSeYSdUGtEZLlzXEHKPKYUQAziQjfKxb///9/6NCr2qVHYTTlV59xYCQXutghXGpDCTa0di//NExGISwU6wAMLOlO5twzmn8rlF+Gxy+IDvfeKq19p2aU3l79W0N/MZ4IBLBBTMQc8IDo8G0AX93bp7////6ZjbwBUnOTAmeyZ2QUKurfhlQGFe1CTPs4JETd/Rtc5s//NExGoSgXaoAMvElEFWxcQozc+ezYrRija+Lepf7///9MtykcKaLFg6Cx63//zv///1PGRelD6q3GCHp8DAsV3qUxkUeqpQDgI1LGzt32Oj3AF4vnliFamyWgPHp9fU//NExHMSMWqMANvElI9utu//////fVf//+3//////SR6rsv7f0lF2BOVUUjDDzBmY95XCgA0NgBkQa7Mvl64rn4VGP2HCBOGqR0cS3RvUTkVXf/9v7////////////////NExH0RmvaAANtEuf/+kjrFopjnf/8xSorBqVYSTEf3/MG3COTCoOusKBgCLl6U8oRYlfXQiMhAiFQegEoQCEBpWimuabNmP///////////////////+Uukvl/8xjGD//NExIkRgv6AANtEuQEKMCmneMUaUUwCAYwkEQxLnYz3IowJIsGgoYIiINBo9SwKAsvy+0siTjQNTSmLwDJngfpTGWIERMDjzVgnASGidqP/////R//o/8XVBAAOJDQs//NExJYSYvZ4ANnEudOLck5jV+GIEyk2w4xrUzReQ04WBtCMsdGjRcZMdgXUYcCAADyCrHgTyXL5BA4hZD1CegYIVICRL7l95SHsfLxuClidoJlN1eZOswzq2TJo9P+6//NExJ8RUJpYAV1AAJs1Wiimxt/9Bvlw1PoXoP//qt27INTT////3T031N1KM01JKPIOczWijUqa0SeVIxFVUQrsDpIRafky0mIVtyqAf/dAx6xyxWEt++uI/yxWJ5uq//NExKwgIyKYAZpoAfKQA5pzV1nTNvmmfSla7NOYtVxyEabAgXFRs9PIBQGiQFjP/W7//zSmpKIFnIC6g2JZ2QWC7kba4ESGvq7rWIoXJYSol8NSXl5rea4gaTqt1v1p//NExH4XoSaoAdlgAEooiVIoS48RAqJR0N23RMhRomMDx761mxSzTt/0O////4wfqKyQiKp42aw7DIo6eFCZ0DNnERgAzLLMuv1WfQDSu1Q/bZsvLntWQTqIVSdEyTjs//NExHIRqQqsAMPKcBJFEbKG4uunbnOn90W7azbqVtirNkS3R3VmKm+7va3ZjGpen//////VkZSPlK9USYso4PvFjloxQpksMLZGU4+AgatPheAPM5cJoYzKZVnvCzGV//NExH4Ycu6gAMrEuZph0tfxq3tyNbmYJ+iUSI91/rlnVlgqhpcbMytYyuN+HJFCPrV77uei6B0aaDpG6sbVNdXB20skQCzPHQwa0lH1SobAgUAgxlT1ezQXtHxYKRgk//NExG8TSMKUANYMTMs2fn/9bMsS0FSHkZ322NETDodhtppYCkaf/6vcSYj+v9roFZQqNdMDEghBCugoAuUao2QhA02s8HZhJVR4HysRAJ9MUTGE6hGbAX2RQCuylqkE//NExHQRiLpsANPMTBR4ekl6ddtWbtCrhupalYxwulT7GoPU1TrB9213rDS5PZ+u3uWQ2HQgQcMtXYQEeNdIGVGa2g615tdTUCUhULxpWKVqU2dYo4ubQgXMzLkIq7I6//NExIARCDokANPSBD7konl9UzGNkHXV8MBCD7/Z1ALmhX7yIQpSfjYHgfB9obP8AsEcf5BFNSsRv/Nz47A8D4HodRiSlv/x1jvPvfYonTcbicZ//5oxg6183k4CcVG6//NExI4RAC4gAVsYAGUf//v4ZXFY7i9z5tiv///+97P5z8VBigdNFzMmFA7lWju/////6ecrfe975ffh5OLOMJQJjzilKIKrZyymofDwMSgbK01VCNtX+r4yh8IFuWsY//NExJ0g6yqQAY9YAA23s5ZRQSf/1PzyWF0V5gjN3W775d1TlS8YBCizVnMiywqNA4jU3////jKLhULNRVvqDvhWnUPkPEitUHgCdNUmUH0OJNlrJw2s/u2VFpvRYYqo//NExGwSKMq4AdhIAM1f/3+20zbyEK9kHPhcM7jaTBiHgwIAUAYdR81//113IVIaRipHqD8QUqHtRHiTOk6hBgfUF0h9Ll9ArfrZSWkMpbWWWfS/+n7azK9+CMowUwzD//NExHYRyW64AJtElK3YrIYyl5MrU3ExB4UZaLhq9///0d9jFKXVNVpIuGjhXANE2x5Eb06Axg8tyaQUHzIkj96rayRGFNfMjb1t///83qXrCiVZ0VCgJSlK3/K2Zwwp//NExIERyfa0AKNEmPyJb//rYE0y08JUvOrAI9xNicomZQpWYCDQPeBECHXm3gfASDU/+8ILEHNlHGJAIqguiod72akr0v29f3/////0y0v//Vf2v////+vWny3fVbXe//NExIwSce6gAKNEmGujbjCTvl2mYfTpaGCAxlUkd1XmVgal7hrvTzXpXv8zkqjkvz1u4yKN/WoESdLH/+T1S7r/////////6Kv//////ra3zduQ5mRJggwIiyISGAQT//NExJUSMwKEAONEuFDQ4mBcnGGgLGFbpHBIBA0HjYkPC9pk6GhgADLXlV2tstRjgYegyhvBHwVIXIYEYxuTBknCQN2RomiaCSlGVS3MXPv1E5aS2Wp6e3qd1p06bf/V//NExJ8R6vaEAVsQAWrTWxktrN1/9bXZOrbrUvUtf/+x6bOaXWOcnFEi90VLZ0VKL45Thr5WWWYOCKiHAp/S5zUmkMfTzOLI1ALmcDR1EicGUDGgXUCzgbPAKsao55VB//NExKof8uJoAZ1oALxiC4pcUoGhgWI8ICdxxm6jzlw0YnEkUTVbv/1tq/oMnr+t7LQ1Pb6ZtnDYupIbsn6T00379R9epT/6v/XQ6DIeuzTFFRgxi7GWugXD7m7ldIwU//NExH0fwyqUAZuIAG5Wim7WoLLqmg8F3lrQzee0UEIPyHnP9eGsuZ4WigAJghHWGoBhJ65n/////+//7/P/b/9v///////oh6oxqHnIx1p6jhsdld0HtaGmxuTaBAC///NExFESGuacAdo4AVXlufkLUhRMTCres9EYH/umbngI1E+mBeXkul62///////dC/J8PX1//I32//////1yogDK9ftgkQMzoRlxbZKWT9iNtYApydquA4jfh/Hjb0E8//NExFsR6xKYANTEuWDT/N9rCyrXLuFACkv/F6XX17m879Or/6C08CIx41S0kXf///6MUcs2AUoSZEawZGpcLGqM34s7KXxhQVnNDI1Br0dgJloBK9vfu1WES0G9ZTOH//NExGYRsIqQAN4wTFP59bkUowgnupI1h7//lv/+tP//rXNtFLtOIBC4JvOzdZTI4GlKaRixiHQh6qyRrakAfZfK5/UghSq9qk/FycvnOYTNu2LwZnQdwdpFu7////Kt//NExHIP2IKIAOYeSCga//+Km1mUDn97IbBMcQBw4hWBIpLXeEQKbukHZAqZ0gghdgkIyvH95RonJTioC4WCeirpQjFlHqxy6p/93/////////2LRRBf/////6sue9E///NExIUREJqIAOPeTNaN0d3BKyoaIjIn9QnGNCYcQrZm4HqbRt7hYDs4ZtLIAeTC6ePhFnAIuyKh0opqVU1O/v3p//////////+rf///////Zb/9KyylIBHEwjJAD1jF//NExJMRmwKMANqEuUBUUGE21gw0DO4eJsFBoBAQKAFVMl6gFJgSUtjkNMUcRdz1sRhq1Zs4qCp46Jy0NJERGghs1IR5KvtT/6P////+iWZTWKERnokgc+1JlORt+5r///NExJ8RwwaAAOKEuae3YrclGTJEYUlfHoXDR6JInP6abmRsmh/LiFBBBE1JE4w9/6abrM0zQ0HAZF0gFNv+1BBumMUvjcVjjJckFiT//vZSBpZlIMJ2XwqZHEvB8JMe//NExKsSOG5cAV0AAOIgaB9C6//+n7LN3W6akMjiZieBcGAmAeRuCHCQEoSIlQvKI5YgKgd8hT///////+n/9OZiuZDLc9LSy1OrVV3ay0OQ9mUy2kex1IUrAmE0RWE5//NExLUhGyqYAZhoAEpSlWGVxPIYKaXaUoY7qKGMVzFIt5F6huNHWKwBzixF82JQBEAH4apVL8nqI1+vbmYneoVPteVWkFhx299YZSKJNva8cHbqjQuVqPKndflXCUbU//NExIMSOw7EAcUQAQ0s6tYa1uWxyyRZ1zKy94a8vaCKV6RLY3h5KwhXD63vDA56/b2fP+bY4heoDu1QHNoHBW6IGOrKHxbnFCRYIxWFmoUThFsyB2uS27////dt0dXU//NExI0RMHa8AIyESOYfgQlRy7jVigfWQ3/eMCmgPuGtU/spY3zDT8T/0r/DU8L6on3mbBh0rdrS6nDs0hCl0+/Q91O90RURCMPbs+7/////1ft88h3B3JqjHFDwcs7I//NExJsR+Ra0AMvKcKrCZVNKl3QOv2Aps+Un7NnMhyRsagHicUPGqT/G/v785n4oxHcdOXs/RH6PRo6jA0Yc5VgRl3bWOSn///+sytY4SsglbectPEUSYr31DAF1xcNw//NExKYROaa8AMPElMKRpcGMu4czuEdYw4V9F3JE5YrtJIc5QLUz/U+RA4Mq+m0SgdgK/Xobc+AVnP///+rdNtsBsQJZTsvFDBqmK3EyzNMjS1hTlvSu4wfYcTPYGACk//NExLQTKZ60AMPElBGoMWCXFQze73X+N//////9lY27f/q11M6KCu/9yMQXf///YirrywoELgYOEjENtlMbQGmXeaWS+mQWzeUShL0r2VJgzgGJbPcaQBsjGmJK40FW//NExLoRQKawAM4eTKTv//vF3nUfeh4Qd//oCif///6XQDXGdpR0ICoyDsVBtzfwnMcXM4KBkBjALAJ6PkLJi+eJgBaQbwaID7HGbMonNkOt////34eqKnfp7deLFg2c//NExMgRkZqkAMvElP+0ndJu////1svsK3hIJ55zMRN6KlpyQ6JBYYpSBAmGmpLwaB5IGigaJhmnIIVgQ0RlbdmuPxrsb7/1Of9T9W7dOnV9EnYARvkyd0oZqiI9owPi//NExNQQ2IaUANZeSPKOts2vm3jCoJyn//6tsQsIDEX91lsgJE7lkMSfuttRWH63qPJ93aPAuPM50ooOns0roos0EuNwPYUTBAfFNU2pPo+3br6Kb1miCc2cW3LHoCcQ//NExOMReZKkAMzElAxLTlNNV5zsLhR3/+r9VVKN93UMF4G/BiY1f/glo07lBQhEzfKurazqTZR1gGVDVj6mkYHCC0ggRkGRJDBEZ3OLbV7//+ktmOmCazFT/WRGnWB4//NExPAXKaacANYKlCjUM+lhOxhoY1P//+vpPJovQ2kqW2ePA1HOrkJWzVKZe/jOzEJUJn5yBmRQPQ+DBpcvFAadyCsQfd9Hvf2WyhL5YtFu9TWvy7//R+n/81lDDlmf//NExOYT+TqsAMYacP+3K1qSCh4lGafLHi0Slg4HYK03lTzNgqCACYbD5n45mMhOAiqYXFAsFzGJymC5M6yIUX8gBCAHIWUlBHhIT8S0JsNJvZCdMbpRNu25m4lCbiIK//NExOkUoUKoAMYacICX/lQKnX+BYT//pQT6NFFDngOdmCHBjYSAuG04WYmzEW5PR7PVaFFmGof16qzTwvNB8a49ER0yhqF2lQKsVUSS5znkCzCm9JNHaukPUIMmloAQ//NExOkVaZqUAM4ElFpxC+LLEbnvcQUWXOMbMklDVRsCQ2DiUmE3KDqaXy2eu4f3wzcRLNIaOE9roEpzjHQN1+rlmbZLVyXbpEWcLc1fP+LmXCI2Kzty/82z5uKnvd+Z//NExOYS8KJUAOPeTGLq95hb+fLLUI5pyX/CylPk+jxgkIJiYQRxaa+I2CYG3dlsClfmk6xlI+okIrenohz2YP7Thp5uY6Xui1AtG/96M/y3aLevbNkk7J1t683zH29///NExO0WEH4gANPMSNf/+MrL383r9X77f+rqPiDAMFiAEFIU6SiQYot0jA+xBNniDp8d2f7xDVtH4OnOq2s7zdjbbGe3xXV/GVfEnQdZ7WQm3SGaquYmljON9nZydy2n//NExOcUuhIYAOBGmWp7a3Iav8pnV5r8xgOACEAETAIAohcTwOwbxw45o6q2djRq0WSeEnCyKWle2w3Iv3NbEKPFp8tdjeWJNlWx9hnjmT0c4ff86P4+DTufnFFSnqs+//NExOcTsEocANmEJf3Lu8B7XRDv1l618lW61+UT/2o0gCqTcIOBxw10DH8PNcCOtA/++EQEU/XA4R4AViBtx/9wNi/A3pULfAOCZ/8AhEBogQGGJAZooCIB/+BuDQJB//NExOsUMD4YANvEBUBQmGNQMSFGF/v1wbZhy5wBgeFkgb4DcH//4jQg40BzyuXRlyuRP///84xFh2EHPCkxS4X3KB45/////kAKgaoGNE5iCZByfDlxXBSglAiCFVrw//NExO0WUWYUAVUYAdM4ACDDTjhb2uGGIpjSh3LTPKecAQY8GSSBIIvNSaDstH8eRuPkEcbBwPZKaQZgSTQe0zYE44mUjuBILjSTcsg1QtWoYw8yvdsYfye+4ZES2WRF//NExOYkGypAAZqgAH9VX7O6d3ffz++brZUPt8xFZ+nRZ2JPc2i+P//9lH9jPuKr/RRtjrmHMzS7f6shVhIqk4K9tG2Zo1GU6w7EsGpYCq8pTgSCEcT1CFGBRPBJBzA+//NExKghiuakAZlYAYgyh6iBkiOQqSLg8SIxmS5LlEpFRSHcQCwaB7DCzQYw7RuTPKbsiqmpNJT7mB49bPoEN0VTzn2pLatFSLOtamuylrs29nU/Sb//62//10aKCToL//NExHQfyuqsAZloAPqWzVrMJdV8ChAR1YOP8HzQckh3iFGpaQFSucp0rqB6DC9NjmRH1Fcd5EJJzxWsvn0yXKjA2KI5RhUlomxopCEyGLJ5otklJGKJfNyXeJ6SgjRk//NExEcgUm6kAZhoADmJVEyO0UGKCbpuggPUgD4WD2Ky8ktbfNJp+VlAxXSRUl/qsvf9e9jZGik7G79uDXQ5E/QDohOnDgdVp2uuCs04AJB5voMEjBiAaOLXUG0AhdKX//NExBgXkUKgAdpgAEfc59oGiUmZ1blDqbOo42G2WaVgaZPIiyYrjcWmp1/Pruztv/faemf+85Slv+97vSwfPzgQYKCn/u///91EppeKgsWKJGLVs8rkghZNjcGNes5V//NExAwUsUawAMGYcMij3JLX45QwKGGW5ToXZu3zbG9PzszJg0v8SCqrhvSrRw5C8spS7fs/mxdC/H2x+4LgIAHGh80aKMhgymTbur////t018+husGIWruZNrZlMQ7+//NExAwSEX68AGmGlDIBAQaTAiMU9Zi3BCAIti3AZPQJghhRTDCjc1z2zI2qKAeygiIzOdNCpeORoHyYIh8E0IMPBxdNTf//+pXRDsJeksy/02DVejNOiZAPkUmXwhsl//NExBYQCMK8AGjSTdbpv1pstJoyf4mK7NvzbqpCoYqiFgp0EolPROS5ZHLbqpqc7/37///5fSpWsDqKjqI8zX4xl4hXfzgGDD2S9VdkFu529EgDJdTDhSiZj+Xz5nZ9//NExCgRGSq0AIpMcFfG7+WwsacwMwConixYNFwkFQ8fv9DVouh8kMI1u46AD5JFIsgREuV5S+rosTONZsCoa4tk4pbZspM8wIf4YQHaCIJpOsEtVmfT7ddydJ2DKHbv//NExDYRQOa4AJPMcat/aC3yvz5N90tlN99J+rHRQwF+bSYAOB6TA+HLakKwvVcnsodZhnk++12444hfwK/AjM6BkVJcLgRQcJTrmzeES9BtbnHW5dMZQzp4p/b/o/////NExEQRkTa4AIvQcP6KlaLuRfQDeYnipsOBaGxBj6dNJeFeGM7zTdLVkcq1hRs4lZcZzFxmj69IauvCKmVXNgFJrshZrrNfrNb4xjsanBtD4qsgUjJ+zLcqDlKHBwxM//NExFASeU6oAMPSlEoxRwjfogMpiCoZQHBjMBBQAtJMBghRB2n3JQAsM/V2L0u6G/WzmUpZPG2qx+i/O0BFHkwXEGmb+F8LlVfwltysfqozAmjzK5MjIc5yxDSSvFvQ//NExFkSEL5gAVwwAWmRARCMx8MTDwnFk0YDAiFpMDINTgVG+ojGRuMQTlSDOEhrqKUb3ExpeO9U1LumtPVqXCpP/n+J+CHZvYz//i+fzQ+8H7P85c79t/Tyey7/u+Pq//NExGMYkV5cAZxYAEQy0CHhqBqZQCroaK2GHgjiwImCAMpo/BjxrWwNOHmZxwMqSClmojTg9UeIyMTq/FShjqxsea2pEIZ2mqPItjyjkMKMf9ojyC/FscXbzMMVBToh//NExFMiEeKgAZp4ACT085rUvfGFBEfwImKM5Pkw2SwrRPr+md3puBT4pr6nrPChZjOb3qdmPhg4r60f4Yr9Q4KFqq5gheFiYlcCuiyQhnT1IyPhasrI9MJ+upZJoaPv//NExB0PySK8Ac9AAWHe3eZWleJKmwoUpJDWVVbVNmXCFyyClThLV+m+/Nin8v3Vi24IC9ylm4DNZdZ9O3ctReyS1J0KSNkITr1qFyWb5bcGQdmWUTm9t5jyCaS7TuvO//NExDAboaKgAM5YlH1lPWpadhi2taPaacudZd26ztUxvWzRrV16tLNb0/k2/vtufl+2KLPVcFzygsSQWUpCOdMsaK///z1tBUVctTUEKxGQAosSVsAwA2bAyp9mfl/V//NExBQW6S6QAM4ScPrLhEUHJhifQnIDpFLWBLqkUpbk/MtlVDKYqFj6EqAEDIIgFACZIhUWJtikTbSLJXH+P+3HNVQ5aJrqeWd9Z2HVuJf/6P//WjSkJN0FEyKajEo3//NExAsTOKpEAOPSTDNBZDCCYNDBh0QGLRQB8AjGjAOYgyWmUQnxjqwuQyLAGHkLVpEytRBYAQpUFTVshV08RU6tQM0QVT//3//////fKzk+MkYVEAyTjLmaa0vG/Xq1//NExBERKFIkAVkQAGl3f5lhaURQSlCymIQFdQWOHFXutc6YUmne0X9ror3DIhTfzTxRzvPYuUsFZ9K0FENOtHKbg50KEwhfrEWFJ+n5L142GoOzC7+KRcQBwUMJiL8q//NExB8aUyqYAY84AFxeNFEobjqJ+LRuYcx79P9TmY+TH2NcbnDn/nmGZ9BW4PBYYTH3f/9vM0Y+pxISDyp7IYUD///sZz32q+QH4rB+EIvGVF4+JAwL6jCg/8vr57t0//NExAgR+xawAcEQAf6pXrf///+j6XVqIyJdie3REoilUtHplQ7MsrmF0ZmKhHcyq8EpTQyzFSr87FVWHO8OhrxZFCA2BEK7OdZgBiECBf//9d/8svNdf/////bM3v+9//NExBMSIxqoABBKvPXRWWY3u1qI852dK3kod2oiOUpyiphxh0VQexg4YxiWUom4iKCBGDwHHCzhIeNBQ4OOFsCqpUf/////y+z//////j/7/r/5X///+I++KmY7uWr4//NExB0Skx6kAAhQvH147tnpKeog13GHbsMmHFhQZbWNG4sLWSNNbDowmRIUUSLioigTYPkEWySLKVUFf/////5/9Z////5/9Cdf/8pav06qpD8ZajmMRC2Muu+pziMp//NExCUR6yKoABBKvIPhMHYVQPscqBQZUg5BxDiAkUKUUAQIAiBIXFg+JC8SCYuyML///+8on9bqX7/v///q77N7dK2YlffRLESQrzpIRj0EEd6syvZucRvePMd2Yec4//NExDASkx6sABBKvJnsOGqMOYhGOYeoRc5XChgoJhY8EDBgkcRFqh3///+XI+f2xO03k7///4Fz6VkvTT1Y66/VZ7sZ5Z2S5UvVL0cmpjojzmdBIqStKt1KQx1OpmEy//NExDgRkxq0AAhKvZ0NIKCijQwaOEx5EEzj6rckMr/XSlCaoq/poqoLYk93R5K+6Mvp/VNH/+mn///6U+tk9tEzsfxBTUVyXbVjkItCurCAmSPMZzlVxyHAqlFKr6yp//NExEQQIxK4AAiKuV9zPcWE7tZkYBOAlsXlm69Pl3nMys3xf++PbbDplIg5+H6bN6mEm/1AUDmP/R0sVIf9WGuiVkrXbFjRglcLiV0A1d1bkRBqE5ZZm74ysRzJJBlo//NExFYRCL6wAMYMTNymDE0ZN+PInFY1QgHt6hkVSQFzSKU2D4BWfclRFZ/JZ2AgKaB2v7Kztf////9nrTzaf2tFVrCUSceINgWchiTGEvfanlsMyq7g4s8oAIAUyBpY//NExGQQqL6oANYSTHsDTJBc8mU3v/v/p36f//////////+2jf/////19nZ+n/R51BqchVGlsQ2FgAYnlhhMBOG5AjCIuOGqtRaEu/9wLjzhABYYmm9W1/lVz7cB9Fch//NExHQSOvaQANoEuOvAsIhpX//6P+K1k///uQ4VNk/zbHGTYdaZk9fNuRg2ikQEk8pCo1Eh1S506G+H/HyjmATM86Im5CfMNQ+GvRbv1PqR1GLa//////p//+Xo//////NExH4RQJqIAOYeTP//Vrimd1t/95kDOYotzxoFCxCxsBgknmtbIRC9UDJzDA/YtL5Qo+sbH9PIjkkCyUggMCZNOnlSopNq/2Xqdqkn//////////2//////vtMv6V9//NExIwSOwKAAONEubNOUpDKoTeO6iZAAEAAICYxILk8iScyMAQt8qgYlhAsVymwGBgIohyaNpKKM0krpbDo45PnJWKAUxiUHFuNzsUXx//q//T///7KVWPlvO3B0FQE//NExJYS0wJ0AONEuQqAiVU1gJQ3xmU1WJU0XkQ1mEE5oc0LCqDiVMHwGMFAnMYQYSAMPQARGV0j7ADvmUXMNZQipFhRbCoz1UKp1HhRLJC7+M+vj/Xr9wKI9SSKii/B//NExJ0TSJZYAV0wAPXtVX1vrsVOOtv5J4SpiE928PvZ9/8xK73ovd6jr/i89sn+fPCTnGf3m8UiZRVkoYzMKINxwWYEx02XHQwMmBNUAKo6phTzsZyTQY3OhbSQkYuE//NExKIfEM5IAZ14AYDwEzC7BIhgk1ptL6a03NSVQHEPiamSUXC4gXy+mRi6YmE+UB+GEMnGENEGTfM79Q5mUbJIJ6CDJpugpT2vm8zrrZBBk39BBk0++3qU7v+pN0G///NExHgiKyqUAZpoAL+t6PZ1IJrfrWTGRQWuhNzia7Aa7RAAmIIJ5zINELD5BBQKVbj23cabv6ytRTD61uKH73G938fTVP+YZUtin3bdx4+dQKBCAiFZKHQaGrqXcQxu//NExEIhKxqQAdtYAKPcaGxauilaz3vXtBOy+VUzikNXch0tztl9TEn2c27j//3f//1z7P5fTJpC5hpsZPe85cGjHQcX4Y57GVJ5h/YeQ0WU9+28hjfIYPmuR4QhjFhR//NExBAVGUakANNQcEigmyF+avqQL764r+K/i5f5hK+Ff6eIuwqDeRo1Rpxg6ThxYuERVsmoeHBiTg9fzYM///zbxKsAgEDJPEVsDbR440Bi6sLGeD9mCNj4+KRuJv2M//NExA4VIU6oANFMlAoy4dg8+zgz9AGFGpCh3n8x3sdxds7UMiG6SDyROThtNnE3eTSIW32VB9qgHSqnZskTh97v//ilYo558WB8448IxUmNFUkq1v8biqATO02Yf2CA//NExAwRmUKwAMtEcCxAGoLUWrRKzRtY+pp8xd+j+KEO5jPylb/7dFR1tjTwDGkYcE5kFwKMObHWidQEuG9v//ZQS2CKmkK15n+5hFcTLT96ptq5SPoqIuYwIbdRQXfU//NExBgSEZasANKElGJfxmTMilRJ/b///qRBb8pEnXWh3djvHIOIPh88Iw+MAhRTmufr//+yjWsCZAMMQtXX63cJFl2qHWFdlI1ht4EPy8Bhy17B3HL2SRDSv8/bbmR4//NExCIRSYa4AMLElCyn7tJ//1f3RqVV96q80pHElInhop3W3i////3UqSmlYUl0KuzjKgT4SD77YCmSmaQ44bRY/4mQY2veoRzn+08yeDxArQ4Gjlf7LimIxVSh6iQI//NExC8Q0L68AJvWTF4XYtJNw0uADNjP//8duHbDRmxq6r6I1gM8SSRzcOGMF8+IEAvH+ZBPiUVeTSA1tkqj6h+GRZTqJf7fb5mTqVHLZTuh6oUPaE0irDdo1qCj6D/2//NExD4SMXq4AJtElP/+ipTkPw+s8xBK5rDkxHRyaTxinp6qdreWJqyg7Jq1l0TlBLWT0Oo4ZupqhCnrOio/5f0f6u/c6rchkExAGrI6C0Md78rVb/gnFXf//9XfrfZP//NExEgSaeawAMtEmBZNwo+0UTEAA/xMAhl7yeDGXPCpq4p73HIYNR29km075n/dnbUou+tTkSYzmI3Cl/039S9HylMUpRJWDCoNA0BV/8XOU////+RvfdDqBwO6z7w0//NExFESqW6UANMElJ6g1CP1NwwCkM9DrjQ/Ie/lgF2CkkVCAYGufnss8q4tGdEOb3Vbu1r/////////R4MZbtr/////6fKSRP16Ks7mHHKqVXEFgtV0b4ATM88mDgOK//NExFkSivaAANqEuVaLpCRmUc7hSAtGp0eGgRFnmIQNQ0iRd3Zuvf/v2////////+3bK3/////35qszjfa0qs7scFjGOz6qOgRRZ7FgdLYQBYiajfSRKNR5TqwT4rj9//NExGESCvKAANnEuaSZQ4BI5GQnj4fiKoTvAyARZ4mPFjXFj3////+j/////SJRh4sHVzS8qOBmIxgQTCgPMVBcw2QDKIQMGCUDDEkIDqRAmyrOlcHEMEjgAlhHE+en//NExGsPuHJsANvYSE/en80OAoFESTuWr0a/39vT/+//zv/7P/rVOCB0WDHANbTimCAJfpxr9kaMDrmCQmVzuNaPU0JFt7FsUJlS+lZJYtaigg81Jj9f2NECxWi5zpux//NExH8RUII0AOPYSPTuGDadQZe1lCqBffYtQf7BYX+nwCgHC6iv+yTFB1S3gtAXg8OADWAWvgXg8R5jABJQAkhyAcPyePM8SZTCKibBMxkDN+iSZuZl9wupQHEOEYg0//NExIwQiCokAVsYAH8vm7l95uiUiSQLTI5/3m707OVEgYGx8yOJv//apm+5ks3MisoJpmpLmD//+pvUyGy+bImqdM2KJAJNMzND9WrOS1lzU7QpgFdYNFK7g6BzADjR//NExJwh2yp8AZhoACQWGxb9vCmImY1d+F8kQsyxgFEJSPxIKwIF0yFPrGj2MLqPRME5xtFs/bNfXz/8O+f2sZzLWXMbXOce/Yx2yG0z553bq5lk7aq+pbUtqGt45bUN//NExGchoxqEAdpYAGtbXud9OdEctO10yZLzp1XIM9MTLifGck/EM0C12vC1hp1rb7KOjKCONg1Lp3YCjYoXCaSpMwuzaUXEKlQvlgrBk4B0YLIRzHJccYocfQ8Oi5mp//NExDMeAxaEAOUQua/63+r6//+/+NHqn91/6vC2j3elLP/XX58c87pHFfxcdX8f/H/z3XPWLoiDxOLgTJVxxh8XOaPcdJxAuJBBc8UUoYwl28t2sZeCDo4cCaXPS1lZ//NExA4WKtaYANwEuSoQCLYxv9tjK12RD/kRdFjEcsG1hB48l4ujnmGpNO1lp+ghb/r+hibS7kstDsWxmR6v/////////3UrrlBXBOUqGMdjQrnHV48m6pyclEFjgMZV//NExAgUePaUAN4WcJhnYU/8CWxkDMtKSgvcMph1ct/dcOpvL6kMw1nnIQSBTDXY/OunYbtP+xl9/VnHsslo1MHhRKRgLMt////+raEOYFoTHEEGhAgtylUmo3IOWLY7//NExAkRuM6gANMWcH4ceJUIwQGzHaZ7SZ0mKJvheafoxADpJ63Z2GTbop8OVEKHqJCPNUqTimObRp////8glbwfHBEuINUWvewypZDukZGaDCLB/nqwgIG8Tsl/nYNv//NExBUS2uKkANKEuVpUL8atQQYCSXPGwUs6s1uh3///+1u5E+vr0tyf////////pojGsYMpEKWdmCIV5wkhoQVr5XWhy1u6YXkn1F79MQSBJc/WOvnPqgjjhjHkgUpd//NExBwSCrqgANKEuY4wYgWjwzVff////+u2n/0a9Nmtt/f3W/////+s2zGOtVMkSrgUtYuDuMmEqsf1bVUNj1qEW88ATAUsbs6C1c6Je4cEZMziLWECxGUCJMVPrewT//NExCYSMJ6kAMzGTP/tQw5+owt1hAml40NmCTndPT9LEBoztA4u1gsGDhUgTFRaZqw7AXxSyaUdn//9PRQoQrscmjaP////+7W/9K9b9TaojNIqSoyMd6umjTyUIdRd//NExDASow68AGiEuRkbV5DCGU88IrhDEIpFooxJyCIQQZTggArRCiBz/////i/Pl//////f///yqpkoznKVFIWhSNMsxzPujkEmJKHBAiDWGDHIKCrzspBxyIUxhRBL//NExDgRwxq8AAhKvBISMLjDmc48ag8WE1hMqTf///f/9/3/M+f/7/mf/67+PM29xn+4buRs/VcstNGd80W6aiJN1sQ3YLMs/UiehZhIzUgAwkonIOZo9M2NwgKBXOYx//NExEQRkxqwAAgMvIhqKv///3////////byU1/2Ru+j2F1XU6uRZnOo9VEjKLiSKp2oHRBkqiocYODTjxgcDyh9A+KmD4sLCxQmQwmcREg8LxYHZuqX///Gfn+vMhma//NExFARUxa4AABKuS479////V//05v06bdezJ3MejTFKj9C1FTXFkILCQeF3JIJHVWJiyFlKVHGsdBsxBhDuIIQSEigMKvVgOebiyAAAGIhFFI4krR8uMQ7yToXZm3R//NExF0RCyK4AAhKvD61Ihzg1t98z2///rR6/7f/p/0f/l0//MhnaWUpUOVpXzP+ZHeUoEBOBHZzHDLcKJWtrkrGHDVXVDfhYiKFIVsMGkcvC/bo2dNaujYhs7hrUNjg//NExGsSMvqwAHiEuV9UpGrWHOqFVnTGzOJqMv///8pxyASOzVSyZrTYwgchFH///u1rfLZ9LUq9yq9BjPRgxiEbQGhmNKGRBNXdORCCq8ydLvySaezh2e9tBYVJZwdA//NExHUTKUqoAMvElFQ9WVFbWrVf///////22klT34TGf+j///5h3/qqpKVtgQAnqswZCDwFArngNkRbZ0MDmvJU1ZQFACS3yD/o3JtQSza4eoelygWmv////o///1ve//NExHsREUagANMQcG/y5YcEA2aUYizEtk5IADrFnCoLa1PqEGQAO71L1CCB/zyGUm0FeLHUeJblTsgTC9az9Hrb+tH////////////////7cxdf/upHKUzFYFbZLWqd//NExIkPsJ6EAN0WTClhgYoHCUsGJcu2vgQhwMDiQ7LwuMlTRMy8WIalxhPVhZFCv+b0DcIAFa6CA4GaAAgHJBbzKS4giA4J/////////prqRcSCd0CkxhT2konUh1NL//NExJ0RwwZ4AONEuYEFVsAPczyK2su1iaok5RNlQwxrJJjWxkrhZ+obmpRdCsktBkyZlBQZLCRgLmEBAJFgAhQcgHPDgUVDJdxRZPd+5reX4M34q9K/j+br/33//+u///NExKkRkNZ8AOMGcOP/////+bTd0RESav/hEhESiyz3mbLPcPqEP1CQSBnMhiNbyvMDxUzQHU5lA4EIGZ4TdF9aPquMqPfux5/gW/u73mjJXHcN/2caaYFnUpfzXszO//NExLUeow6MANpQucV8+nuDYiwqHyhKxFN81meeAoBGQOD3jQV7Bj1B2nAdjsJK1FYtHRxj3O/+m+v//ZpHMg8XSUUEzhJBtSoyizqJjzIIKJnU4HIKIgmNXsaswOmU//NExI0h8xqQANvKvQhG/EYE6LZT0LQniQtFixIP1bjxNuHYz8TXllelNvA13oR3JlApSADA44sIS7lhW9rx2R8QB5fQvIir3DXjLf89zQXFibyb/d///uCagoLuMPDx//NExFgXqYqkANIMlKk3gkFg3NWpbrEso9plUKuZwCMtTNQEmgE5NY7Pr5xEnITzZYPcmijabvSSBbfTMtRzyM/nX////3/9k85iSLng+OdKLnn5bulBdovh4dM8szDo//NExEwYGZagAMsMlEXJNywnPfvOf/YihirIjcKKFFmySvqPGF5x5xlkTGcxbV0HlC4I2bS0YsguBczSAHXXIehSi8eohpASBKM0Zm5wvr//qVUIHikFRhxcgkMlZbGM//NExD4W4aKkAMpKlKNZhEFHyhIYw0g80I3BuZPTl9NbKv+vrquTtYpmqsMoLJgI5xV9YwDyu1DKOoOjOOkFjMN7E17zuUQdSfs3KTeEATOq8Tpvzht/qWpTQdC4fa3P//NExDUYEUqsAMYGlBB4UQyiF0z/NK5bh2KhFgAOGAYFnFjA8mIQGKn+7/qSkP//9xxb6BxcufpqUicCDE0uEDKsvCcTzjQK5eiTlCshljrIjVjc8vX6u+YXJWZgw1JR//NExCcRGMq8AItScJJHOGVh24okmGhMbCIaLMYKNFD4dO3//////6r9FedsJFJQd4So7nEG3z02QVfoOVz8MlO96On9rZv0j/hs3jCsrFY1DbcMoZsvXVtW1NKSpSFQ//NExDUSIV6wAMPKlGPQZCqkqPLAT3Wa/////7SbJbkV5SQGKxWxsdZcNLWC4rKdKhgxE4Op+wn8qoMAylVVqQ6balUM14te3QsMUN7V6nVdG3mlahubVtW/4UTMBCvh//NExD8R8VacANPElN///////6yodUk1NRCAHMNAsxNMEZIZ2Muk/JbJiueL6d5N5ACAIZzDe9yeTiDF5LHhNTp1avb///9v/////q3//////9aZP/oxRwBw6FcWZR1q//NExEoSWwp4ANqEuAIBI/uMdKiCwY/YgHDRQjN9AIIu7Tzbe/clquHgKhcxhjIQNMckNmfT9P//////////1///////76Kiy/bvkOhwR1iUiVXVPgyyKKNEXTxtU3oz//NExFMRixJ4ANqEuBEMGLkxloEmqMoOqC4z9zr+ztNEnJiiwz/hwEj4pZvP4xj7kiaBpIlETz1lP/////////6w1WWplTM8AMwmM1MFzIpKJBCJDEwCBE214CcC5moj//NExF8RQJ5cAN4STJQtzt7pYCFKfg6WejLIZWMqSsWVvTrT6u3zfzvXEWy86hF25dKOL56b04sqPMXXcwRNGgaXarVH/n/qUlJY5nSUmH16e33QcDdBxIIBFoAdCYPt//NExG0RSHIoAOPGSA+8QBgkCCwugHwsqUOfM5apmXj2qUzL99YQ/zb1XeveinHkgjBDIxpgEmvw19BRlaMoeCf+Lu46gyUJjsORiw/8npih4gFLn/f+XxiPxeGptSDZ//NExHoR4HooAVoQAFLtESksZ5/SwzlTRqG7938M886Skwqy2lrWstbzz7hT550ljme+fvGrk2sv4NCUFjaSzjheEAGHwQgqCV4uCw9Sf/g0hWt3Dx8HAgrudQlNPNBX//NExIUfgVqYAZrAAE5TnnDqhKaVaLfgalACwVJRHt/otDyVczZursWcPErWCaLybhIVnSsDaD0Lc4HQNRTURBs1lRo0w1T1NAoLTYvHpmcKNaz9N1daDPrVoLoNWp0U//NExFodCv6cAdloASy1V9Kqkv/+pvV////vZ1br1ramtLpmiyvO1W5y9ygpGDEUwIUFAU8Y++iIIASEpjthBiXXj5hQqLxfldmHO7h7FQmmqeZJSABgsCyRoeafts+4//NExDgXKTqcAMvScCSUIY6se16ihZrzymGHBhg4ohGMEAJg+/v////8AMS3bFGJPUJuMeYcVCzCyVHktkdKAyTdXNEASGrlTIQ8pIsIwaQpIBlWJGTGDWtwqmFTaENA//NExC4bkaaYAMpMlCAKCImHD0baX8U0NeI6c/d89t+kC3mV5fv+7/1WfblijjjqBpDQMoMA0OSBpNDr6cXd4xyHilQtLTRRzjAfqWQq/WDCw0GMW2flvaPGPNrUv/S8//NExBIWevakAMjEuTIMBIEYN2r5H012tGCAOVFGNXY5+nz8yS+zVRlQzXpW+9dOrUdpGdKKdSZBgS1W/v+jdL5Pk3VbshXOiLP7nDizooGBk2CKzUUjgSUN1lkierMW//NExAsUkxa0AGjEuP/Sls3m78/85yykvFB9J895pn86P9ivv+tGt/YlFVXcy+y8Oh66Mx8zIwtT2v7tV8hCGOc1CLdTnI0SVhnizgBUCIAIdgjC1Xhn///IRhDph/kL//NExAsSQxqwABBKvP4mK4eH/92Yf/6f+sqaUfuarbom5ZcqFqxpbTc5HZxu5SmDwpEjkFyipTi8PtFCD3AUOKCD4tHBMwejBodpSJ///////+f9f///4/+5+fj65/j7//NExBUR2xaoAAhQuP5+uZi5vjm56qpbz7vvlCG1++6tZa9+mdraWhagpUhpOk0co/oXEJxEEgoLMYMs4Pw3ahf///mX/mPkmXPafgz/83+yXvv0vU2zkXmoz1vVVtaq//NExCASaxqwAAhKvdnVyZ0LPY72szsRnE0FHIo8Rch3Uq1c7iE7CWETFHh8DkEhMCMoooOUrSDHCBRaNZ1S3rrQrqmvy7QwUM6FeVFMn98v/+zsqb0v+/o/fVbPX0lR//NExCkSOwK4ABCEuZ83zGlTro+ZbzTs1rqyLFKyDlKZRmCgLEUgsQUCUSdMv81RgX4KNEZYFhAcaXjKyeA2AYit94U2/djxil70zSk68Rbk7oriwfiJp+ybWIFpdBum//NExDMR0OKoAMPMcFCRz//63l//+JXRF7u4TQgLnVl66tQ/hDC+xwL1CLk641AvWLCxgLMXsRJ5w69ZfR8+v4Ul2ML13JhMoBA/ueeLh6hwOHgRAwgO5R0/J1WuQ1DH//NExD4RqOa4AIwMcCXUO////+LuXf11uAd2i7XGUz3NLIXtnAoDtt6Y7r2CI7yXXyz5PR7m+82iRDBsLWIAUO4U69FXRZnGfBE/BTLFP60bMrFGf////9rmrfiCCSCv//NExEoRMU64AMLQlLYO8FE4ayMa2aCdPKcw3X7Yjf4c3+A9Xgd+WvqP5BWMXFxPTSLN6L3EXCD6gZO1j4Eh29G+1iIJfUe////+/jhilf7xF4Xk/k40cMzSWYmOnOD8//NExFgRkUa0AHvQcBPWjE6E39Wd18t7r9qvxmiK2WLh85AFijrINbXXjmvlfhvja6OWIzivtuR6RT/////FXDAaUow2zZDBRA7MTBASYEBmJFJjA0/CmqmKWV93TYDm//NExGQRqT6sAMPQcG9dqFzR0BmSKhqxTstWGKzPldR/25yjMTtOzsrcLAUVjZe676l0K2YUrGDHj3//o/////nShMpFC1WAZbiYFJZw0qCwcBgCMFosxgPXBUOCgbXv//NExHAViUqEANvElEt2L3a6Q8BAj5kJeSz1LQTY4mSBTDsXkkU7LdlfX2///9S7/////72Q8jJt//////dnIRUpvu7MJj1D6igeCZzDBYkXRYovN2DEdpM2Dsw0CUUj//NExGwXYxpwAONKvCcDjOoOEQJeMwQAUro1bl2XSoJuF1IA5wvA9kqFakUS6Ms1JckB7oVNop1sju9av///a/////vsbyK1fv/////355zHGNS9aMa5E0xxGHg1uJRp//NExGEYowpsAONOuQDlYK0pBsGVEymEy0idxgdRGFQE/LXDB4cjsjpHlsYHx3EqZGoSqlqbnTdQwo7y7QTel1d+////92X/////rerX//////8xHT6bteUKcyCigIO6//NExFEUswpsAONEuYKZe1Lx3zHr88MnVrT4GjIyIAZZDQWIUk3upIVZyQVnOJixkRm2BxIeLKSv//////Zt//////ezf/////91lRWy/Rd2OHUHYokkNzCJMbT2MYHN//NExFESewJ0ANlEuU4gxLSgQOHNS2k4uRISWyiW1ch8uiDQ8cQwozxWXEQsJgjCc408/dO6U///uhCUQigIBBQhGkI6MryEIf9ejT0kpPb/zq+r//+9pD0nIzOjZGVy//NExFoZKw6AANHKuRzudyh8eKOzJFx1iMJeoEkT0CU6YCZ0TTGAPQIDgsNd3kXs4wsBfHEQNg2WDeSI4gyIiEgAgLJETC9DkZN///16md3KZlGBgSFc52UgaGUUwphz//NExEgX2uqMANKEue2v9Fo1KWb/9f///++jydFvlYsS+tHzqqmV0lUk4SR3hGPFritnhcAJPM9EBW57EyVE2z+VGoTBGiSl2UDgpB61Y8w+ia+/////+S9i0Zh7FCZX//NExDsVOZqQANPElHyIgCS4xECBILOZKOS9n6//1Dwq/60WqaQXp866CUFtIpRhwAfSvxm0kUSqI12wsEeHlRqi8qLcNwj2b/hEEdGrqLfNa7zn/////o6DnXKlpGZG//NExDkVEZ6UANPKlHOp2AdRqGERSgNWWJ2N6c//81u73ra46Jz4otXHLJYExYY9ZCpBnBKFz0VHVHnvqYgYabjHLgSxCHE+TnVbVOdarjqIuhcIs8Y5HVoFNYpTVX////NExDcWWZagAMvElOu6VmZLqclrlus6pkM4UoABTXpjfqLr/+i6+0UpaGw+1TFK1ys0U3wlucACS0o8uLKob80MCaFj6KAWgGA6G8R0wDHubpbPFXkuZCH5XyanXeE///NExDAY6U6oAMPElPDhXJUprql/+yXKSgR2coooMBkmTKGIQHigkPjQs2ZY4zVqGuFgBf/7TbGMmGDWPQbEL13WOo6Frq/1mtEiPXyuMiq6/FfT8Y6MgOj/q0OhDP2j//NExB8Q6K64AMYYTKVrIsWriYwJR8oAxZ1f/1LKijVvJxW25m/tNNRZdPCMa1n//0q9QkIDfz6BUGBtDt7rJbPZhTVqeHL0BKAUIauzxeJb+1OTg/rw8rlllz3hBP/9//NExC4QyLq0AJ4YTKSFWGV0CylIemjtSh9tU2oVNPs/9FXHDckLBTmyIyuyp2B2Q5YlKiwZcT7xdAfD58hTPpijphwxWOzU3Bevcf/6X////32eUhT3R7OgBBmCuOyz//NExD0SWZKsAMPElJrE55n///dRd0XvXSrLL8lsnMPwNTU0kMCmDElnLo0ijuw7igtByaO40ol4eRKNqP/////7/1szYiIDWIUFHnFkEgdGjGNf1MK99f/+MY5jepe+//NExEYRoYqkANNKlKrKrUoU2jO7ggxC7EtFQgIKudZ6g2dtAHCRygreh48a7vNT////+l0cyrKlCAmMFcEO4wdFDKP/f9H/6LXvXXqXlubm5UsCZViNiJVVsNGMWsh6//NExFIQQX6gANHElHMmipXewXOZzgTYhh6q6M3O/zvI0mndcyqmoR0UJOYqCYsDGnAs9n/X9///RsrO8TCqaoCnaeYWmB3TURfakxeFloOQ2bWdzUsvZfXjkspO2rtR//NExGQQ0WqcANFElPyxmYsI6KwUgaMrEKspMxlRLezZjB4cDwMhxvYb1nf////2oIudED9s+xwWVWi1X7nOAWQf0LD0p27LuBp1qN/H8wvKtawValJrCsAZ6lJPWkl0//NExHMTgQ6gAM4GcFvW3///y1qyMnRPTdd//////////5yGM8KdDCuVis5jKVTUMFSKYxWpK7F+QGBgJGjNDvRCDU0jExt/quW7AfZ7riaJOYlgc4JwI8LTtMHX//7f//NExHgTGvqYANNEuf//qturfL9//////////521RdBkZKMrnZFcWcsNrn/q5J8e2QbRPCAr40kMkI05Yikx7uPDQR0Ug+yDsoshYcJCTiaCBWLnU31//f95PV1l1Wdl//NExH4SquqYANyEuX5Xfe3/////////5kPRTPg6XTsyG7Ayvl0d2s7vaR9xTCPqpiI7WklAUKnVrWkFDNfqAg1/ygIswmymWSc9UjBvMvzpPN7l/vIMjoqCQxCxCkJD//NExIYTYvKcANQEuYsMQDQGLQgQAFEU/q/p//lrZ72zanmidfu00pTKNpECKz5ZX1DzPmm+51Rgur2CAqiVAa+gqmomAA/r/9r+hVMQewgLnGHvMHUUJldiHFhUewwh//NExIsT2YacANJElM4gAhYNouzQwQaP//1vWP+QQg5JqrdzVhHc5456ncsXRCTFiMI7hCnzmFZzxFunaNDpXfP5z23pT0ULUYd2ck0RjI4wkZHFTABDp4JuMKIPF8+o//NExI4TyYqgANFKlCHa7v3fopd0SGvYuqKBvlwiBnqnJQw+5LZzDDQFXfLHX28NQgeyCQUO5ie6K1RK+FqJCw0wrUsQBQ+R2A4wzlKE3OOmVmNRdhnnO2qH93ZOtEI9//NExJESYWaoANFKlNbv/1///9HRDmMU1pFF4urjBRTqofIRHGj/OFkFW2bgc2mX0cfAKUn5r4mfqKW6N5vq3meYd48SOoI4ZfEwPS7pHQdIefN89tLdT07/delVZDUa//NExJoY6vagANFKuf/////+uxjnnDpxpV0HSzwA6rAyajJJGf7jNLZN7597dqVCAAeinf9PUN6m/6fb3/5FagfFw6zRMBjJIQWM2JIoIuWKuu8rihsBh2z//+hp8KHG//NExIkTcsqkAKHOuTGpPucOlkqznYjYMQHYdvK9+sQKySan/8ULzAZ0HfR/+vMbstlcjtKMFB+yCypl2hEqzCS7q9m+va9R3///Q8SgB4iWhzoeGPpqmorDTRx2gOHH//NExI4QaU6sAMiKlFr0MzStACVYgCUoCAtcjQA5jM4Rt3w1+n+jQq2zGwoOpJXnt/h07//9RhH//9SltNvRpLhIyfSOJrpl8WtXARkHzhkDxB5xEUKhl1Ws3Czv1DMi//NExJ8QkVqkANHKlFUjAPO1U3mEy0FQTnsxvndjv/////////VjlIxmYjX/////+3IciP+miMrsdhYWJszVa07cFkAGMCR4HR504AjQsIkWJPS22rzl30CAbqcIoDHM//NExK8QoNKQANoGcEm8o/FB481H6e1e////T////+9FK0pmv//////1Tvy+ttDiTzCARQkqDrkackkzCBw6HENXCi19QkDDQEvzGIvDLi44SqauQG/gnACZgnvqUetM//NExL8SiwKIANqEuWgkPBPTnf////9zv////yQlOkY1TSDlpmMPAEAh0y8OzIqAElmY2EJUCAOBLhOVA7yuFK7Fa8uZu7NXat2dfSbYKgFQogCHAUFLARljzjxJE8jh//NExMcSSv6EAOHEuTperr9C3RLfu9nTP6v9/1NoarkavfA86CRjDt/3fYIEPiyn/GJY09WPjEBbB4A7gQ4UviXhex5jkC6jsHuLL49DQlE0BMhwAG6MgZf4c8l00DBA//NExNAPMI54AN4STCfEJEYYljf+XB6EoiSZLkodQE9HqMCVK/6E30zd0GJJzpoiVMh/+gyeXGrTdjclC6bl1FElByuk3//5u/+3k6fZJSB8uHzYxSqrDNK1gji0p3pO//NExOYU4L40AVwYADK0JKmryqYLbagu5sStq6Y1TtvIJVTUz2EqMVhIzMLn2V9IyIUlwTIgyOgIECMgUQXU9y8r+E/9n4V57c5ydO8bOF1kjSzS3OU6wONDjE93jHf///NExOUh4yqQAZloAP/0uZXVRpg0CApMGpgHxVZMeUbpMCeLFFbhkpV6xj7Qntiyqrw0Wx7VFWlwuYa7QFXMuajNevd7H7X29jnq82buoFTJYcAOqfMJqQXQp0QKd6CK//NExLAYSU6sAdhIABX//7dOnSrX6IISrdcqrgevYchHZwDtOGaoylVShOEK21GU+8qccoKCmX0S9xYEQzQjCxNqPFgs8HRp6PCZFCxdc6hcqs9trWLlbGAWeZbrJGre//NExKEVGTK0AIPScOkEMkSO3ENGp17DNo0BkL1vSLHjqVyVMLq760nXHFf7ZLkjZLFhADXm4Klb13VunqQCkt9X2S9a4uz////0pS+K162YA2Sl3CUTlBTzNmEzb+AE//NExJ8SsNKwAMPScGqUhmKunNqVKnpVcv//2/o3/////WlX7Tv/QlZ3zujJOc/UhGd0Jq9CNelXQjJIEABBFnfOHFvmdAJCVOfm0f/NS8MJ/IU+q+/v//7WT6//em5H//NExKcQuMqoAMPScKNVmpp9HSly1qlGZ923dDNYRYjq5RB0UwdKtCFdCAjCI8g9g+IHEg+QHOOFBgghWmGM////5/8uLl2H5f/9/7e31r/9tyq7E1yOjM09xzIyVIIM//NExLcSOw6wAHiEuciq1GQRUymI8st6WQWCc4iKjRzlHEdUKFigfKNRxUSmEVUqYf/////9f////////6//898VcfEcRfsvzVTjv7hKR/fXG4zqPmbHIjDi7pcgaiOf//NExMESoxawADhKuVwkUTApRaHSWLB+xhQYyBHERMMCEKnT1UD/////5r1y/////6f9v3+3T6ZLbuVCbLtVXcplulFMc5hFnMJsw8PjSsYaQzCwRQXCxBxowoEQcJC0//NExMkRUxKsABBKuUBoEURGDxR3IHh8yjCF////PH2CEl6r1///////t45//nr//riu2++IsUri7q1SFS3IxrG1LzVKooQMDlRxJxoPqcODuyBtB+26ozmGuOPKD04V//NExNYRyxqoAAhQvWFBGBrAtRdMcZEFgMKZUEztJS2t/lRStjQUweOxWGh1H6aP/////0zaG0ptsn+pWMt/KVjalrSiOVA88z1KWIsgeYyioiKhIGETCQstQ6AIriI4//NExOERmxqwAAhKvcYzlDw0VQPB4eUplYPD2MgeFRFQ6gRlTVeBTJvozZEwhDcRNetNkiUJgqgJopkpEkjJaRBQqSrGP/nfqCo0BXVjct2vLFis8wSmRKElrBJT519Q//NExO0UOx6sABBQvHSRUgWfDoiQ8KsPRKwWJDxA4LgAICgQAFrJhz4vy5aJlvrQAqEXwPmsWKr1qFl2hVGceQ6kwRgI+5oBPE14sxZu8P7S6f/sElv7z1NfC93EliPe//NExO8Wwx6cAGlKvJJ3P9/oJ6082WAj37gIoeWBeRhhgPU4n/AkwoayL/axFEAbR+RIL+B0gkQEkQGIM+BhgAfUPXHgFIQGqPg28DYD8ZciaZfNyIC5i6Wil/M0003J//NExOcT+KZQAMBSTJPE0Y1f63pusxRMDNEyMf+m6abm7zc4ZJmBkZHR3kU//smpvQzYvmxbMThcRSQRP//+gyCDFxpotNN20jVJMxjPpl0hpJGg5BOqgSDWxIem3id7//NExOoU+C4YAVsYASXjLVtDBIJMGWwY47EtZe/cNyCHXHf94F1FwpY1ggA3AmgmBRHkHG5mSxePmhnrMkmdmdH2qf+vVf1IXfeqrdSb3qm610ETyJk70Fnmc0QMy66n//NExOkjGyp8AZigAFaCU/c2PKdep7drbdtFbpugtmUgiYm5xMuKNTRbsUlmTpKPoUS8gaBFvxaNPCYAdhruHBUSXoDFkFjZQH4wpNMwgSfKVlsfYGAAyBPhsoDqAWgJ//NExK8hKw6IAdloASGJfIkG2Ewis8T55FFE/1Jetf//9WqpBbGQv3MVCcU93NpcKLo445KftP6+YMcfY0ar3yUZIyT7WPr////9+Xp5IGnlEOo0fB1oq2PEBHiQlubh//NExH0gkxqMANzQvQTkCijV1ZuUQWo0Qr5y5ckOslTUQFpxDgJAlH7oiiG/cbI00FBgKIB0loPSAzMQAwKJikshwr5E6q0NaL7Ioe7f/8z/aV9D3o0UDsXPFnMFDLHk//NExE0gCxKMAN0QuYfvYVDkLCQSkXU33/dw6RcMyfDKzEvnMK3FVX////1/DX6DzSaeUevbKtW7FeClJzuCiqqcn7MDGAAJ9wsl+gOjDGw5aHkyTzlOCC4B0ComQ8Sg//NExB8ZuZ6QANzKlAAbL5PFkOiA04BYBEqRiTj3oodbP7f///1bURORlERUeRyiI4TQIgCHA+wiBRx6iVLZ0q7KrOhoFTH/wMxa0lSMkInqKmpURYDmqkZEIseDpmch//NExAsQSIqIAN4eTEzaNDATg8SC61nJmKCGK0194l1Bb0+mKmLWzmclbvp9X/3VukSygZ/////nyV7viAUFD4AYtKqqxGo5KFRuqiGCwAzWfj8oIgBFe4XXUbcvnVEU//NExBwRcvqAAONEuTYKN1KNOs1dur7et+k2vf//////b///f//7///ddEzyGb/6q7kjk6FH8nkZhCXvCwNOJkw0gGnN03DADrVVYScEgKdYY46nADDJOYj0uKCVCXU4//NExCkQuJKAAOPOTH2KFBv//9//o3f/qqQJgAkCrWrrUFjgNgYpaJQuy+Q6InNIZhZqJADlvOwo4IgOxLrng0qFLbzDlnQBAOLD+NhQ/2Lj8kb2///7spDIP////+5I//NExDkRmIqQAN4YTAxU+o5FIu6NDxEIicQKyzpoiosCMABHUd1SxAwaBoCX877BLlrK1ZFSMThEsqe1tr8vyCOt+///w/n9toRf////7TJgYMAIjOOUNPgmDZQgkH1V//NExEURGIacAN5wSLlqUZlzALKFCIx9nDjrDgWcaMlHN9baR577wFnGocdWIia8VZkwNHb6/8hWHrzMo2k5v2f///6VEDQNIOiUSRYys4VFwoLl1coautGEYic39hYK//NExFMR0J6gAN5STDEwxX0EP8Z4NkkqdZYJos2ct4VGUe1muWm2TbPdPTkxPVoLB0k5bH/UHZUNFQW7bf/3////9HFGIAgOAKNVqTkpeJGk6ZLgcC4c5ExkWtPc3vbk//NExF4SELKQANvYTGeVph1T3QfqMzX6SUwKCXdvf1/////////7lMQWHt//////9pGyEXoiOqOR3FkAQbowIirtiIMhFiczmnGgqHIQIw0w8BEg+Lz8sAgYrD4iCY6q//NExGgSCxKEAONEuBfmJ7N0PRp6EJTMkmQcmTve9yDgMmToghFsQCJJ2DgMIQw+/l/+aFBp93//6giS/lx0sx1Nld6VOiYPGcNwNB29fgKozKDlRbwjGH/IuDx1xjV5//NExHIU6VqYANnMlHhf/94lV4te/ZoaySSTSTDRMa4igWF6DQiAeJZx4PhaD08IxUKRWSEgqYYjI04xTlORzEUxm7oi0IIqGk//////9lmzkH3MqTubWePmZYTaKsGS//NExHEcSu6cANIOuSqGs8W7G1ev+EP+3c0mRYGkwlFvhy9Ddv/////LMpXKIhRQ8wREDGcZMJUGDlCIYROtYges5spLpd///aVDIRDU8DhmCSVj7lUJAQuvErR7wM2B//NExFIR6WKkAMiKlEWEChZAkDBRyn0KJIRPT//9xWSBVhWCoCEuoChM7iJ8jPFtjDvPLd68r/yx47QHRKdEIwOllDX+I+NyMTEDRUQrFQKRGZjSx3oh1mKdNJDTlAuF//NExF0P+GKQAMmGKI5eTeGuZ5WLa/2+Yj69f//9Z3ZjpNeVYalWDDiVpy3/u7v////oF3DOEvAgE16Ho7Ga1WxYSgqHXCqiruWCilD3EgnLpaEJgMkkJc+qsOsjUJIF//NExHAQwVZAANoGlBbrtW5rlGzBiLjYWfFOcNjWK71qRTKT2mqJQX6oMlUfTgcuJb9aeMWE1IEwyIqRWVGi3NyVGwligSLsYKZBnHkQSmYjsTNScbF4zMiUHgZuJSE2//NExIARUDIgAVoQAArQtIjBDM0yiUCOeTUxom7kkgVkqaGxJEkOJYnRsif237Mmikp2Ukikq1Fv/0VO60DqlpXRUyKjRqbL///QWpNKxrNzY0bWXNZkqipE8uq7UzY0//NExI0iEyKgAY9oADJ3ch60iAjk7NJL2APbLnQcSt/LmPfsbOBC65+75IhGWVYJZgAgnJwaa01dwmgdDDg0KLGoS/fb/7Or////9FXn40ZOK/tfAOLR5zAtqphMY6kr//NExFcQySawAdgYAIhjfaPITxy+FJr1Y2vLq4ImssmqEMPthgUrgxml6h3pUTaDEkzR5FNLSqUSKFVVvs7tjT7P//+uuqqksS8HrDOBtMbDOKv0FwYxeQ4K8Xj20wLZ//NExGYTQSq0AMPQcPQ7fx8yEt2yP0mNUwI6hzV1uFAqLhVBl5vt3jo5oBFSssSGLKxR/hPd///+tdbmkAhFbe0E0q5NRfdD7JLFcNYyVAlhJIl9JIuq8yUU7hwooGCo//NExGwRYNq4AIsMcCugxpke1ktZHoi2kcejBM0qV7+SSdvShdvxRZj//+t86g69SPeoBsTa71WxdMUbOf//KVKO6J7+dGjzDtR9XZltf7af2ur///+p2+iJvp7053VC//NExHkSgUasAMJKcDT5Okmk5znRXzvn2OioRjoxGkYhCMyoos4GLdJDAysrf/8Th/f/7R5l+EN/rf/7090e2pu8htvd+xttjlUdZj0Mmaq6ou3Fah2cp3KiOQjHMKhV//NExIISuxq0AHiEvAWOKhQdFDhhTjnYWCIsLCoutSiv///nmP/v/n+OuqqJ6r749K4i6qepacdTf3//bpFurjFZKa1H0WXCwVKCCbRlEKH904oEmiDhoijRc4hCf/////NExIoSGxqwABBKvM8v///QlckX/9TmPv/3aJx/79dzEfNy+nr/80rc06RbTp1/e7j4rW98XmCE4vuYW0rQQlHwOowJ1HrJBQ+BU63HHUKjRitFShXwsLDlzdM4Qc3v//NExJQPexqoABAQvf//////iwogjF35lXYkwkshnWjTGf1/+2Uv3R9/1LQxkd/8pZpSlmNYpQrTGMzGcrKZ4UT6wU838QbK3ULBzU5s9kqDDdqmjVuH8eUV3j6Lq/////NExKkSOxq0AAhQvf+/PqWY40EWGgepxItx4qRxgq4mdggGIOWq//+7/+AGjwqiajbDwHLFFbdLWVtKRktlQwDNYAgKBffj/pw3N27f1b//j+f5i8gVkgUAIETsIPOS//NExLMRwt6wAIBEud5wem4uOOheKuKiI3T8IsMP+///WOEohoXFAavJhwWIKnUnnjLXnMO5T8lkzsNfiG4WAiTqefqS6to+n9W66IrpztuMoJDOUMDaoZ0KGBsEiV6n//NExL8QkWKgAMCKlNy2qNqfddZ///+Vq39y9dUDFxaBUEZmSYmBAmpAYCIoBRkFF7AKCwcCVYxjkT10litYD7et2xv1+PP7UXLfJ7hmWRytq8rSLA6sRIVgUVcr/rGA//NExM8SSV6cANCQlFYRJBUYWEod/3f//9YxM3gGMCANMKRMNLraDkiDgoHgIMkACQHvEVQviUCToXGmZXmkrbtiJQvW6Wf7yxz8HxysmQ3gqzaSkAAVb3Xss7mforq1//NExNgQSTacAMqEcGWPXRfjkeqxJ8utpq7o9IsmjFkexJisDmDR6eZkB04zGIgEYMBhj8zhAOWKSAswwAJBVGAK+FFGXKpLnXWwwrT5+T7bQKGBMRsg6CRFtLq5XqLf//NExOkUMPZoAOPMcP0USqfZ+dTor/o7Vo1Upvj1QoDFUwkPNBJ1QmnLSwkPiwmZeGmGKBx45e9jDaDgLCuOAoj3C+BaCzyASY8zUL8JEky583QKYcgKoQB2DvLwnf47//NExOsV8MZIAO4McITAoDgJSJyBODgHePMh/0S+bmlMYQojsHOZGp5/+SjFwlDRNM3NDIvGRxBJBSf/+nZ1IOYGitaJdWpp7/OBgoGCBQTyyhGJgCJAqqWxEgu0bD63//NExOYUIMZMAVwYAGPCEIT7LpLtXanyfYdBrJOtknJU1219Z46cyagOs+2i62OTe9R6FNOl6Lx2kEQhwRgLqFMiKplp4lpuPHzpyFnGZudNicatNZdarjkS+5aoxlO7//NExOgjKlqQAZtoAOWMifr2VPsjuI4r////////////+O+nPmP2P6dUK3yfCEDtVefxnx8pOrWg0CXsboqz7l4H5nKdZITNISmK9GQ4KdKyBp8okZqWK1x8sLVmJRtr//NExK4fiuqcAdlYAZyuWaJBwiUao6sL7UPw9s+qaFRMVBA6AY0YGiIfCJIfGx7ZSlKdBpxFxUhUMU6oVTUrqrsQjnta3diKdPb///3uiFVJkpyaLXdhpVvm8oJCkqse//NExIIeww6gAMvKuV7cRYK93GAnLjzwyRN+Ib0V0sbvrpC5r126+NwFfDtI7ZHmYsKUCCcU1VL1VxeT2+72NuuFpbcni4OHAyYDRM0EQi4E9rD5ATl36KN3//o6vZKq//NExFoWWU6wAMvMlOoMdBV3QQDiRwLqI4d52AQm91OIobuWqVYHNtbemWl9u/X2rsM6rNiJpf+lDzMzI2hYMwKPDRICiNpUaLi7GNpGvem4dp///9d/PeEFKCml320M//NExFMSOUq4AJMGlJx/Yopt7ymGSLq5dXl6wcuGpDBmRmJFzwoQAAgkcdBcSEjA1TLCpdwwPXSqkhRltdtmSWmX0Mt///09CqSF16zZjsBhdbC2itOfeTZKX2spjLWL//NExF0RWMa0AHvGcFoadcpN6xtnzzuU3umBk/CwV62Fq6nlYTArlkcqJS33KHDmVqXqeGs9///ZqjqEwxOsdhxhThjQhjwjdYDTLAxUuZdMulMv79LGn2gcwajoVTZv//NExGoQ8M6oAMvMcBZFKpVqrKrkT49JosJQqpCh7vJcNgqp//+VSo16f////TqqNExY4CfhEHTBQjAxNAwOUVBoACgRFViWUhnmeFpqaSl03Ln1kkvDAI1Eky8/80+///NExHkSEMJ4ANYSTGkpATRG7fc+jK3Yr9e3+3//3fFN1+vRIweUGVCAOCVbU7ERl/ZU9uluhNwiOhJ5lR9tI586kUcLNdNJWF4fMVPIJoeMkLUJFCVV4BZWA92y1j2U//NExIMR+Ko0AOYMTK3vuY44pW1mkY0BUCdG0TWbOgASIv/n0t+xn//zBBV/+CO4GxAtv+G+g2PkABw//CwwlhzRcwcp/+G8CPyCC8FEFl//4rok4ggFzg0Rkyn//+Ln//NExI4RuDIgAVsYACJh9xWhUDlBGYdOAwP///8OIDfAGAB+YYzAUWGLAwQAwQV8aYYn/////xQwYwAYALWLGHzjPCAAWUChxOYj8hhUae+7uF+JKEuuWXOEiBcqFlSp//NExJoiAypIAZmYADcuRMDhj2THgXCY4ahGh3kqXkDhqyjQY5JF8e5uSh02RQRNjyRqPcTslJiTDQyPKUkZI9mqrMC+bmZ9u60dE3rdDOMzopKvdJlsrQrVWpJE8ipS//NExGUhWyqoAZhoAEiipAv/TZ1sij3s6vNkVs7JLTZ0vR0dS112X/2oIpmCFcZbQ+VVmIJiXJWt5O1TEQwgrczi2EhioeabU3MCgPJIFWm24bqir2zZAkgJhQIiBU2r//NExDISgNa4Ac9IADDIfOLxiwOIyYYBEcESSP+xX//////vlf9DAnwOQf0+S+LXDx7QcARJRPAOHg/hODI5XiIqSHCVwkZRLyZk0SNWQLNFR8wkjl0o+s3Mud5d1eyl//NExDsTAT64AHsScJr61cAiE04U2rep4qkp//do+zsEBmYw9PsjvPHK2qYBIG+E5EdkvgjAuRIBaTSepC6sUDnBVEwOIyEhNDIPiAsFgLUHh6L0W3HN+VVXmfE6ilJQ//NExEIUeS6wAHvScAxcG3AMfJtWMAKBFPLd/9T8aE1yzMarGjsouLpJRWpDC4q03jRQwRxnORCC4sKmvAeGUCHZh1MkK6lOrGohQlRpephKbJ5yE1aSi+JQM2UScrdz//NExEMReNawAHvYcV/fRd6F2TVg4HKAS3a7he6N0psSFC4qYoy8lkpaH/Byo1bBHtXQoVHyYJiYlQoQSkuiWR5gmJ0qodVQ1jJOMz/tr6P9+/DJWgbi/cGpBXHtFJTR//NExFAQgNqsAHvScVCS4fgOcKQ6nAgTG3nS5x3G0FkxWPtis8YqSLcjWQF4Uvl5JfXurITv33n6w5Llw3DFwrBwtB3wU+zKpnq7khYU09G6Y+FpKC4ninS/IhYVD585//NExGEP8L6oAHseTdJkdpaSUIqCUgXDHekIAY2FAEWLtaVKvPBQBVkEKKuESEt///////oV7mT4fa6cmZllj5bet8K9MyVYHiUCwZAWB4hFTcOpO6qsrG2dLmEQfYeZ//NExHQSUMqgAHvMcFmJJHRizrCTQk1AkcDcmpgosgkasRDv//0f///QgaiE1VAyE4yX369Mn8zD521S2WT1ADtDKx6WcvlLfU5YQjF/0JGfHagOHJAqsZVM/5yrnCaO//NExH0SQNaYAHsScGhICC16EgkKAMCklJV//////1L6lSh8FwVFiJr5P5vz4F7bbLyx91QNT6UxaRKno6XXtsnR+ZrHoFp2GoY4pfSblyP5fqRTEkrHQZJA1wGHgIoR//NExIcSEU6UAGMGlF///////5e5+XxcwivPUzv+or8w45k9EgGQ+4QvialJy4rBw4iRwFZcLYVJDSK2goeJpstU9QCWoY8JjJ9Jxgx13T//////6y6OxyAlbRq1bfM6//NExJERQVaQAEsGlM2Zo0vbcXttNJi4rfWEz2WW9Qm5RHsTwMjRtcDFZNmZ5N9voaahzK7IZzC4NX47I1/8IgYNRcEppSlufkSFS5VU68q45EwWk02PTJmlu45IIhnr//NExJ8QQNaMAGJScBKgqGNwBHSoc5H70t9aTORHxFDR8w0LHSI+KK2M//////+lkJUABGrESPMjD2zE71LFvcXTe+bG2GGqMtRSqJStDnR6qYp1GUcCoO5PN5+I4HXE//NExLEPQV6IAGMKlVGE2a1j6SdqiL/urGNoUeTBJgxc8TINHj3UgGg6ZDSA7dzv/////xRtahak+wmkhyqRRkP2esKrzSnWjnjat4kR++Pc/bBZAv6ehYkBE59XUl1D//NExMcQ8U6AADsKlAw12kd6WqGOYmsIApuMdhEDRaHZucv27GGVml1jzmGfcm5IVWBUNU4kJzgNDmRGGh6c5o4UDvGqAqxoNqIHrMRctpc/f/8f//9/N1ww6SP//7U5//NExNYWWX5wAEvQlOKmKlKDOQavQwoSCi0oUrZ4CtbTebqvVAinnAZZQfM5DoKvaykS2zICqkaSpi+EAyVgDqLlZUIArkZEYQGkjKS7rLVlD1kck8o1t72NR7LibdL2//NExM8fkkpYAH4QuKS09a5xL25ycom2WCxMTe+mRMSG44XLrLUqnsqtxBGhEVAQsVYKs9OVSuHDxEV6Xf+p+2szAUdAMDooBoERojNKmQsjBFMHEI6aYN0LUOMIKK8h//NExKMhOZ5IAH4elOqXhbSZGmXlRVZjlMJOJaaGoSfF/HSHEZhtrJ0UA0AUgEyyIq5FNmmparW3krutjTSFRpZ6E4fFJw0KVzKwFATVgJDAm6wYR/9KH0h54q5riRs6//NExHEZ6XYgAEvSlM6taJx40BCiY0GPDBQKBQlOU/sGBiBQUEazhqGDiBQUGhoKpGpGf4sBRUekJAUKGvqKhQ1/FzISJP/doYMQFOvxSkxBTUUzLjEwMKqqTEFNRTMu//NExFwSoOHMAHmGcDEwMKqqqqqqqqqqqqqqqqqqqqqqqqqqqqqqqqqqqqqqqqqqqqqqqqqqqqqqqqqqqqqqqqqqqqqqqqqqqqqqqqqqqqqqqqqqqqqqqqqqTEFNRTMu//NExGQAAANIAAAAADEwMKqqqqqqqqqqqqqqqqqqqqqqqqqqqqqqqqqqqqqqqqqqqqqqqqqqqqqqqqqqqqqqqqqqqqqqqqqqqqqqqqqqqqqqqqqqqqqqqqqqTEFNRTMu//NExKwAAANIAAAAADEwMKqqqqqqqqqqqqqqqqqqqqqqqqqqqqqqqqqqqqqqqqqqqqqqqqqqqqqqqqqqqqqqqqqqqqqqqqqqqqqqqqqqqqqqqqqqqqqqqqqqTEFNRTMu//NExKwAAANIAAAAADEwMKqqqqqqqqqqqqqqqqqqqqqqqqqqqqqqqqqqqqqqqqqqqqqqqqqqqqqqqqqqqqqqqqqqqqqqqqqqqqqqqqqqqqqqqqqqqqqqqqqqTEFNRTMu//NExKwAAANIAAAAADEwMKqqqqqqqqqqqqqqqqqqqqqqqqqqqqqqqqqqqqqqqqqqqqqqqqqqqqqqqqqqqqqqqqqqqqqqqqqqqqqqqqqqqqqqqqqqqqqqqqqqTEFNRTMu//NExKwAAANIAAAAADEwMKqqqqqqqqqqqqqqqqqqqqqqqqqqqqqqqqqqqqqqqqqqqqqqqqqqqqqqqqqqqqqqqqqqqqqqqqqqqqqqqqqqqqqqqqqqqqqqqqqqTEFNRTMu//NExKwAAANIAAAAADEwMKqqqqqqqqqqqqqqqqqqqqqqqqqqqqqqqqqqqqqqqqqqqqqqqqqqqqqqqqqqqqqqqqqqqqqqqqqqqqqqqqqqqqqqqqqqqqqqqqqqTEFNRTMu//NExKwAAANIAAAAADEwMKqqqqqqqqqqqqqqqqqqqqqqqqqqqqqqqqqqqqqqqqqqqqqqqqqqqqqqqqqqqqqqqqqqqqqqqqqqqqqqqqqqqqqqqqqqqqqqqqqqTEFNRTMu//NExKwAAANIAAAAADEwMKqqqqqqqqqqqqqqqqqqqqqqqqqqqqqqqqqqqqqqqqqqqqqqqqqqqqqqqqqqqqqqqqqqqqqqqqqqqqqqqqqqqqqqqqqqqqqqqqqqTEFNRTMu//NExKwAAANIAAAAADEwMKqqqqqqqqqqqqqqqqqqqqqqqqqqqqqqqqqqqqqqqqqqqqqqqqqqqqqqqqqqqqqqqqqqqqqqqqqqqqqqqqqqqqqqqqqqqqqqqqqqTEFNRTMu//NExKwAAANIAAAAADEwMKqqqqqqqqqqqqqqqqqqqqqqqqqqqqqqqqqqqqqqqqqqqqqqqqqqqqqqqqqqqqqqqqqqqqqqqqqqqqqqqqqqqqqqqqqqqqqqqqqqTEFNRTMu//NExKwAAANIAAAAADEwMKqqqqqqqqqqqqqqqqqqqqqqqqqqqqqqqqqqqqqqqqqqqqqqqqqqqqqqqqqqqqqqqqqqqqqqqqqqqqqqqqqqqqqqqqqqqqqqqqqqTEFNRTMu//NExKwAAANIAAAAADEwMKqqqqqqqqqqqqqqqqqqqqqqqqqqqqqqqqqqqqqqqqqqqqqqqqqqqqqqqqqqqqqqqqqqqqqqqqqqqqqqqqqqqqqqqqqqqqqqqqqqTEFNRTMu//NExKwAAANIAAAAADEwMKqqqqqqqqqqqqqqqqqqqqqqqqqqqqqqqqqqqqqqqqqqqqqqqqqqqqqqqqqqqqqqqqqqqqqqqqqqqqqqqqqqqqqqqqqqqqqqqqqqTEFNRTMu//NExKwAAANIAAAAADEwMKqqqqqqqqqqqqqqqqqqqqqqqqqqqqqqqqqqqqqqqqqqqqqqqqqqqqqqqqqqqqqqqqqqqqqqqqqqqqqqqqqqqqqqqqqqqqqqqqqqTEFNRTMu//NExKwAAANIAAAAADEwMKqqqqqqqqqqqqqqqqqqqqqqqqqqqqqqqqqqqqqqqqqqqqqqqqqqqqqqqqqqqqqqqqqqqqqqqqqqqqqqqqqqqqqqqqqqqqqqqqqqTEFNRTMu//NExKwAAANIAAAAADEwMKqqqqqqqqqqqqqqqqqqqqqqqqqqqqqqqqqqqqqqqqqqqqqqqqqqqqqqqqqqqqqqqqqqqqqqqqqqqqqqqqqqqqqqqqqqqqqqqqqqTEFNRTMu//NExKwAAANIAAAAADEwMKqqqqqqqqqqqqqqqqqqqqqqqqqqqqqqqqqqqqqqqqqqqqqqqqqqqqqqqqqqqqqqqqqqqqqqqqqqqqqqqqqqqqqqqqqqqqqqqqqqTEFNRTMu//NExKwAAANIAAAAADEwMKqqqqqqqqqqqqqqqqqqqqqqqqqqqqqqqqqqqqqqqqqqqqqqqqqqqqqqqqqqqqqqqqqqqqqqqqqqqqqqqqqqqqqqqqqqqqqqqqqqTEFNRTMu//NExKwAAANIAAAAADEwMKqqqqqqqqqqqqqqqqqqqqqqqqqqqqqqqqqqqqqqqqqqqqqqqqqqqqqqqqqqqqqqqqqqqqqqqqqqqqqqqqqqqqqqqqqqqqqqqqqqTEFNRTMu//NExKwAAANIAAAAADEwMKqqqqqqqqqqqqqqqqqqqqqqqqqqqqqqqqqqqqqqqqqqqqqqqqqqqqqqqqqqqqqqqqqqqqqqqqqqqqqqqqqqqqqqqqqqqqqqqqqqTEFNRTMu//NExKwAAANIAAAAADEwMKqqqqqqqqqqqqqqqqqqqqqqqqqqqqqqqqqqqqqqqqqqqqqqqqqqqqqqqqqqqqqqqqqqqqqqqqqqqqqqqqqqqqqqqqqqqqqqqqqqTEFNRTMu//NExKwAAANIAAAAADEwMKqqqqqqqqqqqqqqqqqqqqqqqqqqqqqqqqqqqqqqqqqqqqqqqqqqqqqqqqqqqqqqqqqqqqqqqqqqqqqqqqqqqqqqqqqqqqqqqqqqTEFNRTMu//NExKwAAANIAAAAADEwMKqqqqqqqqqqqqqqqqqqqqqqqqqqqqqqqqqqqqqqqqqqqqqqqqqqqqqqqqqqqqqqqqqqqqqqqqqqqqqqqqqqqqqqqqqqqqqqqqqqTEFNRTMu//NExKwAAANIAAAAADEwMKqqqqqqqqqqqqqqqqqqqqqqqqqqqqqqqqqqqqqqqqqqqqqqqqqqqqqqqqqqqqqqqqqqqqqqqqqqqqqqqqqqqqqqqqqqqqqqqqqqTEFNRTMu//NExKwAAANIAAAAADEwMKqqqqqqqqqqqqqqqqqqqqqqqqqqqqqqqqqqqqqqqqqqqqqqqqqqqqqqqqqqqqqqqqqqqqqqqqqqqqqqqqqqqqqqqqqqqqqqqqqqTEFNRTMu//NExKwAAANIAAAAADEwMKqqqqqqqqqqqqqqqqqqqqqqqqqqqqqqqqqqqqqqqqqqqqqqqqqqqqqqqqqqqqqqqqqqqqqqqqqqqqqqqqqqqqqqqqqqqqqqqqqqqqqqqqqq//NExKwAAANIAAAAAKqqqqqqqqqqqqqqqqqqqqqqqqqqqqqqqqqqqqqqqqqqqqqqqqqqqqqqqqqqqqqqqqqqqqqqqqqqqqqqqqqqqqqqqqqqqqqqqqqqqqqqqqqqqqqq//NExKwAAANIAAAAAKqqqqqqqqqqqqqqqqqqqqqqqqqqqqqqqqqqqqqqqqqqqqqqqqqqqqqqqqqqqqqqqqqqqqqqqqqqqqqqqqqqqqqqqqqqqqqqqqqqqqqqqqqqqqqq//NExAAQyv4YAUgQASxcXcgFACgLFBQCwPE3d3MRE/+c5zn////////b////////5G/v+c5CEIQhCEOc5znOc5CEIQhCEFnOc5znOIIAAAAq52DvAIxqI/nP2D9ZPw7///NExA8U8yqQAZlQAL/INjfMeIMLg//QkPb/z3PKG//YwlG6CWA3/Z2M4FUUhdjFicv//+1Cw3ONRP///xXQ48wzdU/////9ipckZFLlnLjMnjpadAMJgcEWN8ohyIC4//NExA4TyW6oAdQ4AAAyZMrIqRvzzd/t7e//+vVJ7KJjCiwyEhAaj5Abq5AoNx8mOGoYQRQgk3Lewjoa9bH///pcg4TEABPmTcPs2weJ1avLsGEsZs1QHOZ2hFc0DHn7//NExBEWcw6oAMlOuO/jB3jvX/r9vT76IkewSCeWGxhU1kc0XnXIiMYyoVOVb6Tjd1MR0m07scYUPPZ1/////6U2cwkswsXmmF1Uw2fYohhc1lNcekHK3yLqtF1QaBHe//NExAoVCwqkANnKuaKHTBxUoEKPnzffygO37/f281+n/QcM1A8mcPHh0xHRxGiRUPjlgKCI7XZE9KP7t2P5OVP/////2+iuyJZTGM85rlmuiGMLD7E9qtzMSWSKyj33//NExAgTwv6YANHEuVOtoMTZWZJCW9j1vURiu3Y8BBLkT053neOdUO85qHLOUaua3K33o6I+hupS/6//7kedf//////vehqXUpUSVHsYd2KFIBdyTDpn/SoMFkc62sAg//NExAwUIwqIAOKEuT6uH7lRIIG/kOG5JPeh4lABUPRSc7n/9Cdk0b2d1Zk///r/////91OYQAgh0Ov/////5EoVk2ZCu6sVHawEgswYUgc8SoeV/DKqwAJJywCBgNd6//NExA4Q+vqMAOKEueswcGKZY9eC/7qJAERc8w8l3t7+ey+j/0p////////+mayykN//////t1u9/91MdGU4IArmIQFYExM/6W5hIGdBBl3GXqBhGiblK/hNjl4caIX5//NExB0QqJJ8ANvQTF5IoGUa6lW4GqDbGsniJpSZ7////8iCrv//r9BXlQVOhoGQEVEqNfzDxXIzEuMVFxaBNhkDYxZI4kCVC4OmpE5MENef6XYzTWoGdmISJ/ZwBVVA//NExC0SGJ5EAVsYAEYMKCmFEkQkDQlLAU7OlfJf//////+3+mnxY1UyApAgGuS7J5BaDqiE6t3FNRam8efG7Du7PJEYwOxNbKQtA8BMy4UFVMmq9zhQGAJ5T0VrRUpl//NExDcfoyIsAZpoATz6I8yEXRK3QajZJS9oX8lE3RJcedaHbZm1os5UShAL6lmRKFDd3r/ui3dFJE+gabstIxJch1XrXWpT/d/0avQvZajQ85oyRaenhqiiiHS3SRjE//NExAsTkya8AZgQABZF34cq4rHnw4GLkI5AQjiQzo57XI06Do5BL3QkhGq4Nn/PyMeraqRvncnV9l6///6NdKHTKY7////+VfVPX+3IhB2V1v9OkFxh71rstpsRisDX//NExA8R8T64Adk4ACfVNf3LHs5//QSGzjmud1ZeKixrIUAiHuxk1vT6+h+9RyNe1Vq1s/ZQyn///x2NKF0GSJEuPEUIJea7+Y4QUuXre6AkpAJYuqRl4Dj5kTddI2au//NExBoRwS60AMtOcLtUQl/AQw6Tobtt+7XU4s6wac5J+oARR363AvvM///XvFVHA8txNo48VAbkl5ujsVmihCkDV+OW+rTjFMA9SwePJmJeQoSgRY/Vos/ZOUEFMeQg//NExCYR+Ua0AMSGcEBJvckKf/924Wx6nWAgY8XA6Lx1n/////eN2IoLIDTFCJadj0qrWDBoExaa/VmqSKBTSgz+7+kgiU6y1hHaarr+bzx+v3jyaRCpOLmhKKKAqtCk//NExDESiNKwAMYMcF5EXA7jo46NEYNMGiJ//7////t30xZauQXVgqtTT6LgXuGoEKoxWXrlWoOgnQeXJFpOuIBuEb1tFv+WZMQJwcMJi8sW4d/Jbr05LCvnYRkcKBOO//NExDkSIVakANIGlCw840g5J/////9X9c0LqrXvdU7TD1EOYBeboQw18xhzGFQppHzeN06p8bbYM2650+jb+Zb1+ZmazEzS7YUNArFRym/9H/bQxsRDodFYlO9X//////NExEMSaVakAMvKlP/9cRAywNKdjUdYQMhEwDcQsF1yOnL3ZMQgB5sd/lIm4dzE15o/KycpalEU/5l60vt///7f////r7HdiEI7f/////87OxG/9LOcOo15deqgn55+//NExEwR0u6QAONEuUtkd5UAKaSZkddmYkkNNrXuzN8nMU4EBG0e7wriy6OoiPlm6/N3////////9tzg3DhhmL//////5/RF/vfwZXWLAPrq+7qhUSAM4rHT3LjY2DgY//NExFcR0wKQANqEuR/JmQZDOqnnns+Tf6uLHldLk6idQEAMLzqBASOFX7vKOLiA+TAYHEYglAx9nl/////1vPuYsCJqvSIqB34KCVmwRKeo4VBea4riukRW+cLTNUYl//NExGIRkNa0ANLScLSoHCeSfrCMmb5nr+v5a76Iqt8y0hCkSJuLpEcgMEWOWbzlCP////scykbKov1vCJgCFX9jPekW7//DoBimx+wsiguqO5DRUb90yPaw+vmcIXvd//NExG4R8Ya8AJRQlGlOyiOhTC5WZCqjlEDiKjkQPHCoiF3pm1WlhtLv////rv3rGCgBEv7HWsUuMf9QKAsMj9Y4zVVUdrdzbrWQuiaKVSCCRi9/t0/7DMvzNUemD6FE//NExHkRsXbAAMtKlJtkAwfRsLB0JBhbHnSgYWaIf///r0WzJEyC+hRCugoUIINQzMJYoIJSeWIqaYELooJK1pO6lrd1rZE6ld1kV5/5l6dz7VGLcEwdb93jal68P6hJ//NExIUR6ZLAAMtGlESbixTDq4fEJbZ///0q/LGgcA9DYFpvj7JrGuaF4arO3qmulFwebz3xEtZbs7vegmTa/5/39aOyaIPMp0o927s1H5f8yqpQFwUEoLoFyVL///63//NExJASme68AJtGmPre5gfqa4u4ANoQ4sT3wWGLuJPXHUniU2lEes03ZGtGl92DbDS0ziwVX9Ou4U5zfUY6ONXK/OHg/NjLyVYaYY35b2oZLGdy0F0moxD+cmKjOPqC//NExJgSUdq0AMrEmPODVOxLsW05e15bXVajWPud/rr3I0SKrEl20kahMkai3iNMgQDZvBo9JZMTtAhEHyxIaAOjDYjXLYIqKAi7zdZptv/2Vm6SMalDJS/pdVQoDDJl//NExKEiExakAHpSue+4Iz/26pHxj7ALJbuxuK1Rz7Lauozq2YSTmtJ91HdntRdmKShNlgiixjKUpP7KsuvflueZMiWaXVymlChY0VVQpQgRE7S1XIqKeOsBsQPEdKtG//NExGsdMyKkADjSvIKAuKCQiJQCk0pRX//3/v+nf/55iN3qfJJM5o4YqoZGeRTiBFehznFTXOVLiqCImOjmnYTcTEQ+MEBpg+IB8awiKiATEhQYOSqJ//++//41+euN//NExEkPkyK0ABAKvD6v+6XrvjmbtkvPPp4U7GwYMRY33MceSYKRY2TnGkUXDqfAeKVVkCANFDR5AoW7mlDpYXDwcEz4yDxt1f////+e+f//k2tto6Ol5rO9utqOzPMy//NExF0RSx64ABAQvDMjshDo5LIW7ixpSjyOREIOllFUhpGW9C3MOdyh8Qcp0HGEJhYxhzkMcSOYEjlBTJjOB8g4C4el+3/////+feYQDJGVfXasxS9K0ebmdSylVdzZ//NExGoRMwLEAABKuVl+syCq3KVnYpmluZQRZneFY1kAruqrKFKuFzASWg58X4vxcisi3vGVAyouq02WwktW7UW7/lxrg/////9shzM4GHBDOQj3ODRUAEDkIJijQwU5//NExHgSqr60AIBEuQQ1UYHhORuf//kfYm564ltsWbrf5Rky4HUi9IMgnMLR8gZ+H5DtuXV+n/5GyHRVO5BgoDkFxEXA4gNYwocouLETpliHrYKBYuaBRbm65U3d///U//NExIAP4VqoAMhElDBElbmIA9TxZbSN5zbdDWVfK/Mg3EDLZYiCA1GS1j3NuW5021maX9v3XPaJ55OrvSG/noVXKHO1KJVCgEdDx5gMxL+Eip5n9rf///GljSX7pZgq//NExJMSqTqoAMiKcHQypeb5GhN575Y+5hTjxFnIdQB8y20cwr43EmmJBHxyCcQkMyecYKa9nDMdO1E7e1E7+2f/5b8OQ6RBC232Jan/T////3M8WsoV3hlGTlFnttZG//NExJsSoSKoAMtMcAjgk5kWBCBEZKL0lE3VV8jQR9M0D5rYu4b54tSJFxcvCuof/Cn/5On+nvzTKFCK3bq3broVhIRhj/21yqBf//QymtNjhcswJDjxNcatVuRsWc1Q//NExKMRkSqkAMzWcLZByU2WXU7yB2WcNkQ9EiLsKGCiyoYkPAeYrmArIDpid1JmRUrUWH6Xfp//9dnBqu/VuvW7RQOA+7/rAnXQT//aKGIpaI0njQZQEXKV73BjYi6e//NExK8U4Y6YANPKlFvygw0CKej2o8AR37y4WBO/n7VCJcjrU4IK1ivfTJUChMP4UMs5vKkw5vLPfsf///nIzCyGs+qd0ek5w5XBML/200ueprn//tELG3touc86ZIGl//NExK4VEYqYANTKlP1K2wGVm9lJOqdiy0srT4qI7745AhCIrJstjuLIph+zWQ0Kkmq01vkTEY2e7hf/Gd7pr/9GQk8hFByred+n2Y5AIoVmf1afc1v/60ma/cBBeRUb//NExKwWIYqcAM4ElKt6Us7K6ocCW6wYDLRAlazkFLDMikdXD5XmiiSnAJFqYBKPrNiSpSryahHx02e8s6Enrr3z2VBItDZ0SjB5Z///////+y6ZkZ1xUCh2hObagQDr//NExKYUwZqgAMvElKFVjC0tEiRMpCwq/dbtftgmIThBzYx5hqLxKHkx6jwZkjd2qQ1+hs///+iv/////vsLVJP//////y9P3uyoKnDKLKKEgbSaf1jQWWwPeIQwYFx8//NExKYSALKcANPYTMpLGONccgso+eHOYyeE3DdRcuFJ+pBAmnmLgl48TRBldHTR19SP//+6oz/////3QtJp///////Jr/+9CqS5hLdFlNRbZl6ZxDbdlSBRKPHUr14P//NExLEUOwZ4ANtEuVt61iTBYAIjBMDeKTrCEkylXVAtJikbIHrQh2poTw0J8v+5XT+bwjRQCmrf/+M/////uB0KirxqoXKZ6Fp4OfKXPCsKDo7Jm2TnVWiy5YFNqZxu//NExLMTavqAANtEuTRly6aHFFBIknpVoM1l2TM3QrSuG2ow9Lm7s8lsExJE9sb9y8kZ1TN6cZ5Fws20/YNaeOE8sNuiVjsnhw2aaI+UsVlWl27oyYrT13ia1NUYIjGK//NExLgSaU6MANGGlOuVFHlHC/gdZ//9aWIRzAsMBMPC54H6l12bIMyK+dyChg8NM07KZDzq0FnUMcIATZ3kTc+pGEXOkdeEZZZkWxYjSDpWYSnJNZaJ+TpuiwkJzeB8//NExMEhIZ6UANYelGocGvrrGIb0ogOFhQQERETEyBAYeAgsIKoi5TnIKqHReKgOHz2FRY5FZ7GbdV2z9qM1LN7f////daKxtkjpiFHFGkTDKnRcSiDNkA5JBSBk1MZR//NExI8gEw6cAMvKuflRfWSugwNmZOpCWu+A172EvNjmZRu6fPSLRnx/md339/3bNaPcX4s7wnVW056d1Z6LhzXHEjf9Okhcj//0sSxC6LWcwMQbbOOIm3tXIFx1RH2+//NExGEUAZKwAIMMlBZHx2QFXJAM30czWElk7tUH0bAntZEnPpljIysvS/081yPZdyGKYrSSA3NGgwHjwHCY//69v//1VZ9ygD9wuQAGtuER+mAtWYAQWcOAGrSmH4Ur//NExGQSSXq0AMMElAzJR9YeWmCQTVxUGAEjcll57PWtAph6Xf9jgkRMhWTJsx0Bf/1o1O4QaX8s9LCnexbvRfuLdlPtlhHY4TroiVDYnjXZrL0h0RC4KsSUKOcazuWF//NExG0QOL60AHsYTBtasYj0vev///UzuolWJq7R3cHMgmEn//WqjxieAENT1FjQNCRox/CWZHpdYhbEMguA9j+TQPlUGxyP4dAXGRWD8ak5YRrT0GFOIf/u7jUkMHhI//NExH8RcaKwAMPElGA0wwVu//sXcqra4DtGBynCxeqtHwTU2nj6LccRWH+XAyz5HIcyoG8jSTK18TcMkWwurKhKuleigLAA603//ogVhRdo6ONmrP/9DRf///XotvGV//NExIwQkKasAHvYTG64I+FqwJJlSsimPJEHsWMylcahoCvJ8uRcieJcgKmNIOoWY0kNQtXuKh3iMoKs2f//eLBWg2sHQj//5ihP//9aEm0DauS4t42s0JLanG3+Txxo//NExJwRgJ6kAHveTHsMeIjByJAszXkLmEAiA8BwaAZwk0MiwS3VjQLCws53b//F8gwg1QuGGs//5r///9mlYvXdAEYxB7gwlGKendE8nlLRoR5NU4KHJ1iAoAXMfJbC//NExKkR0J6cAMPeTE7YH+Xkngkq+3KGLLvF86/////////5epNUAxGcJiv/+2tS///9Nd6FygkYnFW5gQLrSV3NzI2E4o0+RMTSHcT9DUNOEYYaIwFeymKIKRw6pIFH//NExLQQWJKYAMPYTNGyWcLf//84QLCgXBw4EzS///MO///299CVYHQcJyMwVQ6lPdVNznnHZUakDlLqfsFuhFCOMnpdDBHpJar9z4ZbWx//j/7v/////fvYFc5GdjOV//NExMUR4YqUAHvElAWoXJkT7P/XxS9v//R3awCqgCAnyDlOK41DRZ5bwwqzz9VO2Rvwl0CQolQr4zUcuGwREgpf0gjYsWJr6znf/9lX////+rSiLGsYSZQUWUxxgYAB//NExNAQ4JqQAMPeTNXLf+EWh800d//0xsqoWD5iSqFG2MURlFnTu0Kems1P5wSi7RTWVDBCPk4TQO0qg0ScmKhJ1mJVibITyufj7rZqW/t///6tzFOY4iMuEzDdyRwQ//NExN8SSZqMAHvElAQc4Sv/0pW0sDizdP//Uip4iSupcWgFEgtDguc3L1tDCnVifc4SHHKrj0JyQND1kxCFPC5oFXpZQV03vrV+sfpNX////Zc1mEmMCIDDUFiDrDpQ//NExOgUsaKAAMPElN0f8c9yJVL95VP927/RH0YZ0lxXlFGe2z4t3si5iG8sF9RUxYjsDCFuMchRPXAnyDggXSavUOgI6RviRoOtW/NQza803X/////+yzFukknDBpIq//NExOgVQZp4AHvOlA6OD0QRGFplWuJJc9Od+vKzx5wqz+38sR7ZEAowORKtXo20a2SmyUBhgfEoqGSBdhuyIQjBOOioqgZIjrDUf/7x1/////zKxikHh0aKCwiMFxUP//NExOYTeZp0AGPElARExwsqf//1C////9UM4UpSq1lhM2a//XWo3V0EdHiqgCEghKvU3OWDIOAiav7CgokKAwUYKlhGAolAICeGhEmsBE6ayoCRIKCoSPPxj2FQEBa3//NExOsYKbZgAHvQlEsBQkFTsJD/HpZ8YPxiGHZYeMVMQU1FMy4xMDBVVVVVVVVVVVVVVVVVVVVVVVVVVVVVVVVVVVVVVVVVVVVVVVVVVVVVVVVVVVVVVVVVTEFNRTMu//NExN0Q+Z4wADJKlDEwMFVVVVVVVVVVVVVVVVVVVVVVVVVVVVVVVVVVVVVVVVVVVVVVVVVVVVVVVVVVVVVVVVVVVVVVVVVVVVVVVVVVVVVVVVVVVVVVVVVVTEFNRTMu//NExOwWIMncAHsGcDEwMFVVVVVVVVVVVVVVVVVVVVVVVVVVVVVVVVVVVVVVVVVVVVVVVVVVVVVVVVVVVVVVVVVVVVVVVVVVVVVVVVVVVVVVVVVVVVVVVVVVTEFNRTMu//NExKwAAANIAAAAADEwMFVVVVVVVVVVVVVVVVVVVVVVVVVVVVVVVVVVVVVVVVVVVVVVVVVVVVVVVVVVVVVVVVVVVVVVVVVVVVVVVVVVVVVVVVVVVVVVVVVVjsDe3MKe//NExKwAAANIAAAAADpL0VhWGOeCrdMyEmMUhSE3MhRvI8R24LCreXxfH+rwIMKC+cVtbcHNDZSDDx4xONzVLWgnG5ubsWztNKUvNzc1StMmTJgCCzTL80bM0mTT82Zz//NExKwAAANIAAAAAD/mf/iwbMGjSgrLhYsSFEES9WUUair0GLrBguEZYftJhZ+QouMHGPCnkGO6DTxAfApSTmS2/gBAnMgf8fARgz7/PZfbr7/9zH/b++JMwdAk/807//NExKwAAANIAAAAAP/8zCPm2+B/mczD23jwCgvXpCTlVE8JiQqM9xnE7PpJMsGmrjmU9DFn+NZK0rZWflSsjVVUmuaw9Yf/xc1+xvnqsFKMetx6sNK/u56GluQDNEq+//NExP8YWXF0AHvMlKUHOCryWelniUOwVI0EkQ/UEWu0BoTLWHMxet/IvJp6WoiEaOIzzSsHoVlk1F4Tc1G4bkoyTSqcWqGrSxyMmWoZNZ+aywy/8jVgYkNeKpAQqkyo//NExPAWIMIMAGJQTVzKm+BRQk+tr/pFmOqF+FRbiipMQU1FMy4xMDCqqqqqqqqqqqqqqqqqqqqqqqqqqqqqqqqqqqqqqqqqqqqqqqqqqqqqqqqqqqqqqqqqTEFNRTMu//NExOoUKW4EAHpGlDEwMKqqqqqqqqqqqqqqqqqqqqqqqqqqqqqqqqqqqqqqqqqqqqqqqqqqqqqqqqqqqqqqqqqqqqqqqqqqqqqqqqqqqqqqqqqqqqqqqqqqTEFNRTMu//NExOwWCWmsAMJGlDEwMKqqqqqqqqqqqqqqqqqqqqqqqqqqqqqqqqqqqqqqqqqqqqqqqqqqqqqqqqqqqqqqqqqqqqqqqqqqqqqqqqqqqqqqqqqqqqqqqqqqqqqqqqqq//NExKwAAANIAAAAAKqqqqqqqqqqqqqqqqqqqqqqqqqqqqqqqqqqqqqqqqqqqqqqqqqqqqqqqqqqqqqqqqqqqqqqqqqqqqqqqqqqqqqqqqqqqqqqqqqqqqqqqqqqqqqq//NExKwAAANIAAAAAKqqqqqqqqqqqqqqqqqqqqqqqqqqqqqqqqqqqqqqqqqqqqqqqqqqqqqqqqqqqqqqqqqqqqqqqqqqqqqqqqqqqqqqqqqqqqqqqqqqqqqqqqqqqqqq\" type=\"audio/x-wav\" />\n",
              "                    Your browser does not support the audio element.\n",
              "                </audio>\n",
              "              "
            ]
          },
          "metadata": {}
        },
        {
          "output_type": "stream",
          "name": "stdout",
          "text": [
            "============================================================\n",
            "\n",
            "bye\n",
            "Doc Bot: Bye Bye Sampai jumpa lagi\n"
          ]
        }
      ],
      "source": [
        "#Start Chat\n",
        "print(\"Doc Bot: Mau nanya apa kamu tentang kabel laut\")\n",
        "\n",
        "exit_list=['exit','bye','keluar','quit', 'sampai jumpa']\n",
        "\n",
        "while(True):\n",
        "    user_input=input()\n",
        "    if user_input.lower() in exit_list:\n",
        "        print('Doc Bot: Bye Bye Sampai jumpa lagi')\n",
        "        break\n",
        "    else:\n",
        "        if greeting_response(user_input)!= None:\n",
        "            print('Doc Bot: '+ greeting_response(user_input))\n",
        "            \n",
        "        else:\n",
        "            print('Doc Bot: '+ bot_response(user_input))\n",
        "            tts = gTTS(bot_response(user_input), lang='id')\n",
        "            tts.save('mantap.wav')\n",
        "            time.sleep(0.08)\n",
        "            print(\"Kamu:\\n\")\n",
        "            ipd.display(ipd.Audio('mantap.wav', autoplay=True))\n",
        "            \n",
        "            print(\"=\"*60 + \"\\n\")"
      ]
    },
    {
      "cell_type": "code",
      "execution_count": 20,
      "metadata": {
        "id": "H8psLH5Ji4ng"
      },
      "outputs": [],
      "source": [
        "#Coba berikan input kalimat berikut\n",
        "\n",
        "# kabel laut adalah\n",
        "# kabel laut untuk komunikasi internasional adalah"
      ]
    }
  ],
  "metadata": {
    "accelerator": "GPU",
    "colab": {
      "collapsed_sections": [],
      "name": "ChatbotAI Text to Speech.ipynb",
      "provenance": [],
      "include_colab_link": true
    },
    "kernelspec": {
      "display_name": "Python 3",
      "language": "python",
      "name": "python3"
    },
    "language_info": {
      "codemirror_mode": {
        "name": "ipython",
        "version": 3
      },
      "file_extension": ".py",
      "mimetype": "text/x-python",
      "name": "python",
      "nbconvert_exporter": "python",
      "pygments_lexer": "ipython3",
      "version": "3.8.8"
    }
  },
  "nbformat": 4,
  "nbformat_minor": 0
}